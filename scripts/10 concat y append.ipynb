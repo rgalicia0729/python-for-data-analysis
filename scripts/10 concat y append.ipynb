{
 "metadata": {
  "language_info": {
   "codemirror_mode": {
    "name": "ipython",
    "version": 3
   },
   "file_extension": ".py",
   "mimetype": "text/x-python",
   "name": "python",
   "nbconvert_exporter": "python",
   "pygments_lexer": "ipython3",
   "version": "3.7.6-final"
  },
  "orig_nbformat": 2,
  "kernelspec": {
   "name": "python3",
   "display_name": "Python 3"
  }
 },
 "nbformat": 4,
 "nbformat_minor": 2,
 "cells": [
  {
   "cell_type": "markdown",
   "metadata": {},
   "source": [
    "# Concat y append"
   ]
  },
  {
   "cell_type": "code",
   "execution_count": 2,
   "metadata": {},
   "outputs": [],
   "source": [
    "import pandas as pd\n",
    "import numpy as np"
   ]
  },
  {
   "cell_type": "code",
   "execution_count": 3,
   "metadata": {},
   "outputs": [
    {
     "output_type": "execute_result",
     "data": {
      "text/plain": "'1.0.1'"
     },
     "metadata": {},
     "execution_count": 3
    }
   ],
   "source": [
    "pd.__version__"
   ]
  },
  {
   "cell_type": "code",
   "execution_count": 7,
   "metadata": {},
   "outputs": [],
   "source": [
    "# Precision a dos decimales a la libreria de python\n",
    "pd.options.display.float_format='{:,.2f}'.format"
   ]
  },
  {
   "cell_type": "code",
   "execution_count": 8,
   "metadata": {},
   "outputs": [],
   "source": [
    "# Precision a dos decimales a la libreria de numpy\n",
    "np.set_printoptions(precision=2)"
   ]
  },
  {
   "cell_type": "markdown",
   "metadata": {},
   "source": [
    "## Concatenación de matrices con numpy"
   ]
  },
  {
   "cell_type": "code",
   "execution_count": 13,
   "metadata": {},
   "outputs": [],
   "source": [
    "# Generando dos matrices con valores aleatorios\n",
    "x1 = np.random.rand(2, 5) * 100\n",
    "x2 = np.random.rand(2, 5) * -10"
   ]
  },
  {
   "cell_type": "code",
   "execution_count": 16,
   "metadata": {},
   "outputs": [
    {
     "output_type": "execute_result",
     "data": {
      "text/plain": "(array([[95.61, 81.16, 63.9 , 20.29, 13.91],\n        [79.14, 21.63, 66.02, 82.72, 51.63]]),\n array([[-2.17, -5.92, -7.66, -8.9 , -6.98],\n        [-8.15, -1.64, -5.19, -8.97, -9.01]]))"
     },
     "metadata": {},
     "execution_count": 16
    }
   ],
   "source": [
    "x1, x2"
   ]
  },
  {
   "cell_type": "code",
   "execution_count": 19,
   "metadata": {},
   "outputs": [
    {
     "output_type": "execute_result",
     "data": {
      "text/plain": "array([[95.61, 81.16, 63.9 , 20.29, 13.91],\n       [79.14, 21.63, 66.02, 82.72, 51.63],\n       [-2.17, -5.92, -7.66, -8.9 , -6.98],\n       [-8.15, -1.64, -5.19, -8.97, -9.01]])"
     },
     "metadata": {},
     "execution_count": 19
    }
   ],
   "source": [
    "# Concatenando las dos matrices\n",
    "np.concatenate([x1, x2])"
   ]
  },
  {
   "cell_type": "code",
   "execution_count": 20,
   "metadata": {},
   "outputs": [
    {
     "output_type": "execute_result",
     "data": {
      "text/plain": "array([[95.61, 81.16, 63.9 , 20.29, 13.91, -2.17, -5.92, -7.66, -8.9 ,\n        -6.98],\n       [79.14, 21.63, 66.02, 82.72, 51.63, -8.15, -1.64, -5.19, -8.97,\n        -9.01]])"
     },
     "metadata": {},
     "execution_count": 20
    }
   ],
   "source": [
    "# Concatenando las dos matrices por columnas\n",
    "np.concatenate([x1, x2], axis=1)"
   ]
  },
  {
   "cell_type": "markdown",
   "metadata": {},
   "source": [
    "## Concatenación de Series con pandas"
   ]
  },
  {
   "cell_type": "code",
   "execution_count": 23,
   "metadata": {},
   "outputs": [
    {
     "output_type": "execute_result",
     "data": {
      "text/plain": "a   95.61\nb   81.16\nc   63.90\nd   20.29\ne   13.91\ndtype: float64"
     },
     "metadata": {},
     "execution_count": 23
    }
   ],
   "source": [
    "s1 = pd.Series(x1[0], index=['a', 'b', 'c', 'd', 'e'])\n",
    "s1"
   ]
  },
  {
   "cell_type": "code",
   "execution_count": 24,
   "metadata": {},
   "outputs": [
    {
     "output_type": "execute_result",
     "data": {
      "text/plain": "c   -2.17\nd   -5.92\ne   -7.66\nf   -8.90\ng   -6.98\ndtype: float64"
     },
     "metadata": {},
     "execution_count": 24
    }
   ],
   "source": [
    "s2 = pd.Series(x2[0], index=['c', 'd', 'e', 'f', 'g'])\n",
    "s2"
   ]
  },
  {
   "cell_type": "code",
   "execution_count": 26,
   "metadata": {},
   "outputs": [
    {
     "output_type": "execute_result",
     "data": {
      "text/plain": "a   95.61\nb   81.16\nc   63.90\nd   20.29\ne   13.91\nc   -2.17\nd   -5.92\ne   -7.66\nf   -8.90\ng   -6.98\ndtype: float64"
     },
     "metadata": {},
     "execution_count": 26
    }
   ],
   "source": [
    "# Concatenando las dos series en filas\n",
    "pd.concat([s1, s2])"
   ]
  },
  {
   "cell_type": "code",
   "execution_count": 27,
   "metadata": {},
   "outputs": [
    {
     "output_type": "execute_result",
     "data": {
      "text/plain": "      0     1\na 95.61   nan\nb 81.16   nan\nc 63.90 -2.17\nd 20.29 -5.92\ne 13.91 -7.66\nf   nan -8.90\ng   nan -6.98",
      "text/html": "<div>\n<style scoped>\n    .dataframe tbody tr th:only-of-type {\n        vertical-align: middle;\n    }\n\n    .dataframe tbody tr th {\n        vertical-align: top;\n    }\n\n    .dataframe thead th {\n        text-align: right;\n    }\n</style>\n<table border=\"1\" class=\"dataframe\">\n  <thead>\n    <tr style=\"text-align: right;\">\n      <th></th>\n      <th>0</th>\n      <th>1</th>\n    </tr>\n  </thead>\n  <tbody>\n    <tr>\n      <th>a</th>\n      <td>95.61</td>\n      <td>nan</td>\n    </tr>\n    <tr>\n      <th>b</th>\n      <td>81.16</td>\n      <td>nan</td>\n    </tr>\n    <tr>\n      <th>c</th>\n      <td>63.90</td>\n      <td>-2.17</td>\n    </tr>\n    <tr>\n      <th>d</th>\n      <td>20.29</td>\n      <td>-5.92</td>\n    </tr>\n    <tr>\n      <th>e</th>\n      <td>13.91</td>\n      <td>-7.66</td>\n    </tr>\n    <tr>\n      <th>f</th>\n      <td>nan</td>\n      <td>-8.90</td>\n    </tr>\n    <tr>\n      <th>g</th>\n      <td>nan</td>\n      <td>-6.98</td>\n    </tr>\n  </tbody>\n</table>\n</div>"
     },
     "metadata": {},
     "execution_count": 27
    }
   ],
   "source": [
    "# Concatenando las dos series por columnas\n",
    "pd.concat([s1, s2], axis=1)"
   ]
  },
  {
   "cell_type": "code",
   "execution_count": 31,
   "metadata": {},
   "outputs": [
    {
     "output_type": "execute_result",
     "data": {
      "text/plain": "      0     1\n0 95.61 -2.17\n1 81.16 -5.92\n2 63.90 -7.66\n3 20.29 -8.90\n4 13.91 -6.98",
      "text/html": "<div>\n<style scoped>\n    .dataframe tbody tr th:only-of-type {\n        vertical-align: middle;\n    }\n\n    .dataframe tbody tr th {\n        vertical-align: top;\n    }\n\n    .dataframe thead th {\n        text-align: right;\n    }\n</style>\n<table border=\"1\" class=\"dataframe\">\n  <thead>\n    <tr style=\"text-align: right;\">\n      <th></th>\n      <th>0</th>\n      <th>1</th>\n    </tr>\n  </thead>\n  <tbody>\n    <tr>\n      <th>0</th>\n      <td>95.61</td>\n      <td>-2.17</td>\n    </tr>\n    <tr>\n      <th>1</th>\n      <td>81.16</td>\n      <td>-5.92</td>\n    </tr>\n    <tr>\n      <th>2</th>\n      <td>63.90</td>\n      <td>-7.66</td>\n    </tr>\n    <tr>\n      <th>3</th>\n      <td>20.29</td>\n      <td>-8.90</td>\n    </tr>\n    <tr>\n      <th>4</th>\n      <td>13.91</td>\n      <td>-6.98</td>\n    </tr>\n  </tbody>\n</table>\n</div>"
     },
     "metadata": {},
     "execution_count": 31
    }
   ],
   "source": [
    "# Si nuestro objetivo es concatenar dos series sin respetar el indice, debemos resetear el indice antes de realizar la concatenacion.\n",
    "pd.concat([s1.reset_index(drop=True), s2.reset_index(drop=True)], axis=1)"
   ]
  },
  {
   "cell_type": "markdown",
   "metadata": {},
   "source": [
    "## Concatenación de dataframes con pandas"
   ]
  },
  {
   "cell_type": "code",
   "execution_count": 42,
   "metadata": {},
   "outputs": [
    {
     "output_type": "execute_result",
     "data": {
      "text/plain": "      a     b\n1 45.58 72.92\n2  5.82  8.45\n3 23.62 45.29\n4 35.87 58.59\n5 33.62 64.78",
      "text/html": "<div>\n<style scoped>\n    .dataframe tbody tr th:only-of-type {\n        vertical-align: middle;\n    }\n\n    .dataframe tbody tr th {\n        vertical-align: top;\n    }\n\n    .dataframe thead th {\n        text-align: right;\n    }\n</style>\n<table border=\"1\" class=\"dataframe\">\n  <thead>\n    <tr style=\"text-align: right;\">\n      <th></th>\n      <th>a</th>\n      <th>b</th>\n    </tr>\n  </thead>\n  <tbody>\n    <tr>\n      <th>1</th>\n      <td>45.58</td>\n      <td>72.92</td>\n    </tr>\n    <tr>\n      <th>2</th>\n      <td>5.82</td>\n      <td>8.45</td>\n    </tr>\n    <tr>\n      <th>3</th>\n      <td>23.62</td>\n      <td>45.29</td>\n    </tr>\n    <tr>\n      <th>4</th>\n      <td>35.87</td>\n      <td>58.59</td>\n    </tr>\n    <tr>\n      <th>5</th>\n      <td>33.62</td>\n      <td>64.78</td>\n    </tr>\n  </tbody>\n</table>\n</div>"
     },
     "metadata": {},
     "execution_count": 42
    }
   ],
   "source": [
    "df1 = pd.DataFrame(np.random.rand(5, 2) * 100, columns=['a', 'b'], index=[1, 2, 3, 4, 5])\n",
    "df1"
   ]
  },
  {
   "cell_type": "code",
   "execution_count": 43,
   "metadata": {},
   "outputs": [
    {
     "output_type": "execute_result",
     "data": {
      "text/plain": "      a     b\n5 -0.02 -0.65\n6 -0.19 -0.18\n7 -0.96 -0.39\n8 -0.89 -0.38\n9 -0.68 -0.96",
      "text/html": "<div>\n<style scoped>\n    .dataframe tbody tr th:only-of-type {\n        vertical-align: middle;\n    }\n\n    .dataframe tbody tr th {\n        vertical-align: top;\n    }\n\n    .dataframe thead th {\n        text-align: right;\n    }\n</style>\n<table border=\"1\" class=\"dataframe\">\n  <thead>\n    <tr style=\"text-align: right;\">\n      <th></th>\n      <th>a</th>\n      <th>b</th>\n    </tr>\n  </thead>\n  <tbody>\n    <tr>\n      <th>5</th>\n      <td>-0.02</td>\n      <td>-0.65</td>\n    </tr>\n    <tr>\n      <th>6</th>\n      <td>-0.19</td>\n      <td>-0.18</td>\n    </tr>\n    <tr>\n      <th>7</th>\n      <td>-0.96</td>\n      <td>-0.39</td>\n    </tr>\n    <tr>\n      <th>8</th>\n      <td>-0.89</td>\n      <td>-0.38</td>\n    </tr>\n    <tr>\n      <th>9</th>\n      <td>-0.68</td>\n      <td>-0.96</td>\n    </tr>\n  </tbody>\n</table>\n</div>"
     },
     "metadata": {},
     "execution_count": 43
    }
   ],
   "source": [
    "df2 = pd.DataFrame(np.random.rand(5, 2) * -1, columns=['a', 'b'], index=[5, 6, 7, 8, 9])\n",
    "df2"
   ]
  },
  {
   "cell_type": "code",
   "execution_count": 44,
   "metadata": {},
   "outputs": [
    {
     "output_type": "execute_result",
     "data": {
      "text/plain": "      a     b\n1 45.58 72.92\n2  5.82  8.45\n3 23.62 45.29\n4 35.87 58.59\n5 33.62 64.78\n5 -0.02 -0.65\n6 -0.19 -0.18\n7 -0.96 -0.39\n8 -0.89 -0.38\n9 -0.68 -0.96",
      "text/html": "<div>\n<style scoped>\n    .dataframe tbody tr th:only-of-type {\n        vertical-align: middle;\n    }\n\n    .dataframe tbody tr th {\n        vertical-align: top;\n    }\n\n    .dataframe thead th {\n        text-align: right;\n    }\n</style>\n<table border=\"1\" class=\"dataframe\">\n  <thead>\n    <tr style=\"text-align: right;\">\n      <th></th>\n      <th>a</th>\n      <th>b</th>\n    </tr>\n  </thead>\n  <tbody>\n    <tr>\n      <th>1</th>\n      <td>45.58</td>\n      <td>72.92</td>\n    </tr>\n    <tr>\n      <th>2</th>\n      <td>5.82</td>\n      <td>8.45</td>\n    </tr>\n    <tr>\n      <th>3</th>\n      <td>23.62</td>\n      <td>45.29</td>\n    </tr>\n    <tr>\n      <th>4</th>\n      <td>35.87</td>\n      <td>58.59</td>\n    </tr>\n    <tr>\n      <th>5</th>\n      <td>33.62</td>\n      <td>64.78</td>\n    </tr>\n    <tr>\n      <th>5</th>\n      <td>-0.02</td>\n      <td>-0.65</td>\n    </tr>\n    <tr>\n      <th>6</th>\n      <td>-0.19</td>\n      <td>-0.18</td>\n    </tr>\n    <tr>\n      <th>7</th>\n      <td>-0.96</td>\n      <td>-0.39</td>\n    </tr>\n    <tr>\n      <th>8</th>\n      <td>-0.89</td>\n      <td>-0.38</td>\n    </tr>\n    <tr>\n      <th>9</th>\n      <td>-0.68</td>\n      <td>-0.96</td>\n    </tr>\n  </tbody>\n</table>\n</div>"
     },
     "metadata": {},
     "execution_count": 44
    }
   ],
   "source": [
    "# Concatenando los dos dataframe\n",
    "pd.concat([df1, df2])"
   ]
  },
  {
   "cell_type": "code",
   "execution_count": 45,
   "metadata": {},
   "outputs": [
    {
     "output_type": "execute_result",
     "data": {
      "text/plain": "      a     b     a     b\n1 45.58 72.92   nan   nan\n2  5.82  8.45   nan   nan\n3 23.62 45.29   nan   nan\n4 35.87 58.59   nan   nan\n5 33.62 64.78 -0.02 -0.65\n6   nan   nan -0.19 -0.18\n7   nan   nan -0.96 -0.39\n8   nan   nan -0.89 -0.38\n9   nan   nan -0.68 -0.96",
      "text/html": "<div>\n<style scoped>\n    .dataframe tbody tr th:only-of-type {\n        vertical-align: middle;\n    }\n\n    .dataframe tbody tr th {\n        vertical-align: top;\n    }\n\n    .dataframe thead th {\n        text-align: right;\n    }\n</style>\n<table border=\"1\" class=\"dataframe\">\n  <thead>\n    <tr style=\"text-align: right;\">\n      <th></th>\n      <th>a</th>\n      <th>b</th>\n      <th>a</th>\n      <th>b</th>\n    </tr>\n  </thead>\n  <tbody>\n    <tr>\n      <th>1</th>\n      <td>45.58</td>\n      <td>72.92</td>\n      <td>nan</td>\n      <td>nan</td>\n    </tr>\n    <tr>\n      <th>2</th>\n      <td>5.82</td>\n      <td>8.45</td>\n      <td>nan</td>\n      <td>nan</td>\n    </tr>\n    <tr>\n      <th>3</th>\n      <td>23.62</td>\n      <td>45.29</td>\n      <td>nan</td>\n      <td>nan</td>\n    </tr>\n    <tr>\n      <th>4</th>\n      <td>35.87</td>\n      <td>58.59</td>\n      <td>nan</td>\n      <td>nan</td>\n    </tr>\n    <tr>\n      <th>5</th>\n      <td>33.62</td>\n      <td>64.78</td>\n      <td>-0.02</td>\n      <td>-0.65</td>\n    </tr>\n    <tr>\n      <th>6</th>\n      <td>nan</td>\n      <td>nan</td>\n      <td>-0.19</td>\n      <td>-0.18</td>\n    </tr>\n    <tr>\n      <th>7</th>\n      <td>nan</td>\n      <td>nan</td>\n      <td>-0.96</td>\n      <td>-0.39</td>\n    </tr>\n    <tr>\n      <th>8</th>\n      <td>nan</td>\n      <td>nan</td>\n      <td>-0.89</td>\n      <td>-0.38</td>\n    </tr>\n    <tr>\n      <th>9</th>\n      <td>nan</td>\n      <td>nan</td>\n      <td>-0.68</td>\n      <td>-0.96</td>\n    </tr>\n  </tbody>\n</table>\n</div>"
     },
     "metadata": {},
     "execution_count": 45
    }
   ],
   "source": [
    "# Concatenando los dos dataframe a lo largo de la columna\n",
    "pd.concat([df1, df2], axis=1)"
   ]
  },
  {
   "cell_type": "code",
   "execution_count": 48,
   "metadata": {},
   "outputs": [
    {
     "output_type": "execute_result",
     "data": {
      "text/plain": "      a     b     a     b\n5 33.62 64.78 -0.02 -0.65",
      "text/html": "<div>\n<style scoped>\n    .dataframe tbody tr th:only-of-type {\n        vertical-align: middle;\n    }\n\n    .dataframe tbody tr th {\n        vertical-align: top;\n    }\n\n    .dataframe thead th {\n        text-align: right;\n    }\n</style>\n<table border=\"1\" class=\"dataframe\">\n  <thead>\n    <tr style=\"text-align: right;\">\n      <th></th>\n      <th>a</th>\n      <th>b</th>\n      <th>a</th>\n      <th>b</th>\n    </tr>\n  </thead>\n  <tbody>\n    <tr>\n      <th>5</th>\n      <td>33.62</td>\n      <td>64.78</td>\n      <td>-0.02</td>\n      <td>-0.65</td>\n    </tr>\n  </tbody>\n</table>\n</div>"
     },
     "metadata": {},
     "execution_count": 48
    }
   ],
   "source": [
    "# Si lo que deceamos es concatenar los elementos que comparten el indice lo podemos hacer utilizando el atributo join.\n",
    "pd.concat([df1, df2], axis=1, join='inner')"
   ]
  },
  {
   "cell_type": "code",
   "execution_count": 49,
   "metadata": {},
   "outputs": [
    {
     "output_type": "execute_result",
     "data": {
      "text/plain": "      a     b     a     b\n0 45.58 72.92 -0.02 -0.65\n1  5.82  8.45 -0.19 -0.18\n2 23.62 45.29 -0.96 -0.39\n3 35.87 58.59 -0.89 -0.38\n4 33.62 64.78 -0.68 -0.96",
      "text/html": "<div>\n<style scoped>\n    .dataframe tbody tr th:only-of-type {\n        vertical-align: middle;\n    }\n\n    .dataframe tbody tr th {\n        vertical-align: top;\n    }\n\n    .dataframe thead th {\n        text-align: right;\n    }\n</style>\n<table border=\"1\" class=\"dataframe\">\n  <thead>\n    <tr style=\"text-align: right;\">\n      <th></th>\n      <th>a</th>\n      <th>b</th>\n      <th>a</th>\n      <th>b</th>\n    </tr>\n  </thead>\n  <tbody>\n    <tr>\n      <th>0</th>\n      <td>45.58</td>\n      <td>72.92</td>\n      <td>-0.02</td>\n      <td>-0.65</td>\n    </tr>\n    <tr>\n      <th>1</th>\n      <td>5.82</td>\n      <td>8.45</td>\n      <td>-0.19</td>\n      <td>-0.18</td>\n    </tr>\n    <tr>\n      <th>2</th>\n      <td>23.62</td>\n      <td>45.29</td>\n      <td>-0.96</td>\n      <td>-0.39</td>\n    </tr>\n    <tr>\n      <th>3</th>\n      <td>35.87</td>\n      <td>58.59</td>\n      <td>-0.89</td>\n      <td>-0.38</td>\n    </tr>\n    <tr>\n      <th>4</th>\n      <td>33.62</td>\n      <td>64.78</td>\n      <td>-0.68</td>\n      <td>-0.96</td>\n    </tr>\n  </tbody>\n</table>\n</div>"
     },
     "metadata": {},
     "execution_count": 49
    }
   ],
   "source": [
    "# Podemos concatenar dos dataframe y no respetar sus indices\n",
    "pd.concat([df1.reset_index(drop=True), df2.reset_index(drop=True)], axis=1)"
   ]
  },
  {
   "cell_type": "markdown",
   "metadata": {},
   "source": [
    "## Unir dos DataFrame utilizando append"
   ]
  },
  {
   "cell_type": "code",
   "execution_count": 51,
   "metadata": {},
   "outputs": [
    {
     "output_type": "execute_result",
     "data": {
      "text/plain": "      a     b\n1 45.58 72.92\n2  5.82  8.45\n3 23.62 45.29\n4 35.87 58.59\n5 33.62 64.78\n5 -0.02 -0.65\n6 -0.19 -0.18\n7 -0.96 -0.39\n8 -0.89 -0.38\n9 -0.68 -0.96",
      "text/html": "<div>\n<style scoped>\n    .dataframe tbody tr th:only-of-type {\n        vertical-align: middle;\n    }\n\n    .dataframe tbody tr th {\n        vertical-align: top;\n    }\n\n    .dataframe thead th {\n        text-align: right;\n    }\n</style>\n<table border=\"1\" class=\"dataframe\">\n  <thead>\n    <tr style=\"text-align: right;\">\n      <th></th>\n      <th>a</th>\n      <th>b</th>\n    </tr>\n  </thead>\n  <tbody>\n    <tr>\n      <th>1</th>\n      <td>45.58</td>\n      <td>72.92</td>\n    </tr>\n    <tr>\n      <th>2</th>\n      <td>5.82</td>\n      <td>8.45</td>\n    </tr>\n    <tr>\n      <th>3</th>\n      <td>23.62</td>\n      <td>45.29</td>\n    </tr>\n    <tr>\n      <th>4</th>\n      <td>35.87</td>\n      <td>58.59</td>\n    </tr>\n    <tr>\n      <th>5</th>\n      <td>33.62</td>\n      <td>64.78</td>\n    </tr>\n    <tr>\n      <th>5</th>\n      <td>-0.02</td>\n      <td>-0.65</td>\n    </tr>\n    <tr>\n      <th>6</th>\n      <td>-0.19</td>\n      <td>-0.18</td>\n    </tr>\n    <tr>\n      <th>7</th>\n      <td>-0.96</td>\n      <td>-0.39</td>\n    </tr>\n    <tr>\n      <th>8</th>\n      <td>-0.89</td>\n      <td>-0.38</td>\n    </tr>\n    <tr>\n      <th>9</th>\n      <td>-0.68</td>\n      <td>-0.96</td>\n    </tr>\n  </tbody>\n</table>\n</div>"
     },
     "metadata": {},
     "execution_count": 51
    }
   ],
   "source": [
    "# Uniendo los DataFrame a lo largo de las filas\n",
    "df1.append(df2)"
   ]
  },
  {
   "cell_type": "code",
   "execution_count": 54,
   "metadata": {},
   "outputs": [
    {
     "output_type": "execute_result",
     "data": {
      "text/plain": "      a     b     a     b\n1 45.58 72.92   nan   nan\n2  5.82  8.45   nan   nan\n3 23.62 45.29   nan   nan\n4 35.87 58.59   nan   nan\n5 33.62 64.78 -0.02 -0.65\n6   nan   nan -0.19 -0.18\n7   nan   nan -0.96 -0.39\n8   nan   nan -0.89 -0.38\n9   nan   nan -0.68 -0.96",
      "text/html": "<div>\n<style scoped>\n    .dataframe tbody tr th:only-of-type {\n        vertical-align: middle;\n    }\n\n    .dataframe tbody tr th {\n        vertical-align: top;\n    }\n\n    .dataframe thead th {\n        text-align: right;\n    }\n</style>\n<table border=\"1\" class=\"dataframe\">\n  <thead>\n    <tr style=\"text-align: right;\">\n      <th></th>\n      <th>a</th>\n      <th>b</th>\n      <th>a</th>\n      <th>b</th>\n    </tr>\n  </thead>\n  <tbody>\n    <tr>\n      <th>1</th>\n      <td>45.58</td>\n      <td>72.92</td>\n      <td>nan</td>\n      <td>nan</td>\n    </tr>\n    <tr>\n      <th>2</th>\n      <td>5.82</td>\n      <td>8.45</td>\n      <td>nan</td>\n      <td>nan</td>\n    </tr>\n    <tr>\n      <th>3</th>\n      <td>23.62</td>\n      <td>45.29</td>\n      <td>nan</td>\n      <td>nan</td>\n    </tr>\n    <tr>\n      <th>4</th>\n      <td>35.87</td>\n      <td>58.59</td>\n      <td>nan</td>\n      <td>nan</td>\n    </tr>\n    <tr>\n      <th>5</th>\n      <td>33.62</td>\n      <td>64.78</td>\n      <td>-0.02</td>\n      <td>-0.65</td>\n    </tr>\n    <tr>\n      <th>6</th>\n      <td>nan</td>\n      <td>nan</td>\n      <td>-0.19</td>\n      <td>-0.18</td>\n    </tr>\n    <tr>\n      <th>7</th>\n      <td>nan</td>\n      <td>nan</td>\n      <td>-0.96</td>\n      <td>-0.39</td>\n    </tr>\n    <tr>\n      <th>8</th>\n      <td>nan</td>\n      <td>nan</td>\n      <td>-0.89</td>\n      <td>-0.38</td>\n    </tr>\n    <tr>\n      <th>9</th>\n      <td>nan</td>\n      <td>nan</td>\n      <td>-0.68</td>\n      <td>-0.96</td>\n    </tr>\n  </tbody>\n</table>\n</div>"
     },
     "metadata": {},
     "execution_count": 54
    }
   ],
   "source": [
    "# Uniendo dos DataFrame a lo largo de las columnas utilizando la transpuesta\n",
    "df1.T.append(df2.T).T"
   ]
  },
  {
   "cell_type": "code",
   "execution_count": null,
   "metadata": {},
   "outputs": [],
   "source": []
  }
 ]
}