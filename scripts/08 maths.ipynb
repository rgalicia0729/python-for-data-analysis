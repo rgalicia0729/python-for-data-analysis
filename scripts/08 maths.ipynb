{
 "cells": [
  {
   "cell_type": "markdown",
   "metadata": {},
   "source": [
    "# Funciones matematicas"
   ]
  },
  {
   "cell_type": "code",
   "execution_count": 2,
   "metadata": {},
   "outputs": [],
   "source": [
    "import pandas as pd\n",
    "import numpy as np"
   ]
  },
  {
   "cell_type": "code",
   "execution_count": 3,
   "metadata": {},
   "outputs": [
    {
     "output_type": "execute_result",
     "data": {
      "text/plain": "'1.0.1'"
     },
     "metadata": {},
     "execution_count": 3
    }
   ],
   "source": [
    "pd.__version__"
   ]
  },
  {
   "cell_type": "code",
   "execution_count": 5,
   "metadata": {
    "tags": []
   },
   "outputs": [
    {
     "output_type": "execute_result",
     "data": {
      "text/plain": "             timestamp  cnt   t1   t2    hum  wind_speed  weather_code  \\\n0  2015-01-04 00:00:00  182  3.0  2.0   93.0         6.0           3.0   \n1  2015-01-04 01:00:00  138  3.0  2.5   93.0         5.0           1.0   \n2  2015-01-04 02:00:00  134  2.5  2.5   96.5         0.0           1.0   \n3  2015-01-04 03:00:00   72  2.0  2.0  100.0         0.0           1.0   \n4  2015-01-04 04:00:00   47  2.0  0.0   93.0         6.5           1.0   \n\n   is_holiday  is_weekend  season  \n0         0.0         1.0     3.0  \n1         0.0         1.0     3.0  \n2         0.0         1.0     3.0  \n3         0.0         1.0     3.0  \n4         0.0         1.0     3.0  ",
      "text/html": "<div>\n<style scoped>\n    .dataframe tbody tr th:only-of-type {\n        vertical-align: middle;\n    }\n\n    .dataframe tbody tr th {\n        vertical-align: top;\n    }\n\n    .dataframe thead th {\n        text-align: right;\n    }\n</style>\n<table border=\"1\" class=\"dataframe\">\n  <thead>\n    <tr style=\"text-align: right;\">\n      <th></th>\n      <th>timestamp</th>\n      <th>cnt</th>\n      <th>t1</th>\n      <th>t2</th>\n      <th>hum</th>\n      <th>wind_speed</th>\n      <th>weather_code</th>\n      <th>is_holiday</th>\n      <th>is_weekend</th>\n      <th>season</th>\n    </tr>\n  </thead>\n  <tbody>\n    <tr>\n      <th>0</th>\n      <td>2015-01-04 00:00:00</td>\n      <td>182</td>\n      <td>3.0</td>\n      <td>2.0</td>\n      <td>93.0</td>\n      <td>6.0</td>\n      <td>3.0</td>\n      <td>0.0</td>\n      <td>1.0</td>\n      <td>3.0</td>\n    </tr>\n    <tr>\n      <th>1</th>\n      <td>2015-01-04 01:00:00</td>\n      <td>138</td>\n      <td>3.0</td>\n      <td>2.5</td>\n      <td>93.0</td>\n      <td>5.0</td>\n      <td>1.0</td>\n      <td>0.0</td>\n      <td>1.0</td>\n      <td>3.0</td>\n    </tr>\n    <tr>\n      <th>2</th>\n      <td>2015-01-04 02:00:00</td>\n      <td>134</td>\n      <td>2.5</td>\n      <td>2.5</td>\n      <td>96.5</td>\n      <td>0.0</td>\n      <td>1.0</td>\n      <td>0.0</td>\n      <td>1.0</td>\n      <td>3.0</td>\n    </tr>\n    <tr>\n      <th>3</th>\n      <td>2015-01-04 03:00:00</td>\n      <td>72</td>\n      <td>2.0</td>\n      <td>2.0</td>\n      <td>100.0</td>\n      <td>0.0</td>\n      <td>1.0</td>\n      <td>0.0</td>\n      <td>1.0</td>\n      <td>3.0</td>\n    </tr>\n    <tr>\n      <th>4</th>\n      <td>2015-01-04 04:00:00</td>\n      <td>47</td>\n      <td>2.0</td>\n      <td>0.0</td>\n      <td>93.0</td>\n      <td>6.5</td>\n      <td>1.0</td>\n      <td>0.0</td>\n      <td>1.0</td>\n      <td>3.0</td>\n    </tr>\n  </tbody>\n</table>\n</div>"
     },
     "metadata": {},
     "execution_count": 5
    }
   ],
   "source": [
    "df_lmerged = pd.read_csv('../../datasets/london-bike/london-bike-sharing.csv')\n",
    "df_lmerged.head()"
   ]
  },
  {
   "cell_type": "code",
   "execution_count": 6,
   "metadata": {},
   "outputs": [
    {
     "output_type": "execute_result",
     "data": {
      "text/plain": "timestamp        object\ncnt               int64\nt1              float64\nt2              float64\nhum             float64\nwind_speed      float64\nweather_code    float64\nis_holiday      float64\nis_weekend      float64\nseason          float64\ndtype: object"
     },
     "metadata": {},
     "execution_count": 6
    }
   ],
   "source": [
    "df_lmerged.dtypes"
   ]
  },
  {
   "cell_type": "code",
   "execution_count": 13,
   "metadata": {},
   "outputs": [
    {
     "output_type": "execute_result",
     "data": {
      "text/plain": "timestamp       datetime64[ns]\ncnt                      int64\nt1                     float64\nt2                     float64\nhum                    float64\nwind_speed             float64\nweather_code           float64\nis_holiday             float64\nis_weekend             float64\nseason                 float64\nhour                     int64\ndtype: object"
     },
     "metadata": {},
     "execution_count": 13
    }
   ],
   "source": [
    "df_lmerged['timestamp'] = pd.to_datetime(df_lmerged['timestamp'])\n",
    "df_lmerged.dtypes"
   ]
  },
  {
   "cell_type": "code",
   "execution_count": 14,
   "metadata": {},
   "outputs": [
    {
     "output_type": "execute_result",
     "data": {
      "text/plain": "0         0\n1         1\n2         2\n3         3\n4         4\n         ..\n17409    19\n17410    20\n17411    21\n17412    22\n17413    23\nName: hour, Length: 17414, dtype: int64"
     },
     "metadata": {},
     "execution_count": 14
    }
   ],
   "source": [
    "# Creacion de una columna llamada hora que almacene la hora del registro\n",
    "df_lmerged['hour'] = df_lmerged['timestamp'].dt.hour\n",
    "df_lmerged['hour']"
   ]
  },
  {
   "cell_type": "code",
   "execution_count": 15,
   "metadata": {},
   "outputs": [
    {
     "output_type": "execute_result",
     "data": {
      "text/plain": "        cnt   t1   t2    hum  wind_speed  weather_code  is_holiday  \\\n0       182  3.0  2.0   93.0         6.0           3.0         0.0   \n1       138  3.0  2.5   93.0         5.0           1.0         0.0   \n2       134  2.5  2.5   96.5         0.0           1.0         0.0   \n3        72  2.0  2.0  100.0         0.0           1.0         0.0   \n4        47  2.0  0.0   93.0         6.5           1.0         0.0   \n...     ...  ...  ...    ...         ...           ...         ...   \n17409  1042  5.0  1.0   81.0        19.0           3.0         0.0   \n17410   541  5.0  1.0   81.0        21.0           4.0         0.0   \n17411   337  5.5  1.5   78.5        24.0           4.0         0.0   \n17412   224  5.5  1.5   76.0        23.0           4.0         0.0   \n17413   139  5.0  1.0   76.0        22.0           2.0         0.0   \n\n       is_weekend  season  hour  \n0             1.0     3.0     0  \n1             1.0     3.0     1  \n2             1.0     3.0     2  \n3             1.0     3.0     3  \n4             1.0     3.0     4  \n...           ...     ...   ...  \n17409         0.0     3.0    19  \n17410         0.0     3.0    20  \n17411         0.0     3.0    21  \n17412         0.0     3.0    22  \n17413         0.0     3.0    23  \n\n[17414 rows x 10 columns]",
      "text/html": "<div>\n<style scoped>\n    .dataframe tbody tr th:only-of-type {\n        vertical-align: middle;\n    }\n\n    .dataframe tbody tr th {\n        vertical-align: top;\n    }\n\n    .dataframe thead th {\n        text-align: right;\n    }\n</style>\n<table border=\"1\" class=\"dataframe\">\n  <thead>\n    <tr style=\"text-align: right;\">\n      <th></th>\n      <th>cnt</th>\n      <th>t1</th>\n      <th>t2</th>\n      <th>hum</th>\n      <th>wind_speed</th>\n      <th>weather_code</th>\n      <th>is_holiday</th>\n      <th>is_weekend</th>\n      <th>season</th>\n      <th>hour</th>\n    </tr>\n  </thead>\n  <tbody>\n    <tr>\n      <th>0</th>\n      <td>182</td>\n      <td>3.0</td>\n      <td>2.0</td>\n      <td>93.0</td>\n      <td>6.0</td>\n      <td>3.0</td>\n      <td>0.0</td>\n      <td>1.0</td>\n      <td>3.0</td>\n      <td>0</td>\n    </tr>\n    <tr>\n      <th>1</th>\n      <td>138</td>\n      <td>3.0</td>\n      <td>2.5</td>\n      <td>93.0</td>\n      <td>5.0</td>\n      <td>1.0</td>\n      <td>0.0</td>\n      <td>1.0</td>\n      <td>3.0</td>\n      <td>1</td>\n    </tr>\n    <tr>\n      <th>2</th>\n      <td>134</td>\n      <td>2.5</td>\n      <td>2.5</td>\n      <td>96.5</td>\n      <td>0.0</td>\n      <td>1.0</td>\n      <td>0.0</td>\n      <td>1.0</td>\n      <td>3.0</td>\n      <td>2</td>\n    </tr>\n    <tr>\n      <th>3</th>\n      <td>72</td>\n      <td>2.0</td>\n      <td>2.0</td>\n      <td>100.0</td>\n      <td>0.0</td>\n      <td>1.0</td>\n      <td>0.0</td>\n      <td>1.0</td>\n      <td>3.0</td>\n      <td>3</td>\n    </tr>\n    <tr>\n      <th>4</th>\n      <td>47</td>\n      <td>2.0</td>\n      <td>0.0</td>\n      <td>93.0</td>\n      <td>6.5</td>\n      <td>1.0</td>\n      <td>0.0</td>\n      <td>1.0</td>\n      <td>3.0</td>\n      <td>4</td>\n    </tr>\n    <tr>\n      <th>...</th>\n      <td>...</td>\n      <td>...</td>\n      <td>...</td>\n      <td>...</td>\n      <td>...</td>\n      <td>...</td>\n      <td>...</td>\n      <td>...</td>\n      <td>...</td>\n      <td>...</td>\n    </tr>\n    <tr>\n      <th>17409</th>\n      <td>1042</td>\n      <td>5.0</td>\n      <td>1.0</td>\n      <td>81.0</td>\n      <td>19.0</td>\n      <td>3.0</td>\n      <td>0.0</td>\n      <td>0.0</td>\n      <td>3.0</td>\n      <td>19</td>\n    </tr>\n    <tr>\n      <th>17410</th>\n      <td>541</td>\n      <td>5.0</td>\n      <td>1.0</td>\n      <td>81.0</td>\n      <td>21.0</td>\n      <td>4.0</td>\n      <td>0.0</td>\n      <td>0.0</td>\n      <td>3.0</td>\n      <td>20</td>\n    </tr>\n    <tr>\n      <th>17411</th>\n      <td>337</td>\n      <td>5.5</td>\n      <td>1.5</td>\n      <td>78.5</td>\n      <td>24.0</td>\n      <td>4.0</td>\n      <td>0.0</td>\n      <td>0.0</td>\n      <td>3.0</td>\n      <td>21</td>\n    </tr>\n    <tr>\n      <th>17412</th>\n      <td>224</td>\n      <td>5.5</td>\n      <td>1.5</td>\n      <td>76.0</td>\n      <td>23.0</td>\n      <td>4.0</td>\n      <td>0.0</td>\n      <td>0.0</td>\n      <td>3.0</td>\n      <td>22</td>\n    </tr>\n    <tr>\n      <th>17413</th>\n      <td>139</td>\n      <td>5.0</td>\n      <td>1.0</td>\n      <td>76.0</td>\n      <td>22.0</td>\n      <td>2.0</td>\n      <td>0.0</td>\n      <td>0.0</td>\n      <td>3.0</td>\n      <td>23</td>\n    </tr>\n  </tbody>\n</table>\n<p>17414 rows × 10 columns</p>\n</div>"
     },
     "metadata": {},
     "execution_count": 15
    }
   ],
   "source": [
    "df = df_lmerged.iloc[:,1:]\n",
    "df"
   ]
  },
  {
   "cell_type": "code",
   "execution_count": 16,
   "metadata": {},
   "outputs": [
    {
     "output_type": "execute_result",
     "data": {
      "text/plain": "0         9.008221\n1         9.867648\n2        10.000000\n3        10.000000\n4         9.013013\n           ...    \n17409    10.279387\n17410    10.923470\n17411     9.114047\n17412    10.936473\n17413    10.193503\nName: wind_speed, Length: 17414, dtype: float64"
     },
     "metadata": {},
     "execution_count": 16
    }
   ],
   "source": [
    "# Podemos hacer operaciones en una columna de un data frame\n",
    "np.sin(df['wind_speed'] ** 2) + 10"
   ]
  },
  {
   "cell_type": "code",
   "execution_count": 19,
   "metadata": {},
   "outputs": [
    {
     "output_type": "execute_result",
     "data": {
      "text/plain": "0        1.0\n1        0.5\n2        0.0\n3        0.0\n4        2.0\n        ... \n17409    4.0\n17410    4.0\n17411    4.0\n17412    4.0\n17413    4.0\nLength: 17414, dtype: float64"
     },
     "metadata": {},
     "execution_count": 19
    }
   ],
   "source": [
    "# Tambien podemos hacer operaciones entre columnas\n",
    "df['t1'] - df['t2']"
   ]
  },
  {
   "cell_type": "code",
   "execution_count": 20,
   "metadata": {},
   "outputs": [
    {
     "output_type": "execute_result",
     "data": {
      "text/plain": "0        3.0\n2        2.5\n4        2.0\n6        1.0\n8        1.5\n        ... \n17404    6.0\n17406    6.0\n17408    5.0\n17410    5.0\n17412    5.5\nName: t1, Length: 8707, dtype: float64"
     },
     "metadata": {},
     "execution_count": 20
    }
   ],
   "source": [
    "# Seleccionar valores solo de los indices pares\n",
    "df['t1'].iloc[::2]"
   ]
  },
  {
   "cell_type": "code",
   "execution_count": 21,
   "metadata": {},
   "outputs": [
    {
     "output_type": "execute_result",
     "data": {
      "text/plain": "0        1.0\n1        NaN\n2        0.0\n3        NaN\n4        2.0\n        ... \n17409    NaN\n17410    4.0\n17411    NaN\n17412    4.0\n17413    NaN\nLength: 17414, dtype: float64"
     },
     "metadata": {},
     "execution_count": 21
    }
   ],
   "source": [
    "# Con los valores pares seleccionados podemos realizar operaciones\n",
    "df['t1'].iloc[::2] - df['t2']"
   ]
  },
  {
   "cell_type": "markdown",
   "metadata": {},
   "source": [
    "### Funciones matematicas\n",
    "\n",
    "- (+) add()\n",
    "- (-) sub(), substract()\n",
    "- (*) mul(), multiply()\n",
    "- (/) truediv(), div(), divide()\n",
    "- // floordiv()\n",
    "- % mod()\n",
    "- ** pow()"
   ]
  },
  {
   "cell_type": "code",
   "execution_count": 26,
   "metadata": {},
   "outputs": [
    {
     "output_type": "execute_result",
     "data": {
      "text/plain": "0         1.0\n1        97.5\n2         0.0\n3        98.0\n4         2.0\n         ... \n17409    99.0\n17410     4.0\n17411    98.5\n17412     4.0\n17413    99.0\nLength: 17414, dtype: float64"
     },
     "metadata": {},
     "execution_count": 26
    }
   ],
   "source": [
    "# Manejo de los valores NaN, remplazar NaN por 100\n",
    "df['t1'].iloc[::2].sub(df['t2'], fill_value = 100)"
   ]
  },
  {
   "cell_type": "code",
   "execution_count": 27,
   "metadata": {},
   "outputs": [
    {
     "output_type": "execute_result",
     "data": {
      "text/plain": "0        1.500000\n1        1.200000\n2        1.000000\n3        1.000000\n4             inf\n           ...   \n17409    5.000000\n17410    5.000000\n17411    3.666667\n17412    3.666667\n17413    5.000000\nLength: 17414, dtype: float64"
     },
     "metadata": {},
     "execution_count": 27
    }
   ],
   "source": [
    "df['t1'] / df['t2']"
   ]
  },
  {
   "cell_type": "code",
   "execution_count": 28,
   "metadata": {},
   "outputs": [
    {
     "output_type": "execute_result",
     "data": {
      "text/plain": "3247652.777777778"
     },
     "metadata": {},
     "execution_count": 28
    }
   ],
   "source": [
    "# Para hacer el producto punto\n",
    "df['t1'].dot(df['t1'])"
   ]
  },
  {
   "cell_type": "markdown",
   "metadata": {},
   "source": [
    "## Funciones mas complejas y lambdas"
   ]
  },
  {
   "cell_type": "code",
   "execution_count": 2,
   "metadata": {},
   "outputs": [],
   "source": [
    "def func_1(x):\n",
    "    y = x ** 2 + 1\n",
    "    return y"
   ]
  },
  {
   "cell_type": "code",
   "execution_count": 3,
   "metadata": {},
   "outputs": [
    {
     "output_type": "execute_result",
     "data": {
      "text/plain": "26"
     },
     "metadata": {},
     "execution_count": 3
    }
   ],
   "source": [
    "func_1(5)"
   ]
  },
  {
   "cell_type": "code",
   "execution_count": 6,
   "metadata": {},
   "outputs": [
    {
     "output_type": "execute_result",
     "data": {
      "text/plain": "array([-5, -4, -3, -2, -1,  0,  1,  2,  3,  4,  5])"
     },
     "metadata": {},
     "execution_count": 6
    }
   ],
   "source": [
    "a = np.arange(-5, 6)\n",
    "a"
   ]
  },
  {
   "cell_type": "code",
   "execution_count": 7,
   "metadata": {},
   "outputs": [
    {
     "output_type": "execute_result",
     "data": {
      "text/plain": "array([26, 17, 10,  5,  2,  1,  2,  5, 10, 17, 26])"
     },
     "metadata": {},
     "execution_count": 7
    }
   ],
   "source": [
    " func_1(a)"
   ]
  },
  {
   "cell_type": "code",
   "execution_count": 17,
   "metadata": {},
   "outputs": [
    {
     "output_type": "execute_result",
     "data": {
      "text/plain": "0          1\n1          2\n2          5\n3         10\n4         17\n        ... \n17409    362\n17410    401\n17411    442\n17412    485\n17413    530\nName: hour, Length: 17414, dtype: int64"
     },
     "metadata": {},
     "execution_count": 17
    }
   ],
   "source": [
    "df['hour'].apply(func_1)"
   ]
  },
  {
   "cell_type": "code",
   "execution_count": 18,
   "metadata": {},
   "outputs": [],
   "source": [
    "def func_2(x, a=1, b=0):\n",
    "    y = x ** 2 + a * x + b\n",
    "    return y"
   ]
  },
  {
   "cell_type": "code",
   "execution_count": 22,
   "metadata": {},
   "outputs": [
    {
     "output_type": "execute_result",
     "data": {
      "text/plain": "390"
     },
     "metadata": {},
     "execution_count": 22
    }
   ],
   "source": [
    "func_2(10, a=30, b=-10)"
   ]
  },
  {
   "cell_type": "code",
   "execution_count": 24,
   "metadata": {},
   "outputs": [
    {
     "output_type": "execute_result",
     "data": {
      "text/plain": "0        -10\n1         11\n2         34\n3         59\n4         86\n        ... \n17409    731\n17410    790\n17411    851\n17412    914\n17413    979\nName: hour, Length: 17414, dtype: int64"
     },
     "metadata": {},
     "execution_count": 24
    }
   ],
   "source": [
    "df['hour'].apply(func_2, args=(20, -10))"
   ]
  },
  {
   "cell_type": "code",
   "execution_count": 25,
   "metadata": {},
   "outputs": [
    {
     "output_type": "execute_result",
     "data": {
      "text/plain": "0        -10\n1         11\n2         34\n3         59\n4         86\n        ... \n17409    731\n17410    790\n17411    851\n17412    914\n17413    979\nName: hour, Length: 17414, dtype: int64"
     },
     "metadata": {},
     "execution_count": 25
    }
   ],
   "source": [
    "df['hour'].apply(func_2, a=20, b=-10)"
   ]
  },
  {
   "cell_type": "code",
   "execution_count": 26,
   "metadata": {},
   "outputs": [
    {
     "output_type": "execute_result",
     "data": {
      "text/plain": "0        276.0\n1        276.0\n2        275.5\n3        275.0\n4        275.0\n         ...  \n17409    278.0\n17410    278.0\n17411    278.5\n17412    278.5\n17413    278.0\nName: t1, Length: 17414, dtype: float64"
     },
     "metadata": {},
     "execution_count": 26
    }
   ],
   "source": [
    "df['t1'].apply(lambda x : x + 273)"
   ]
  },
  {
   "cell_type": "code",
   "execution_count": 27,
   "metadata": {},
   "outputs": [
    {
     "output_type": "execute_result",
     "data": {
      "text/plain": "cnt             1143.101642\nt1                12.468091\nt2                11.520836\nhum               72.324954\nwind_speed        15.913063\nweather_code       2.722752\nis_holiday         0.022051\nis_weekend         0.285403\nseason             1.492075\nhour              11.513265\ndtype: float64"
     },
     "metadata": {},
     "execution_count": 27
    }
   ],
   "source": [
    "df.apply(lambda x : x.mean())"
   ]
  },
  {
   "cell_type": "code",
   "execution_count": 30,
   "metadata": {},
   "outputs": [
    {
     "output_type": "execute_result",
     "data": {
      "text/plain": "0         29.30\n1         24.75\n2         24.25\n3         18.40\n4         15.75\n          ...  \n17409    117.30\n17410     67.60\n17411     47.45\n17412     35.90\n17413     27.10\nLength: 17414, dtype: float64"
     },
     "metadata": {},
     "execution_count": 30
    }
   ],
   "source": [
    "df.apply(lambda x : x.mean(), axis=1)"
   ]
  },
  {
   "cell_type": "code",
   "execution_count": 35,
   "metadata": {},
   "outputs": [
    {
     "output_type": "execute_result",
     "data": {
      "text/plain": "0        1.0\n1        0.5\n2        0.0\n3        0.0\n4        2.0\n        ... \n17409    4.0\n17410    4.0\n17411    4.0\n17412    4.0\n17413    4.0\nLength: 17414, dtype: float64"
     },
     "metadata": {},
     "execution_count": 35
    }
   ],
   "source": [
    "df.apply(lambda x : x['t1'] - x['t2'], axis=1)"
   ]
  },
  {
   "cell_type": "code",
   "execution_count": 37,
   "metadata": {},
   "outputs": [
    {
     "output_type": "execute_result",
     "data": {
      "text/plain": "         cnt      t1      t2     hum  wind_speed  weather_code  is_holiday  \\\n0      0.182  0.0030  0.0020  0.0930      0.0060         0.003         0.0   \n1      0.138  0.0030  0.0025  0.0930      0.0050         0.001         0.0   \n2      0.134  0.0025  0.0025  0.0965      0.0000         0.001         0.0   \n3      0.072  0.0020  0.0020  0.1000      0.0000         0.001         0.0   \n4      0.047  0.0020  0.0000  0.0930      0.0065         0.001         0.0   \n...      ...     ...     ...     ...         ...           ...         ...   \n17409  1.042  0.0050  0.0010  0.0810      0.0190         0.003         0.0   \n17410  0.541  0.0050  0.0010  0.0810      0.0210         0.004         0.0   \n17411  0.337  0.0055  0.0015  0.0785      0.0240         0.004         0.0   \n17412  0.224  0.0055  0.0015  0.0760      0.0230         0.004         0.0   \n17413  0.139  0.0050  0.0010  0.0760      0.0220         0.002         0.0   \n\n       is_weekend  season   hour  \n0           0.001   0.003  0.000  \n1           0.001   0.003  0.001  \n2           0.001   0.003  0.002  \n3           0.001   0.003  0.003  \n4           0.001   0.003  0.004  \n...           ...     ...    ...  \n17409       0.000   0.003  0.019  \n17410       0.000   0.003  0.020  \n17411       0.000   0.003  0.021  \n17412       0.000   0.003  0.022  \n17413       0.000   0.003  0.023  \n\n[17414 rows x 10 columns]",
      "text/html": "<div>\n<style scoped>\n    .dataframe tbody tr th:only-of-type {\n        vertical-align: middle;\n    }\n\n    .dataframe tbody tr th {\n        vertical-align: top;\n    }\n\n    .dataframe thead th {\n        text-align: right;\n    }\n</style>\n<table border=\"1\" class=\"dataframe\">\n  <thead>\n    <tr style=\"text-align: right;\">\n      <th></th>\n      <th>cnt</th>\n      <th>t1</th>\n      <th>t2</th>\n      <th>hum</th>\n      <th>wind_speed</th>\n      <th>weather_code</th>\n      <th>is_holiday</th>\n      <th>is_weekend</th>\n      <th>season</th>\n      <th>hour</th>\n    </tr>\n  </thead>\n  <tbody>\n    <tr>\n      <th>0</th>\n      <td>0.182</td>\n      <td>0.0030</td>\n      <td>0.0020</td>\n      <td>0.0930</td>\n      <td>0.0060</td>\n      <td>0.003</td>\n      <td>0.0</td>\n      <td>0.001</td>\n      <td>0.003</td>\n      <td>0.000</td>\n    </tr>\n    <tr>\n      <th>1</th>\n      <td>0.138</td>\n      <td>0.0030</td>\n      <td>0.0025</td>\n      <td>0.0930</td>\n      <td>0.0050</td>\n      <td>0.001</td>\n      <td>0.0</td>\n      <td>0.001</td>\n      <td>0.003</td>\n      <td>0.001</td>\n    </tr>\n    <tr>\n      <th>2</th>\n      <td>0.134</td>\n      <td>0.0025</td>\n      <td>0.0025</td>\n      <td>0.0965</td>\n      <td>0.0000</td>\n      <td>0.001</td>\n      <td>0.0</td>\n      <td>0.001</td>\n      <td>0.003</td>\n      <td>0.002</td>\n    </tr>\n    <tr>\n      <th>3</th>\n      <td>0.072</td>\n      <td>0.0020</td>\n      <td>0.0020</td>\n      <td>0.1000</td>\n      <td>0.0000</td>\n      <td>0.001</td>\n      <td>0.0</td>\n      <td>0.001</td>\n      <td>0.003</td>\n      <td>0.003</td>\n    </tr>\n    <tr>\n      <th>4</th>\n      <td>0.047</td>\n      <td>0.0020</td>\n      <td>0.0000</td>\n      <td>0.0930</td>\n      <td>0.0065</td>\n      <td>0.001</td>\n      <td>0.0</td>\n      <td>0.001</td>\n      <td>0.003</td>\n      <td>0.004</td>\n    </tr>\n    <tr>\n      <th>...</th>\n      <td>...</td>\n      <td>...</td>\n      <td>...</td>\n      <td>...</td>\n      <td>...</td>\n      <td>...</td>\n      <td>...</td>\n      <td>...</td>\n      <td>...</td>\n      <td>...</td>\n    </tr>\n    <tr>\n      <th>17409</th>\n      <td>1.042</td>\n      <td>0.0050</td>\n      <td>0.0010</td>\n      <td>0.0810</td>\n      <td>0.0190</td>\n      <td>0.003</td>\n      <td>0.0</td>\n      <td>0.000</td>\n      <td>0.003</td>\n      <td>0.019</td>\n    </tr>\n    <tr>\n      <th>17410</th>\n      <td>0.541</td>\n      <td>0.0050</td>\n      <td>0.0010</td>\n      <td>0.0810</td>\n      <td>0.0210</td>\n      <td>0.004</td>\n      <td>0.0</td>\n      <td>0.000</td>\n      <td>0.003</td>\n      <td>0.020</td>\n    </tr>\n    <tr>\n      <th>17411</th>\n      <td>0.337</td>\n      <td>0.0055</td>\n      <td>0.0015</td>\n      <td>0.0785</td>\n      <td>0.0240</td>\n      <td>0.004</td>\n      <td>0.0</td>\n      <td>0.000</td>\n      <td>0.003</td>\n      <td>0.021</td>\n    </tr>\n    <tr>\n      <th>17412</th>\n      <td>0.224</td>\n      <td>0.0055</td>\n      <td>0.0015</td>\n      <td>0.0760</td>\n      <td>0.0230</td>\n      <td>0.004</td>\n      <td>0.0</td>\n      <td>0.000</td>\n      <td>0.003</td>\n      <td>0.022</td>\n    </tr>\n    <tr>\n      <th>17413</th>\n      <td>0.139</td>\n      <td>0.0050</td>\n      <td>0.0010</td>\n      <td>0.0760</td>\n      <td>0.0220</td>\n      <td>0.002</td>\n      <td>0.0</td>\n      <td>0.000</td>\n      <td>0.003</td>\n      <td>0.023</td>\n    </tr>\n  </tbody>\n</table>\n<p>17414 rows × 10 columns</p>\n</div>"
     },
     "metadata": {},
     "execution_count": 37
    }
   ],
   "source": [
    "df.applymap(lambda x : x / 1000)"
   ]
  },
  {
   "cell_type": "code",
   "execution_count": null,
   "metadata": {},
   "outputs": [],
   "source": []
  }
 ],
 "metadata": {
  "language_info": {
   "codemirror_mode": {
    "name": "ipython",
    "version": 3
   },
   "file_extension": ".py",
   "mimetype": "text/x-python",
   "name": "python",
   "nbconvert_exporter": "python",
   "pygments_lexer": "ipython3",
   "version": "3.7.6-final"
  },
  "orig_nbformat": 2,
  "kernelspec": {
   "name": "python3",
   "display_name": "Python 3"
  }
 },
 "nbformat": 4,
 "nbformat_minor": 2
}