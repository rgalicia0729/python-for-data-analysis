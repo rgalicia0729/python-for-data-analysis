{
 "metadata": {
  "language_info": {
   "codemirror_mode": {
    "name": "ipython",
    "version": 3
   },
   "file_extension": ".py",
   "mimetype": "text/x-python",
   "name": "python",
   "nbconvert_exporter": "python",
   "pygments_lexer": "ipython3",
   "version": "3.7.6-final"
  },
  "orig_nbformat": 2,
  "kernelspec": {
   "name": "python3",
   "display_name": "Python 3"
  }
 },
 "nbformat": 4,
 "nbformat_minor": 2,
 "cells": [
  {
   "cell_type": "markdown",
   "metadata": {},
   "source": [
    "# Group by"
   ]
  },
  {
   "cell_type": "code",
   "execution_count": 1,
   "metadata": {},
   "outputs": [],
   "source": [
    "import pandas as pd\n",
    "import numpy as np"
   ]
  },
  {
   "cell_type": "code",
   "execution_count": 2,
   "metadata": {},
   "outputs": [
    {
     "output_type": "execute_result",
     "data": {
      "text/plain": "'1.0.1'"
     },
     "metadata": {},
     "execution_count": 2
    }
   ],
   "source": [
    "pd.__version__"
   ]
  },
  {
   "cell_type": "code",
   "execution_count": 4,
   "metadata": {},
   "outputs": [
    {
     "output_type": "execute_result",
     "data": {
      "text/plain": "   carat      cut color clarity  depth  table  price     x     y     z\n0   0.23    Ideal     E     SI2   61.5   55.0    326  3.95  3.98  2.43\n1   0.21  Premium     E     SI1   59.8   61.0    326  3.89  3.84  2.31\n2   0.23     Good     E     VS1   56.9   65.0    327  4.05  4.07  2.31\n3   0.29  Premium     I     VS2   62.4   58.0    334  4.20  4.23  2.63\n4   0.31     Good     J     SI2   63.3   58.0    335  4.34  4.35  2.75",
      "text/html": "<div>\n<style scoped>\n    .dataframe tbody tr th:only-of-type {\n        vertical-align: middle;\n    }\n\n    .dataframe tbody tr th {\n        vertical-align: top;\n    }\n\n    .dataframe thead th {\n        text-align: right;\n    }\n</style>\n<table border=\"1\" class=\"dataframe\">\n  <thead>\n    <tr style=\"text-align: right;\">\n      <th></th>\n      <th>carat</th>\n      <th>cut</th>\n      <th>color</th>\n      <th>clarity</th>\n      <th>depth</th>\n      <th>table</th>\n      <th>price</th>\n      <th>x</th>\n      <th>y</th>\n      <th>z</th>\n    </tr>\n  </thead>\n  <tbody>\n    <tr>\n      <th>0</th>\n      <td>0.23</td>\n      <td>Ideal</td>\n      <td>E</td>\n      <td>SI2</td>\n      <td>61.5</td>\n      <td>55.0</td>\n      <td>326</td>\n      <td>3.95</td>\n      <td>3.98</td>\n      <td>2.43</td>\n    </tr>\n    <tr>\n      <th>1</th>\n      <td>0.21</td>\n      <td>Premium</td>\n      <td>E</td>\n      <td>SI1</td>\n      <td>59.8</td>\n      <td>61.0</td>\n      <td>326</td>\n      <td>3.89</td>\n      <td>3.84</td>\n      <td>2.31</td>\n    </tr>\n    <tr>\n      <th>2</th>\n      <td>0.23</td>\n      <td>Good</td>\n      <td>E</td>\n      <td>VS1</td>\n      <td>56.9</td>\n      <td>65.0</td>\n      <td>327</td>\n      <td>4.05</td>\n      <td>4.07</td>\n      <td>2.31</td>\n    </tr>\n    <tr>\n      <th>3</th>\n      <td>0.29</td>\n      <td>Premium</td>\n      <td>I</td>\n      <td>VS2</td>\n      <td>62.4</td>\n      <td>58.0</td>\n      <td>334</td>\n      <td>4.20</td>\n      <td>4.23</td>\n      <td>2.63</td>\n    </tr>\n    <tr>\n      <th>4</th>\n      <td>0.31</td>\n      <td>Good</td>\n      <td>J</td>\n      <td>SI2</td>\n      <td>63.3</td>\n      <td>58.0</td>\n      <td>335</td>\n      <td>4.34</td>\n      <td>4.35</td>\n      <td>2.75</td>\n    </tr>\n  </tbody>\n</table>\n</div>"
     },
     "metadata": {},
     "execution_count": 4
    }
   ],
   "source": [
    "import seaborn as sns\n",
    "df = sns.load_dataset('diamonds')\n",
    "df.head()"
   ]
  },
  {
   "cell_type": "code",
   "execution_count": 5,
   "metadata": {},
   "outputs": [
    {
     "output_type": "execute_result",
     "data": {
      "text/plain": "<pandas.core.groupby.generic.DataFrameGroupBy object at 0x7ff66d4d0950>"
     },
     "metadata": {},
     "execution_count": 5
    }
   ],
   "source": [
    "df.groupby('cut')"
   ]
  },
  {
   "cell_type": "code",
   "execution_count": 6,
   "metadata": {},
   "outputs": [
    {
     "output_type": "execute_result",
     "data": {
      "text/plain": "              carat      depth      table        price         x         y  \\\ncut                                                                          \nFair       1.046137  64.041677  59.053789  4358.757764  6.246894  6.182652   \nGood       0.849185  62.365879  58.694639  3928.864452  5.838785  5.850744   \nIdeal      0.702837  61.709401  55.951668  3457.541970  5.507451  5.520080   \nPremium    0.891955  61.264673  58.746095  4584.257704  5.973887  5.944879   \nVery Good  0.806381  61.818275  57.956150  3981.759891  5.740696  5.770026   \n\n                  z  \ncut                  \nFair       3.982770  \nGood       3.639507  \nIdeal      3.401448  \nPremium    3.647124  \nVery Good  3.559801  ",
      "text/html": "<div>\n<style scoped>\n    .dataframe tbody tr th:only-of-type {\n        vertical-align: middle;\n    }\n\n    .dataframe tbody tr th {\n        vertical-align: top;\n    }\n\n    .dataframe thead th {\n        text-align: right;\n    }\n</style>\n<table border=\"1\" class=\"dataframe\">\n  <thead>\n    <tr style=\"text-align: right;\">\n      <th></th>\n      <th>carat</th>\n      <th>depth</th>\n      <th>table</th>\n      <th>price</th>\n      <th>x</th>\n      <th>y</th>\n      <th>z</th>\n    </tr>\n    <tr>\n      <th>cut</th>\n      <th></th>\n      <th></th>\n      <th></th>\n      <th></th>\n      <th></th>\n      <th></th>\n      <th></th>\n    </tr>\n  </thead>\n  <tbody>\n    <tr>\n      <th>Fair</th>\n      <td>1.046137</td>\n      <td>64.041677</td>\n      <td>59.053789</td>\n      <td>4358.757764</td>\n      <td>6.246894</td>\n      <td>6.182652</td>\n      <td>3.982770</td>\n    </tr>\n    <tr>\n      <th>Good</th>\n      <td>0.849185</td>\n      <td>62.365879</td>\n      <td>58.694639</td>\n      <td>3928.864452</td>\n      <td>5.838785</td>\n      <td>5.850744</td>\n      <td>3.639507</td>\n    </tr>\n    <tr>\n      <th>Ideal</th>\n      <td>0.702837</td>\n      <td>61.709401</td>\n      <td>55.951668</td>\n      <td>3457.541970</td>\n      <td>5.507451</td>\n      <td>5.520080</td>\n      <td>3.401448</td>\n    </tr>\n    <tr>\n      <th>Premium</th>\n      <td>0.891955</td>\n      <td>61.264673</td>\n      <td>58.746095</td>\n      <td>4584.257704</td>\n      <td>5.973887</td>\n      <td>5.944879</td>\n      <td>3.647124</td>\n    </tr>\n    <tr>\n      <th>Very Good</th>\n      <td>0.806381</td>\n      <td>61.818275</td>\n      <td>57.956150</td>\n      <td>3981.759891</td>\n      <td>5.740696</td>\n      <td>5.770026</td>\n      <td>3.559801</td>\n    </tr>\n  </tbody>\n</table>\n</div>"
     },
     "metadata": {},
     "execution_count": 6
    }
   ],
   "source": [
    "df.groupby('cut').mean()"
   ]
  },
  {
   "cell_type": "code",
   "execution_count": 7,
   "metadata": {},
   "outputs": [
    {
     "output_type": "execute_result",
     "data": {
      "text/plain": "           carat  depth  table   price      x     y     z\ncut                                                      \nFair        1.00   65.0   58.0  3282.0  6.175  6.10  3.97\nGood        0.82   63.4   58.0  3050.5  5.980  5.99  3.70\nIdeal       0.54   61.8   56.0  1810.0  5.250  5.26  3.23\nPremium     0.86   61.4   59.0  3185.0  6.110  6.06  3.72\nVery Good   0.71   62.1   58.0  2648.0  5.740  5.77  3.56",
      "text/html": "<div>\n<style scoped>\n    .dataframe tbody tr th:only-of-type {\n        vertical-align: middle;\n    }\n\n    .dataframe tbody tr th {\n        vertical-align: top;\n    }\n\n    .dataframe thead th {\n        text-align: right;\n    }\n</style>\n<table border=\"1\" class=\"dataframe\">\n  <thead>\n    <tr style=\"text-align: right;\">\n      <th></th>\n      <th>carat</th>\n      <th>depth</th>\n      <th>table</th>\n      <th>price</th>\n      <th>x</th>\n      <th>y</th>\n      <th>z</th>\n    </tr>\n    <tr>\n      <th>cut</th>\n      <th></th>\n      <th></th>\n      <th></th>\n      <th></th>\n      <th></th>\n      <th></th>\n      <th></th>\n    </tr>\n  </thead>\n  <tbody>\n    <tr>\n      <th>Fair</th>\n      <td>1.00</td>\n      <td>65.0</td>\n      <td>58.0</td>\n      <td>3282.0</td>\n      <td>6.175</td>\n      <td>6.10</td>\n      <td>3.97</td>\n    </tr>\n    <tr>\n      <th>Good</th>\n      <td>0.82</td>\n      <td>63.4</td>\n      <td>58.0</td>\n      <td>3050.5</td>\n      <td>5.980</td>\n      <td>5.99</td>\n      <td>3.70</td>\n    </tr>\n    <tr>\n      <th>Ideal</th>\n      <td>0.54</td>\n      <td>61.8</td>\n      <td>56.0</td>\n      <td>1810.0</td>\n      <td>5.250</td>\n      <td>5.26</td>\n      <td>3.23</td>\n    </tr>\n    <tr>\n      <th>Premium</th>\n      <td>0.86</td>\n      <td>61.4</td>\n      <td>59.0</td>\n      <td>3185.0</td>\n      <td>6.110</td>\n      <td>6.06</td>\n      <td>3.72</td>\n    </tr>\n    <tr>\n      <th>Very Good</th>\n      <td>0.71</td>\n      <td>62.1</td>\n      <td>58.0</td>\n      <td>2648.0</td>\n      <td>5.740</td>\n      <td>5.77</td>\n      <td>3.56</td>\n    </tr>\n  </tbody>\n</table>\n</div>"
     },
     "metadata": {},
     "execution_count": 7
    }
   ],
   "source": [
    "df.groupby('cut').median()"
   ]
  },
  {
   "cell_type": "code",
   "execution_count": 9,
   "metadata": {},
   "outputs": [
    {
     "output_type": "execute_result",
     "data": {
      "text/plain": "cut\nFair          1610\nGood          4906\nIdeal        21551\nPremium      13791\nVery Good    12082\nName: carat, dtype: int64"
     },
     "metadata": {},
     "execution_count": 9
    }
   ],
   "source": [
    "df.groupby('cut')['carat'].count()"
   ]
  },
  {
   "cell_type": "code",
   "execution_count": 10,
   "metadata": {
    "tags": []
   },
   "outputs": [
    {
     "output_type": "stream",
     "name": "stdout",
     "text": "Cut: Fair, Price: 4358.757763975155\nCut: Good, Price: 3928.864451691806\nCut: Ideal, Price: 3457.541970210199\nCut: Premium, Price: 4584.2577042999055\nCut: Very Good, Price: 3981.7598907465654\n"
    }
   ],
   "source": [
    "for key_group, group in df.groupby('cut'):\n",
    "    grouped_price = group['price'].mean()\n",
    "    print(f'Cut: {key_group}, Price: {grouped_price}')"
   ]
  },
  {
   "cell_type": "code",
   "execution_count": 12,
   "metadata": {},
   "outputs": [
    {
     "output_type": "execute_result",
     "data": {
      "text/plain": "                       price\ncut       color             \nFair      D      4291.061350\n          E      3682.312500\n          F      3827.003205\n          G      4239.254777\n          H      5135.683168\n          I      4685.445714\n          J      4975.655462\nGood      D      3405.382175\n          E      3423.644159\n          F      3495.750275\n          G      4123.482204\n          H      4276.254986\n          I      5078.532567\n          J      4574.172638\nIdeal     D      2629.094566\n          E      2597.550090\n          F      3374.939362\n          G      3720.706388\n          H      3889.334831\n          I      4451.970377\n          J      4918.186384\nPremium   D      3631.292576\n          E      3538.914420\n          F      4324.890176\n          G      4500.742134\n          H      5216.706780\n          I      5946.180672\n          J      6294.591584\nVery Good D      3470.467284\n          E      3214.652083\n          F      3778.820240\n          G      3872.753806\n          H      4535.390351\n          I      5255.879568\n          J      5103.513274",
      "text/html": "<div>\n<style scoped>\n    .dataframe tbody tr th:only-of-type {\n        vertical-align: middle;\n    }\n\n    .dataframe tbody tr th {\n        vertical-align: top;\n    }\n\n    .dataframe thead th {\n        text-align: right;\n    }\n</style>\n<table border=\"1\" class=\"dataframe\">\n  <thead>\n    <tr style=\"text-align: right;\">\n      <th></th>\n      <th></th>\n      <th>price</th>\n    </tr>\n    <tr>\n      <th>cut</th>\n      <th>color</th>\n      <th></th>\n    </tr>\n  </thead>\n  <tbody>\n    <tr>\n      <th rowspan=\"7\" valign=\"top\">Fair</th>\n      <th>D</th>\n      <td>4291.061350</td>\n    </tr>\n    <tr>\n      <th>E</th>\n      <td>3682.312500</td>\n    </tr>\n    <tr>\n      <th>F</th>\n      <td>3827.003205</td>\n    </tr>\n    <tr>\n      <th>G</th>\n      <td>4239.254777</td>\n    </tr>\n    <tr>\n      <th>H</th>\n      <td>5135.683168</td>\n    </tr>\n    <tr>\n      <th>I</th>\n      <td>4685.445714</td>\n    </tr>\n    <tr>\n      <th>J</th>\n      <td>4975.655462</td>\n    </tr>\n    <tr>\n      <th rowspan=\"7\" valign=\"top\">Good</th>\n      <th>D</th>\n      <td>3405.382175</td>\n    </tr>\n    <tr>\n      <th>E</th>\n      <td>3423.644159</td>\n    </tr>\n    <tr>\n      <th>F</th>\n      <td>3495.750275</td>\n    </tr>\n    <tr>\n      <th>G</th>\n      <td>4123.482204</td>\n    </tr>\n    <tr>\n      <th>H</th>\n      <td>4276.254986</td>\n    </tr>\n    <tr>\n      <th>I</th>\n      <td>5078.532567</td>\n    </tr>\n    <tr>\n      <th>J</th>\n      <td>4574.172638</td>\n    </tr>\n    <tr>\n      <th rowspan=\"7\" valign=\"top\">Ideal</th>\n      <th>D</th>\n      <td>2629.094566</td>\n    </tr>\n    <tr>\n      <th>E</th>\n      <td>2597.550090</td>\n    </tr>\n    <tr>\n      <th>F</th>\n      <td>3374.939362</td>\n    </tr>\n    <tr>\n      <th>G</th>\n      <td>3720.706388</td>\n    </tr>\n    <tr>\n      <th>H</th>\n      <td>3889.334831</td>\n    </tr>\n    <tr>\n      <th>I</th>\n      <td>4451.970377</td>\n    </tr>\n    <tr>\n      <th>J</th>\n      <td>4918.186384</td>\n    </tr>\n    <tr>\n      <th rowspan=\"7\" valign=\"top\">Premium</th>\n      <th>D</th>\n      <td>3631.292576</td>\n    </tr>\n    <tr>\n      <th>E</th>\n      <td>3538.914420</td>\n    </tr>\n    <tr>\n      <th>F</th>\n      <td>4324.890176</td>\n    </tr>\n    <tr>\n      <th>G</th>\n      <td>4500.742134</td>\n    </tr>\n    <tr>\n      <th>H</th>\n      <td>5216.706780</td>\n    </tr>\n    <tr>\n      <th>I</th>\n      <td>5946.180672</td>\n    </tr>\n    <tr>\n      <th>J</th>\n      <td>6294.591584</td>\n    </tr>\n    <tr>\n      <th rowspan=\"7\" valign=\"top\">Very Good</th>\n      <th>D</th>\n      <td>3470.467284</td>\n    </tr>\n    <tr>\n      <th>E</th>\n      <td>3214.652083</td>\n    </tr>\n    <tr>\n      <th>F</th>\n      <td>3778.820240</td>\n    </tr>\n    <tr>\n      <th>G</th>\n      <td>3872.753806</td>\n    </tr>\n    <tr>\n      <th>H</th>\n      <td>4535.390351</td>\n    </tr>\n    <tr>\n      <th>I</th>\n      <td>5255.879568</td>\n    </tr>\n    <tr>\n      <th>J</th>\n      <td>5103.513274</td>\n    </tr>\n  </tbody>\n</table>\n</div>"
     },
     "metadata": {},
     "execution_count": 12
    }
   ],
   "source": [
    "df.groupby(['cut', 'color'])['price'].mean().to_frame()"
   ]
  },
  {
   "cell_type": "code",
   "execution_count": 18,
   "metadata": {},
   "outputs": [
    {
     "output_type": "execute_result",
     "data": {
      "text/plain": "           min         mean    max          std\ncut                                            \nFair       337  4358.757764  18574  3560.386612\nGood       327  3928.864452  18788  3681.589584\nIdeal      326  3457.541970  18806  3808.401172\nPremium    326  4584.257704  18823  4349.204961\nVery Good  336  3981.759891  18818  3935.862161",
      "text/html": "<div>\n<style scoped>\n    .dataframe tbody tr th:only-of-type {\n        vertical-align: middle;\n    }\n\n    .dataframe tbody tr th {\n        vertical-align: top;\n    }\n\n    .dataframe thead th {\n        text-align: right;\n    }\n</style>\n<table border=\"1\" class=\"dataframe\">\n  <thead>\n    <tr style=\"text-align: right;\">\n      <th></th>\n      <th>min</th>\n      <th>mean</th>\n      <th>max</th>\n      <th>std</th>\n    </tr>\n    <tr>\n      <th>cut</th>\n      <th></th>\n      <th></th>\n      <th></th>\n      <th></th>\n    </tr>\n  </thead>\n  <tbody>\n    <tr>\n      <th>Fair</th>\n      <td>337</td>\n      <td>4358.757764</td>\n      <td>18574</td>\n      <td>3560.386612</td>\n    </tr>\n    <tr>\n      <th>Good</th>\n      <td>327</td>\n      <td>3928.864452</td>\n      <td>18788</td>\n      <td>3681.589584</td>\n    </tr>\n    <tr>\n      <th>Ideal</th>\n      <td>326</td>\n      <td>3457.541970</td>\n      <td>18806</td>\n      <td>3808.401172</td>\n    </tr>\n    <tr>\n      <th>Premium</th>\n      <td>326</td>\n      <td>4584.257704</td>\n      <td>18823</td>\n      <td>4349.204961</td>\n    </tr>\n    <tr>\n      <th>Very Good</th>\n      <td>336</td>\n      <td>3981.759891</td>\n      <td>18818</td>\n      <td>3935.862161</td>\n    </tr>\n  </tbody>\n</table>\n</div>"
     },
     "metadata": {},
     "execution_count": 18
    }
   ],
   "source": [
    "df.groupby('cut')['price'].aggregate([min, np.mean, max, np.std])"
   ]
  },
  {
   "cell_type": "code",
   "execution_count": 19,
   "metadata": {},
   "outputs": [],
   "source": [
    "def mean_kilo(x):\n",
    "    return np.mean(x) / 1000"
   ]
  },
  {
   "cell_type": "code",
   "execution_count": 20,
   "metadata": {},
   "outputs": [
    {
     "output_type": "execute_result",
     "data": {
      "text/plain": "                  mean  mean_kilo\ncut                              \nFair       4358.757764   4.358758\nGood       3928.864452   3.928864\nIdeal      3457.541970   3.457542\nPremium    4584.257704   4.584258\nVery Good  3981.759891   3.981760",
      "text/html": "<div>\n<style scoped>\n    .dataframe tbody tr th:only-of-type {\n        vertical-align: middle;\n    }\n\n    .dataframe tbody tr th {\n        vertical-align: top;\n    }\n\n    .dataframe thead th {\n        text-align: right;\n    }\n</style>\n<table border=\"1\" class=\"dataframe\">\n  <thead>\n    <tr style=\"text-align: right;\">\n      <th></th>\n      <th>mean</th>\n      <th>mean_kilo</th>\n    </tr>\n    <tr>\n      <th>cut</th>\n      <th></th>\n      <th></th>\n    </tr>\n  </thead>\n  <tbody>\n    <tr>\n      <th>Fair</th>\n      <td>4358.757764</td>\n      <td>4.358758</td>\n    </tr>\n    <tr>\n      <th>Good</th>\n      <td>3928.864452</td>\n      <td>3.928864</td>\n    </tr>\n    <tr>\n      <th>Ideal</th>\n      <td>3457.541970</td>\n      <td>3.457542</td>\n    </tr>\n    <tr>\n      <th>Premium</th>\n      <td>4584.257704</td>\n      <td>4.584258</td>\n    </tr>\n    <tr>\n      <th>Very Good</th>\n      <td>3981.759891</td>\n      <td>3.981760</td>\n    </tr>\n  </tbody>\n</table>\n</div>"
     },
     "metadata": {},
     "execution_count": 20
    }
   ],
   "source": [
    "df.groupby('cut')['price'].aggregate([np.mean, mean_kilo])"
   ]
  },
  {
   "cell_type": "code",
   "execution_count": 23,
   "metadata": {},
   "outputs": [
    {
     "output_type": "execute_result",
     "data": {
      "text/plain": "          carat              price          \n            min   max         mean mean_kilo\ncut                                         \nFair       0.22  5.01  4358.757764  4.358758\nGood       0.23  3.01  3928.864452  3.928864\nIdeal      0.20  3.50  3457.541970  3.457542\nPremium    0.20  4.01  4584.257704  4.584258\nVery Good  0.20  4.00  3981.759891  3.981760",
      "text/html": "<div>\n<style scoped>\n    .dataframe tbody tr th:only-of-type {\n        vertical-align: middle;\n    }\n\n    .dataframe tbody tr th {\n        vertical-align: top;\n    }\n\n    .dataframe thead tr th {\n        text-align: left;\n    }\n\n    .dataframe thead tr:last-of-type th {\n        text-align: right;\n    }\n</style>\n<table border=\"1\" class=\"dataframe\">\n  <thead>\n    <tr>\n      <th></th>\n      <th colspan=\"2\" halign=\"left\">carat</th>\n      <th colspan=\"2\" halign=\"left\">price</th>\n    </tr>\n    <tr>\n      <th></th>\n      <th>min</th>\n      <th>max</th>\n      <th>mean</th>\n      <th>mean_kilo</th>\n    </tr>\n    <tr>\n      <th>cut</th>\n      <th></th>\n      <th></th>\n      <th></th>\n      <th></th>\n    </tr>\n  </thead>\n  <tbody>\n    <tr>\n      <th>Fair</th>\n      <td>0.22</td>\n      <td>5.01</td>\n      <td>4358.757764</td>\n      <td>4.358758</td>\n    </tr>\n    <tr>\n      <th>Good</th>\n      <td>0.23</td>\n      <td>3.01</td>\n      <td>3928.864452</td>\n      <td>3.928864</td>\n    </tr>\n    <tr>\n      <th>Ideal</th>\n      <td>0.20</td>\n      <td>3.50</td>\n      <td>3457.541970</td>\n      <td>3.457542</td>\n    </tr>\n    <tr>\n      <th>Premium</th>\n      <td>0.20</td>\n      <td>4.01</td>\n      <td>4584.257704</td>\n      <td>4.584258</td>\n    </tr>\n    <tr>\n      <th>Very Good</th>\n      <td>0.20</td>\n      <td>4.00</td>\n      <td>3981.759891</td>\n      <td>3.981760</td>\n    </tr>\n  </tbody>\n</table>\n</div>"
     },
     "metadata": {},
     "execution_count": 23
    }
   ],
   "source": [
    "dict_agg = {'carat': [min, max], 'price': [np.mean, mean_kilo]}\n",
    "df.groupby('cut').aggregate(dict_agg)"
   ]
  }
 ]
}