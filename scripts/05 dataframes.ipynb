{
 "metadata": {
  "language_info": {
   "codemirror_mode": {
    "name": "ipython",
    "version": 3
   },
   "file_extension": ".py",
   "mimetype": "text/x-python",
   "name": "python",
   "nbconvert_exporter": "python",
   "pygments_lexer": "ipython3",
   "version": "3.7.6-final"
  },
  "orig_nbformat": 2,
  "kernelspec": {
   "name": "python3",
   "display_name": "Python 3"
  }
 },
 "nbformat": 4,
 "nbformat_minor": 2,
 "cells": [
  {
   "cell_type": "markdown",
   "metadata": {},
   "source": [
    "# Pandas DataFrame"
   ]
  },
  {
   "cell_type": "code",
   "execution_count": 2,
   "metadata": {},
   "outputs": [],
   "source": [
    "import pandas as pd\n",
    "import numpy as np"
   ]
  },
  {
   "cell_type": "code",
   "execution_count": 3,
   "metadata": {},
   "outputs": [
    {
     "output_type": "execute_result",
     "data": {
      "text/plain": "'1.0.1'"
     },
     "metadata": {},
     "execution_count": 3
    }
   ],
   "source": [
    "pd.__version__"
   ]
  },
  {
   "cell_type": "code",
   "execution_count": 5,
   "metadata": {},
   "outputs": [
    {
     "output_type": "execute_result",
     "data": {
      "text/plain": "   edad   cm pais genero    Q1  Q2\n0    10  115   co      M   5.0   7\n1     9  110   mx      F  10.0   9\n2    13  130   co      F   8.0   9\n3    14  155   mx      M   NaN   8\n4    12  125   mx      M   7.0   8\n5    11  120   ch      M   8.0   8\n6    12  125   ch      F   3.0   9",
      "text/html": "<div>\n<style scoped>\n    .dataframe tbody tr th:only-of-type {\n        vertical-align: middle;\n    }\n\n    .dataframe tbody tr th {\n        vertical-align: top;\n    }\n\n    .dataframe thead th {\n        text-align: right;\n    }\n</style>\n<table border=\"1\" class=\"dataframe\">\n  <thead>\n    <tr style=\"text-align: right;\">\n      <th></th>\n      <th>edad</th>\n      <th>cm</th>\n      <th>pais</th>\n      <th>genero</th>\n      <th>Q1</th>\n      <th>Q2</th>\n    </tr>\n  </thead>\n  <tbody>\n    <tr>\n      <th>0</th>\n      <td>10</td>\n      <td>115</td>\n      <td>co</td>\n      <td>M</td>\n      <td>5.0</td>\n      <td>7</td>\n    </tr>\n    <tr>\n      <th>1</th>\n      <td>9</td>\n      <td>110</td>\n      <td>mx</td>\n      <td>F</td>\n      <td>10.0</td>\n      <td>9</td>\n    </tr>\n    <tr>\n      <th>2</th>\n      <td>13</td>\n      <td>130</td>\n      <td>co</td>\n      <td>F</td>\n      <td>8.0</td>\n      <td>9</td>\n    </tr>\n    <tr>\n      <th>3</th>\n      <td>14</td>\n      <td>155</td>\n      <td>mx</td>\n      <td>M</td>\n      <td>NaN</td>\n      <td>8</td>\n    </tr>\n    <tr>\n      <th>4</th>\n      <td>12</td>\n      <td>125</td>\n      <td>mx</td>\n      <td>M</td>\n      <td>7.0</td>\n      <td>8</td>\n    </tr>\n    <tr>\n      <th>5</th>\n      <td>11</td>\n      <td>120</td>\n      <td>ch</td>\n      <td>M</td>\n      <td>8.0</td>\n      <td>8</td>\n    </tr>\n    <tr>\n      <th>6</th>\n      <td>12</td>\n      <td>125</td>\n      <td>ch</td>\n      <td>F</td>\n      <td>3.0</td>\n      <td>9</td>\n    </tr>\n  </tbody>\n</table>\n</div>"
     },
     "metadata": {},
     "execution_count": 5
    }
   ],
   "source": [
    "# Crear un DataFrame a partir de un diccionario de datos\n",
    "dict_data = {\n",
    "    'edad': [10,9,13,14,12,11,12],\n",
    "    'cm': [115,110,130,155,125,120,125],\n",
    "    'pais':['co','mx','co','mx','mx','ch','ch'],\n",
    "    'genero':['M','F','F','M','M','M','F'],\n",
    "    'Q1':[5,10,8,np.nan,7,8,3],\n",
    "    'Q2':[7,9,9,8,8,8,9]\n",
    "}\n",
    "\n",
    "df = pd.DataFrame(dict_data)\n",
    "df"
   ]
  },
  {
   "cell_type": "code",
   "execution_count": 6,
   "metadata": {},
   "outputs": [
    {
     "output_type": "execute_result",
     "data": {
      "text/plain": "          edad   cm pais genero    Q1  Q2\nana         10  115   co      M   5.0   7\nbenito       9  110   mx      F  10.0   9\ncamilo      13  130   co      F   8.0   9\ndaniel      14  155   mx      M   NaN   8\nerika       12  125   mx      M   7.0   8\nfabian      11  120   ch      M   8.0   8\ngabriela    12  125   ch      F   3.0   9",
      "text/html": "<div>\n<style scoped>\n    .dataframe tbody tr th:only-of-type {\n        vertical-align: middle;\n    }\n\n    .dataframe tbody tr th {\n        vertical-align: top;\n    }\n\n    .dataframe thead th {\n        text-align: right;\n    }\n</style>\n<table border=\"1\" class=\"dataframe\">\n  <thead>\n    <tr style=\"text-align: right;\">\n      <th></th>\n      <th>edad</th>\n      <th>cm</th>\n      <th>pais</th>\n      <th>genero</th>\n      <th>Q1</th>\n      <th>Q2</th>\n    </tr>\n  </thead>\n  <tbody>\n    <tr>\n      <th>ana</th>\n      <td>10</td>\n      <td>115</td>\n      <td>co</td>\n      <td>M</td>\n      <td>5.0</td>\n      <td>7</td>\n    </tr>\n    <tr>\n      <th>benito</th>\n      <td>9</td>\n      <td>110</td>\n      <td>mx</td>\n      <td>F</td>\n      <td>10.0</td>\n      <td>9</td>\n    </tr>\n    <tr>\n      <th>camilo</th>\n      <td>13</td>\n      <td>130</td>\n      <td>co</td>\n      <td>F</td>\n      <td>8.0</td>\n      <td>9</td>\n    </tr>\n    <tr>\n      <th>daniel</th>\n      <td>14</td>\n      <td>155</td>\n      <td>mx</td>\n      <td>M</td>\n      <td>NaN</td>\n      <td>8</td>\n    </tr>\n    <tr>\n      <th>erika</th>\n      <td>12</td>\n      <td>125</td>\n      <td>mx</td>\n      <td>M</td>\n      <td>7.0</td>\n      <td>8</td>\n    </tr>\n    <tr>\n      <th>fabian</th>\n      <td>11</td>\n      <td>120</td>\n      <td>ch</td>\n      <td>M</td>\n      <td>8.0</td>\n      <td>8</td>\n    </tr>\n    <tr>\n      <th>gabriela</th>\n      <td>12</td>\n      <td>125</td>\n      <td>ch</td>\n      <td>F</td>\n      <td>3.0</td>\n      <td>9</td>\n    </tr>\n  </tbody>\n</table>\n</div>"
     },
     "metadata": {},
     "execution_count": 6
    }
   ],
   "source": [
    "# Crear un DataFrame con indices personalizados\n",
    "estudiantes = ['ana','benito','camilo','daniel','erika','fabian','gabriela']\n",
    "estudiantes\n",
    "\n",
    "df = pd.DataFrame(dict_data, index=estudiantes)\n",
    "df"
   ]
  },
  {
   "cell_type": "code",
   "execution_count": 7,
   "metadata": {},
   "outputs": [
    {
     "output_type": "execute_result",
     "data": {
      "text/plain": "Index(['ana', 'benito', 'camilo', 'daniel', 'erika', 'fabian', 'gabriela'], dtype='object')"
     },
     "metadata": {},
     "execution_count": 7
    }
   ],
   "source": [
    "# Consultar los indices de un DataFrame\n",
    "df.index"
   ]
  },
  {
   "cell_type": "code",
   "execution_count": 8,
   "metadata": {},
   "outputs": [
    {
     "output_type": "execute_result",
     "data": {
      "text/plain": "Index(['edad', 'cm', 'pais', 'genero', 'Q1', 'Q2'], dtype='object')"
     },
     "metadata": {},
     "execution_count": 8
    }
   ],
   "source": [
    "# Consultar el nombre de las columnas de un DataFrame\n",
    "df.columns"
   ]
  },
  {
   "cell_type": "code",
   "execution_count": 10,
   "metadata": {},
   "outputs": [
    {
     "output_type": "execute_result",
     "data": {
      "text/plain": "array([[10, 115, 'co', 'M', 5.0, 7],\n       [9, 110, 'mx', 'F', 10.0, 9],\n       [13, 130, 'co', 'F', 8.0, 9],\n       [14, 155, 'mx', 'M', nan, 8],\n       [12, 125, 'mx', 'M', 7.0, 8],\n       [11, 120, 'ch', 'M', 8.0, 8],\n       [12, 125, 'ch', 'F', 3.0, 9]], dtype=object)"
     },
     "metadata": {},
     "execution_count": 10
    }
   ],
   "source": [
    "# Consultar los valores de un DataFrame\n",
    "df.values"
   ]
  },
  {
   "cell_type": "code",
   "execution_count": 11,
   "metadata": {},
   "outputs": [
    {
     "output_type": "execute_result",
     "data": {
      "text/plain": "ana         10\nbenito       9\ncamilo      13\ndaniel      14\nerika       12\nfabian      11\ngabriela    12\nName: edad, dtype: int64"
     },
     "metadata": {},
     "execution_count": 11
    }
   ],
   "source": [
    "# Consultar los valores de una columna especifica\n",
    "df['edad']"
   ]
  },
  {
   "cell_type": "code",
   "execution_count": 12,
   "metadata": {},
   "outputs": [
    {
     "output_type": "execute_result",
     "data": {
      "text/plain": "          edad   cm    Q1\nana         10  115   5.0\nbenito       9  110  10.0\ncamilo      13  130   8.0\ndaniel      14  155   NaN\nerika       12  125   7.0\nfabian      11  120   8.0\ngabriela    12  125   3.0",
      "text/html": "<div>\n<style scoped>\n    .dataframe tbody tr th:only-of-type {\n        vertical-align: middle;\n    }\n\n    .dataframe tbody tr th {\n        vertical-align: top;\n    }\n\n    .dataframe thead th {\n        text-align: right;\n    }\n</style>\n<table border=\"1\" class=\"dataframe\">\n  <thead>\n    <tr style=\"text-align: right;\">\n      <th></th>\n      <th>edad</th>\n      <th>cm</th>\n      <th>Q1</th>\n    </tr>\n  </thead>\n  <tbody>\n    <tr>\n      <th>ana</th>\n      <td>10</td>\n      <td>115</td>\n      <td>5.0</td>\n    </tr>\n    <tr>\n      <th>benito</th>\n      <td>9</td>\n      <td>110</td>\n      <td>10.0</td>\n    </tr>\n    <tr>\n      <th>camilo</th>\n      <td>13</td>\n      <td>130</td>\n      <td>8.0</td>\n    </tr>\n    <tr>\n      <th>daniel</th>\n      <td>14</td>\n      <td>155</td>\n      <td>NaN</td>\n    </tr>\n    <tr>\n      <th>erika</th>\n      <td>12</td>\n      <td>125</td>\n      <td>7.0</td>\n    </tr>\n    <tr>\n      <th>fabian</th>\n      <td>11</td>\n      <td>120</td>\n      <td>8.0</td>\n    </tr>\n    <tr>\n      <th>gabriela</th>\n      <td>12</td>\n      <td>125</td>\n      <td>3.0</td>\n    </tr>\n  </tbody>\n</table>\n</div>"
     },
     "metadata": {},
     "execution_count": 12
    }
   ],
   "source": [
    "# Consultar los valores de varias columnas\n",
    "df[['edad', 'cm', 'Q1']]"
   ]
  },
  {
   "cell_type": "code",
   "execution_count": 17,
   "metadata": {},
   "outputs": [
    {
     "output_type": "execute_result",
     "data": {
      "text/plain": "       edad   cm   Q1\nana      10  115  5.0\nerika    12  125  7.0",
      "text/html": "<div>\n<style scoped>\n    .dataframe tbody tr th:only-of-type {\n        vertical-align: middle;\n    }\n\n    .dataframe tbody tr th {\n        vertical-align: top;\n    }\n\n    .dataframe thead th {\n        text-align: right;\n    }\n</style>\n<table border=\"1\" class=\"dataframe\">\n  <thead>\n    <tr style=\"text-align: right;\">\n      <th></th>\n      <th>edad</th>\n      <th>cm</th>\n      <th>Q1</th>\n    </tr>\n  </thead>\n  <tbody>\n    <tr>\n      <th>ana</th>\n      <td>10</td>\n      <td>115</td>\n      <td>5.0</td>\n    </tr>\n    <tr>\n      <th>erika</th>\n      <td>12</td>\n      <td>125</td>\n      <td>7.0</td>\n    </tr>\n  </tbody>\n</table>\n</div>"
     },
     "metadata": {},
     "execution_count": 17
    }
   ],
   "source": [
    "# Consultando los datos de indices y columnas especificas utilizando loc\n",
    "df.loc[['ana', 'erika'], ['edad', 'cm', 'Q1']]"
   ]
  },
  {
   "cell_type": "code",
   "execution_count": 18,
   "metadata": {},
   "outputs": [
    {
     "output_type": "execute_result",
     "data": {
      "text/plain": "nan"
     },
     "metadata": {},
     "execution_count": 18
    }
   ],
   "source": [
    "df.loc['daniel', 'Q1']"
   ]
  },
  {
   "cell_type": "code",
   "execution_count": 19,
   "metadata": {},
   "outputs": [
    {
     "output_type": "execute_result",
     "data": {
      "text/plain": "130"
     },
     "metadata": {},
     "execution_count": 19
    }
   ],
   "source": [
    "# Consultando los datos de indices y columnas especificas utilizando iloc\n",
    "df.iloc[2,1]"
   ]
  },
  {
   "cell_type": "code",
   "execution_count": 20,
   "metadata": {},
   "outputs": [
    {
     "output_type": "execute_result",
     "data": {
      "text/plain": "cm        130\ngenero      F\nName: camilo, dtype: object"
     },
     "metadata": {},
     "execution_count": 20
    }
   ],
   "source": [
    "df.iloc[2, [1, 3]]"
   ]
  },
  {
   "cell_type": "code",
   "execution_count": 21,
   "metadata": {},
   "outputs": [
    {
     "output_type": "execute_result",
     "data": {
      "text/plain": "         cm genero\ncamilo  130      F\nerika   125      M\nfabian  120      M",
      "text/html": "<div>\n<style scoped>\n    .dataframe tbody tr th:only-of-type {\n        vertical-align: middle;\n    }\n\n    .dataframe tbody tr th {\n        vertical-align: top;\n    }\n\n    .dataframe thead th {\n        text-align: right;\n    }\n</style>\n<table border=\"1\" class=\"dataframe\">\n  <thead>\n    <tr style=\"text-align: right;\">\n      <th></th>\n      <th>cm</th>\n      <th>genero</th>\n    </tr>\n  </thead>\n  <tbody>\n    <tr>\n      <th>camilo</th>\n      <td>130</td>\n      <td>F</td>\n    </tr>\n    <tr>\n      <th>erika</th>\n      <td>125</td>\n      <td>M</td>\n    </tr>\n    <tr>\n      <th>fabian</th>\n      <td>120</td>\n      <td>M</td>\n    </tr>\n  </tbody>\n</table>\n</div>"
     },
     "metadata": {},
     "execution_count": 21
    }
   ],
   "source": [
    "df.iloc[[2, 4, 5], [1, 3]]"
   ]
  },
  {
   "cell_type": "code",
   "execution_count": 22,
   "metadata": {},
   "outputs": [
    {
     "output_type": "execute_result",
     "data": {
      "text/plain": "           cm genero\nana       115      M\nbenito    110      F\ncamilo    130      F\ndaniel    155      M\nerika     125      M\nfabian    120      M\ngabriela  125      F",
      "text/html": "<div>\n<style scoped>\n    .dataframe tbody tr th:only-of-type {\n        vertical-align: middle;\n    }\n\n    .dataframe tbody tr th {\n        vertical-align: top;\n    }\n\n    .dataframe thead th {\n        text-align: right;\n    }\n</style>\n<table border=\"1\" class=\"dataframe\">\n  <thead>\n    <tr style=\"text-align: right;\">\n      <th></th>\n      <th>cm</th>\n      <th>genero</th>\n    </tr>\n  </thead>\n  <tbody>\n    <tr>\n      <th>ana</th>\n      <td>115</td>\n      <td>M</td>\n    </tr>\n    <tr>\n      <th>benito</th>\n      <td>110</td>\n      <td>F</td>\n    </tr>\n    <tr>\n      <th>camilo</th>\n      <td>130</td>\n      <td>F</td>\n    </tr>\n    <tr>\n      <th>daniel</th>\n      <td>155</td>\n      <td>M</td>\n    </tr>\n    <tr>\n      <th>erika</th>\n      <td>125</td>\n      <td>M</td>\n    </tr>\n    <tr>\n      <th>fabian</th>\n      <td>120</td>\n      <td>M</td>\n    </tr>\n    <tr>\n      <th>gabriela</th>\n      <td>125</td>\n      <td>F</td>\n    </tr>\n  </tbody>\n</table>\n</div>"
     },
     "metadata": {},
     "execution_count": 22
    }
   ],
   "source": [
    "df.iloc[:, [1, 3]]"
   ]
  },
  {
   "cell_type": "markdown",
   "metadata": {},
   "source": [
    "## Filtros sobre el DataFrame"
   ]
  },
  {
   "cell_type": "code",
   "execution_count": 24,
   "metadata": {},
   "outputs": [
    {
     "output_type": "execute_result",
     "data": {
      "text/plain": "          edad   cm pais genero   Q1  Q2\ncamilo      13  130   co      F  8.0   9\ndaniel      14  155   mx      M  NaN   8\nerika       12  125   mx      M  7.0   8\ngabriela    12  125   ch      F  3.0   9",
      "text/html": "<div>\n<style scoped>\n    .dataframe tbody tr th:only-of-type {\n        vertical-align: middle;\n    }\n\n    .dataframe tbody tr th {\n        vertical-align: top;\n    }\n\n    .dataframe thead th {\n        text-align: right;\n    }\n</style>\n<table border=\"1\" class=\"dataframe\">\n  <thead>\n    <tr style=\"text-align: right;\">\n      <th></th>\n      <th>edad</th>\n      <th>cm</th>\n      <th>pais</th>\n      <th>genero</th>\n      <th>Q1</th>\n      <th>Q2</th>\n    </tr>\n  </thead>\n  <tbody>\n    <tr>\n      <th>camilo</th>\n      <td>13</td>\n      <td>130</td>\n      <td>co</td>\n      <td>F</td>\n      <td>8.0</td>\n      <td>9</td>\n    </tr>\n    <tr>\n      <th>daniel</th>\n      <td>14</td>\n      <td>155</td>\n      <td>mx</td>\n      <td>M</td>\n      <td>NaN</td>\n      <td>8</td>\n    </tr>\n    <tr>\n      <th>erika</th>\n      <td>12</td>\n      <td>125</td>\n      <td>mx</td>\n      <td>M</td>\n      <td>7.0</td>\n      <td>8</td>\n    </tr>\n    <tr>\n      <th>gabriela</th>\n      <td>12</td>\n      <td>125</td>\n      <td>ch</td>\n      <td>F</td>\n      <td>3.0</td>\n      <td>9</td>\n    </tr>\n  </tbody>\n</table>\n</div>"
     },
     "metadata": {},
     "execution_count": 24
    }
   ],
   "source": [
    "df[df['edad'] >= 12]"
   ]
  },
  {
   "cell_type": "code",
   "execution_count": 25,
   "metadata": {},
   "outputs": [
    {
     "output_type": "execute_result",
     "data": {
      "text/plain": "        edad   cm pais genero   Q1  Q2\ndaniel    14  155   mx      M  NaN   8\nerika     12  125   mx      M  7.0   8",
      "text/html": "<div>\n<style scoped>\n    .dataframe tbody tr th:only-of-type {\n        vertical-align: middle;\n    }\n\n    .dataframe tbody tr th {\n        vertical-align: top;\n    }\n\n    .dataframe thead th {\n        text-align: right;\n    }\n</style>\n<table border=\"1\" class=\"dataframe\">\n  <thead>\n    <tr style=\"text-align: right;\">\n      <th></th>\n      <th>edad</th>\n      <th>cm</th>\n      <th>pais</th>\n      <th>genero</th>\n      <th>Q1</th>\n      <th>Q2</th>\n    </tr>\n  </thead>\n  <tbody>\n    <tr>\n      <th>daniel</th>\n      <td>14</td>\n      <td>155</td>\n      <td>mx</td>\n      <td>M</td>\n      <td>NaN</td>\n      <td>8</td>\n    </tr>\n    <tr>\n      <th>erika</th>\n      <td>12</td>\n      <td>125</td>\n      <td>mx</td>\n      <td>M</td>\n      <td>7.0</td>\n      <td>8</td>\n    </tr>\n  </tbody>\n</table>\n</div>"
     },
     "metadata": {},
     "execution_count": 25
    }
   ],
   "source": [
    "df[(df['edad'] >= 12) & (df['pais'] == 'mx')]"
   ]
  },
  {
   "cell_type": "code",
   "execution_count": 27,
   "metadata": {},
   "outputs": [
    {
     "output_type": "execute_result",
     "data": {
      "text/plain": "          edad   cm pais genero   Q1  Q2\ncamilo      13  130   co      F  8.0   9\ndaniel      14  155   mx      M  NaN   8\nerika       12  125   mx      M  7.0   8\ngabriela    12  125   ch      F  3.0   9",
      "text/html": "<div>\n<style scoped>\n    .dataframe tbody tr th:only-of-type {\n        vertical-align: middle;\n    }\n\n    .dataframe tbody tr th {\n        vertical-align: top;\n    }\n\n    .dataframe thead th {\n        text-align: right;\n    }\n</style>\n<table border=\"1\" class=\"dataframe\">\n  <thead>\n    <tr style=\"text-align: right;\">\n      <th></th>\n      <th>edad</th>\n      <th>cm</th>\n      <th>pais</th>\n      <th>genero</th>\n      <th>Q1</th>\n      <th>Q2</th>\n    </tr>\n  </thead>\n  <tbody>\n    <tr>\n      <th>camilo</th>\n      <td>13</td>\n      <td>130</td>\n      <td>co</td>\n      <td>F</td>\n      <td>8.0</td>\n      <td>9</td>\n    </tr>\n    <tr>\n      <th>daniel</th>\n      <td>14</td>\n      <td>155</td>\n      <td>mx</td>\n      <td>M</td>\n      <td>NaN</td>\n      <td>8</td>\n    </tr>\n    <tr>\n      <th>erika</th>\n      <td>12</td>\n      <td>125</td>\n      <td>mx</td>\n      <td>M</td>\n      <td>7.0</td>\n      <td>8</td>\n    </tr>\n    <tr>\n      <th>gabriela</th>\n      <td>12</td>\n      <td>125</td>\n      <td>ch</td>\n      <td>F</td>\n      <td>3.0</td>\n      <td>9</td>\n    </tr>\n  </tbody>\n</table>\n</div>"
     },
     "metadata": {},
     "execution_count": 27
    }
   ],
   "source": [
    "df.query('edad >= 12')"
   ]
  },
  {
   "cell_type": "code",
   "execution_count": 28,
   "metadata": {},
   "outputs": [
    {
     "output_type": "execute_result",
     "data": {
      "text/plain": "        edad   cm pais genero   Q1  Q2\ndaniel    14  155   mx      M  NaN   8\nerika     12  125   mx      M  7.0   8",
      "text/html": "<div>\n<style scoped>\n    .dataframe tbody tr th:only-of-type {\n        vertical-align: middle;\n    }\n\n    .dataframe tbody tr th {\n        vertical-align: top;\n    }\n\n    .dataframe thead th {\n        text-align: right;\n    }\n</style>\n<table border=\"1\" class=\"dataframe\">\n  <thead>\n    <tr style=\"text-align: right;\">\n      <th></th>\n      <th>edad</th>\n      <th>cm</th>\n      <th>pais</th>\n      <th>genero</th>\n      <th>Q1</th>\n      <th>Q2</th>\n    </tr>\n  </thead>\n  <tbody>\n    <tr>\n      <th>daniel</th>\n      <td>14</td>\n      <td>155</td>\n      <td>mx</td>\n      <td>M</td>\n      <td>NaN</td>\n      <td>8</td>\n    </tr>\n    <tr>\n      <th>erika</th>\n      <td>12</td>\n      <td>125</td>\n      <td>mx</td>\n      <td>M</td>\n      <td>7.0</td>\n      <td>8</td>\n    </tr>\n  </tbody>\n</table>\n</div>"
     },
     "metadata": {},
     "execution_count": 28
    }
   ],
   "source": [
    "df.query(\"edad >= 12 & pais == 'mx'\")"
   ]
  },
  {
   "cell_type": "code",
   "execution_count": 29,
   "metadata": {},
   "outputs": [
    {
     "output_type": "execute_result",
     "data": {
      "text/plain": "          edad   cm pais genero   Q1  Q2\nana         10  115   co      M  5.0   7\ncamilo      13  130   co      F  8.0   9\nerika       12  125   mx      M  7.0   8\ngabriela    12  125   ch      F  3.0   9",
      "text/html": "<div>\n<style scoped>\n    .dataframe tbody tr th:only-of-type {\n        vertical-align: middle;\n    }\n\n    .dataframe tbody tr th {\n        vertical-align: top;\n    }\n\n    .dataframe thead th {\n        text-align: right;\n    }\n</style>\n<table border=\"1\" class=\"dataframe\">\n  <thead>\n    <tr style=\"text-align: right;\">\n      <th></th>\n      <th>edad</th>\n      <th>cm</th>\n      <th>pais</th>\n      <th>genero</th>\n      <th>Q1</th>\n      <th>Q2</th>\n    </tr>\n  </thead>\n  <tbody>\n    <tr>\n      <th>ana</th>\n      <td>10</td>\n      <td>115</td>\n      <td>co</td>\n      <td>M</td>\n      <td>5.0</td>\n      <td>7</td>\n    </tr>\n    <tr>\n      <th>camilo</th>\n      <td>13</td>\n      <td>130</td>\n      <td>co</td>\n      <td>F</td>\n      <td>8.0</td>\n      <td>9</td>\n    </tr>\n    <tr>\n      <th>erika</th>\n      <td>12</td>\n      <td>125</td>\n      <td>mx</td>\n      <td>M</td>\n      <td>7.0</td>\n      <td>8</td>\n    </tr>\n    <tr>\n      <th>gabriela</th>\n      <td>12</td>\n      <td>125</td>\n      <td>ch</td>\n      <td>F</td>\n      <td>3.0</td>\n      <td>9</td>\n    </tr>\n  </tbody>\n</table>\n</div>"
     },
     "metadata": {},
     "execution_count": 29
    }
   ],
   "source": [
    "df.query('Q2 > Q1')"
   ]
  },
  {
   "cell_type": "code",
   "execution_count": null,
   "metadata": {},
   "outputs": [],
   "source": []
  }
 ]
}