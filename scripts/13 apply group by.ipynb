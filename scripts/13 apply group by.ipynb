{
 "metadata": {
  "language_info": {
   "codemirror_mode": {
    "name": "ipython",
    "version": 3
   },
   "file_extension": ".py",
   "mimetype": "text/x-python",
   "name": "python",
   "nbconvert_exporter": "python",
   "pygments_lexer": "ipython3",
   "version": "3.7.6-final"
  },
  "orig_nbformat": 2,
  "kernelspec": {
   "name": "python3",
   "display_name": "Python 3"
  }
 },
 "nbformat": 4,
 "nbformat_minor": 2,
 "cells": [
  {
   "cell_type": "markdown",
   "metadata": {},
   "source": [
    "# Apply Group By Pandas"
   ]
  },
  {
   "cell_type": "code",
   "execution_count": 4,
   "metadata": {},
   "outputs": [],
   "source": [
    "import pandas as pd\n",
    "import numpy as np"
   ]
  },
  {
   "cell_type": "code",
   "execution_count": 5,
   "metadata": {},
   "outputs": [
    {
     "output_type": "execute_result",
     "data": {
      "text/plain": "'1.0.1'"
     },
     "metadata": {},
     "execution_count": 5
    }
   ],
   "source": [
    "pd.__version__"
   ]
  },
  {
   "cell_type": "code",
   "execution_count": 6,
   "metadata": {},
   "outputs": [
    {
     "output_type": "execute_result",
     "data": {
      "text/plain": "   total_bill   tip     sex smoker  day    time  size\n0       16.99  1.01  Female     No  Sun  Dinner     2\n1       10.34  1.66    Male     No  Sun  Dinner     3\n2       21.01  3.50    Male     No  Sun  Dinner     3\n3       23.68  3.31    Male     No  Sun  Dinner     2\n4       24.59  3.61  Female     No  Sun  Dinner     4",
      "text/html": "<div>\n<style scoped>\n    .dataframe tbody tr th:only-of-type {\n        vertical-align: middle;\n    }\n\n    .dataframe tbody tr th {\n        vertical-align: top;\n    }\n\n    .dataframe thead th {\n        text-align: right;\n    }\n</style>\n<table border=\"1\" class=\"dataframe\">\n  <thead>\n    <tr style=\"text-align: right;\">\n      <th></th>\n      <th>total_bill</th>\n      <th>tip</th>\n      <th>sex</th>\n      <th>smoker</th>\n      <th>day</th>\n      <th>time</th>\n      <th>size</th>\n    </tr>\n  </thead>\n  <tbody>\n    <tr>\n      <th>0</th>\n      <td>16.99</td>\n      <td>1.01</td>\n      <td>Female</td>\n      <td>No</td>\n      <td>Sun</td>\n      <td>Dinner</td>\n      <td>2</td>\n    </tr>\n    <tr>\n      <th>1</th>\n      <td>10.34</td>\n      <td>1.66</td>\n      <td>Male</td>\n      <td>No</td>\n      <td>Sun</td>\n      <td>Dinner</td>\n      <td>3</td>\n    </tr>\n    <tr>\n      <th>2</th>\n      <td>21.01</td>\n      <td>3.50</td>\n      <td>Male</td>\n      <td>No</td>\n      <td>Sun</td>\n      <td>Dinner</td>\n      <td>3</td>\n    </tr>\n    <tr>\n      <th>3</th>\n      <td>23.68</td>\n      <td>3.31</td>\n      <td>Male</td>\n      <td>No</td>\n      <td>Sun</td>\n      <td>Dinner</td>\n      <td>2</td>\n    </tr>\n    <tr>\n      <th>4</th>\n      <td>24.59</td>\n      <td>3.61</td>\n      <td>Female</td>\n      <td>No</td>\n      <td>Sun</td>\n      <td>Dinner</td>\n      <td>4</td>\n    </tr>\n  </tbody>\n</table>\n</div>"
     },
     "metadata": {},
     "execution_count": 6
    }
   ],
   "source": [
    "import seaborn as sns\n",
    "df = sns.load_dataset('tips')\n",
    "df.head()"
   ]
  },
  {
   "cell_type": "code",
   "execution_count": 7,
   "metadata": {},
   "outputs": [],
   "source": [
    "pd.options.display.float_format = '{:,.3f}'.format"
   ]
  },
  {
   "cell_type": "code",
   "execution_count": 8,
   "metadata": {},
   "outputs": [
    {
     "output_type": "execute_result",
     "data": {
      "text/plain": "        total_bill     tip   sex smoker  day    time    size\ncount      244.000 244.000   244    244  244     244 244.000\nunique         nan     nan     2      2    4       2     nan\ntop            nan     nan  Male     No  Sat  Dinner     nan\nfreq           nan     nan   157    151   87     176     nan\nmean        19.786   2.998   NaN    NaN  NaN     NaN   2.570\nstd          8.902   1.384   NaN    NaN  NaN     NaN   0.951\nmin          3.070   1.000   NaN    NaN  NaN     NaN   1.000\n25%         13.348   2.000   NaN    NaN  NaN     NaN   2.000\n50%         17.795   2.900   NaN    NaN  NaN     NaN   2.000\n75%         24.127   3.562   NaN    NaN  NaN     NaN   3.000\nmax         50.810  10.000   NaN    NaN  NaN     NaN   6.000",
      "text/html": "<div>\n<style scoped>\n    .dataframe tbody tr th:only-of-type {\n        vertical-align: middle;\n    }\n\n    .dataframe tbody tr th {\n        vertical-align: top;\n    }\n\n    .dataframe thead th {\n        text-align: right;\n    }\n</style>\n<table border=\"1\" class=\"dataframe\">\n  <thead>\n    <tr style=\"text-align: right;\">\n      <th></th>\n      <th>total_bill</th>\n      <th>tip</th>\n      <th>sex</th>\n      <th>smoker</th>\n      <th>day</th>\n      <th>time</th>\n      <th>size</th>\n    </tr>\n  </thead>\n  <tbody>\n    <tr>\n      <th>count</th>\n      <td>244.000</td>\n      <td>244.000</td>\n      <td>244</td>\n      <td>244</td>\n      <td>244</td>\n      <td>244</td>\n      <td>244.000</td>\n    </tr>\n    <tr>\n      <th>unique</th>\n      <td>nan</td>\n      <td>nan</td>\n      <td>2</td>\n      <td>2</td>\n      <td>4</td>\n      <td>2</td>\n      <td>nan</td>\n    </tr>\n    <tr>\n      <th>top</th>\n      <td>nan</td>\n      <td>nan</td>\n      <td>Male</td>\n      <td>No</td>\n      <td>Sat</td>\n      <td>Dinner</td>\n      <td>nan</td>\n    </tr>\n    <tr>\n      <th>freq</th>\n      <td>nan</td>\n      <td>nan</td>\n      <td>157</td>\n      <td>151</td>\n      <td>87</td>\n      <td>176</td>\n      <td>nan</td>\n    </tr>\n    <tr>\n      <th>mean</th>\n      <td>19.786</td>\n      <td>2.998</td>\n      <td>NaN</td>\n      <td>NaN</td>\n      <td>NaN</td>\n      <td>NaN</td>\n      <td>2.570</td>\n    </tr>\n    <tr>\n      <th>std</th>\n      <td>8.902</td>\n      <td>1.384</td>\n      <td>NaN</td>\n      <td>NaN</td>\n      <td>NaN</td>\n      <td>NaN</td>\n      <td>0.951</td>\n    </tr>\n    <tr>\n      <th>min</th>\n      <td>3.070</td>\n      <td>1.000</td>\n      <td>NaN</td>\n      <td>NaN</td>\n      <td>NaN</td>\n      <td>NaN</td>\n      <td>1.000</td>\n    </tr>\n    <tr>\n      <th>25%</th>\n      <td>13.348</td>\n      <td>2.000</td>\n      <td>NaN</td>\n      <td>NaN</td>\n      <td>NaN</td>\n      <td>NaN</td>\n      <td>2.000</td>\n    </tr>\n    <tr>\n      <th>50%</th>\n      <td>17.795</td>\n      <td>2.900</td>\n      <td>NaN</td>\n      <td>NaN</td>\n      <td>NaN</td>\n      <td>NaN</td>\n      <td>2.000</td>\n    </tr>\n    <tr>\n      <th>75%</th>\n      <td>24.127</td>\n      <td>3.562</td>\n      <td>NaN</td>\n      <td>NaN</td>\n      <td>NaN</td>\n      <td>NaN</td>\n      <td>3.000</td>\n    </tr>\n    <tr>\n      <th>max</th>\n      <td>50.810</td>\n      <td>10.000</td>\n      <td>NaN</td>\n      <td>NaN</td>\n      <td>NaN</td>\n      <td>NaN</td>\n      <td>6.000</td>\n    </tr>\n  </tbody>\n</table>\n</div>"
     },
     "metadata": {},
     "execution_count": 8
    }
   ],
   "source": [
    "df.describe(include='all')"
   ]
  },
  {
   "cell_type": "code",
   "execution_count": 9,
   "metadata": {},
   "outputs": [
    {
     "output_type": "execute_result",
     "data": {
      "text/plain": "Sat     87\nSun     76\nThur    62\nFri     19\nName: day, dtype: int64"
     },
     "metadata": {},
     "execution_count": 9
    }
   ],
   "source": [
    "df['day'].value_counts()"
   ]
  },
  {
   "cell_type": "code",
   "execution_count": 10,
   "metadata": {},
   "outputs": [
    {
     "output_type": "execute_result",
     "data": {
      "text/plain": "        total_bill   tip\nsex                     \nMale        20.744 3.090\nFemale      18.057 2.833",
      "text/html": "<div>\n<style scoped>\n    .dataframe tbody tr th:only-of-type {\n        vertical-align: middle;\n    }\n\n    .dataframe tbody tr th {\n        vertical-align: top;\n    }\n\n    .dataframe thead th {\n        text-align: right;\n    }\n</style>\n<table border=\"1\" class=\"dataframe\">\n  <thead>\n    <tr style=\"text-align: right;\">\n      <th></th>\n      <th>total_bill</th>\n      <th>tip</th>\n    </tr>\n    <tr>\n      <th>sex</th>\n      <th></th>\n      <th></th>\n    </tr>\n  </thead>\n  <tbody>\n    <tr>\n      <th>Male</th>\n      <td>20.744</td>\n      <td>3.090</td>\n    </tr>\n    <tr>\n      <th>Female</th>\n      <td>18.057</td>\n      <td>2.833</td>\n    </tr>\n  </tbody>\n</table>\n</div>"
     },
     "metadata": {},
     "execution_count": 10
    }
   ],
   "source": [
    "df.groupby('sex')['total_bill', 'tip'].mean()"
   ]
  },
  {
   "cell_type": "code",
   "execution_count": 11,
   "metadata": {},
   "outputs": [
    {
     "output_type": "execute_result",
     "data": {
      "text/plain": "   total_bill   tip     sex smoker  day    time  size  porcentaje_propina\n0      16.990 1.010  Female     No  Sun  Dinner     2               0.059\n1      10.340 1.660    Male     No  Sun  Dinner     3               0.161\n2      21.010 3.500    Male     No  Sun  Dinner     3               0.167\n3      23.680 3.310    Male     No  Sun  Dinner     2               0.140\n4      24.590 3.610  Female     No  Sun  Dinner     4               0.147",
      "text/html": "<div>\n<style scoped>\n    .dataframe tbody tr th:only-of-type {\n        vertical-align: middle;\n    }\n\n    .dataframe tbody tr th {\n        vertical-align: top;\n    }\n\n    .dataframe thead th {\n        text-align: right;\n    }\n</style>\n<table border=\"1\" class=\"dataframe\">\n  <thead>\n    <tr style=\"text-align: right;\">\n      <th></th>\n      <th>total_bill</th>\n      <th>tip</th>\n      <th>sex</th>\n      <th>smoker</th>\n      <th>day</th>\n      <th>time</th>\n      <th>size</th>\n      <th>porcentaje_propina</th>\n    </tr>\n  </thead>\n  <tbody>\n    <tr>\n      <th>0</th>\n      <td>16.990</td>\n      <td>1.010</td>\n      <td>Female</td>\n      <td>No</td>\n      <td>Sun</td>\n      <td>Dinner</td>\n      <td>2</td>\n      <td>0.059</td>\n    </tr>\n    <tr>\n      <th>1</th>\n      <td>10.340</td>\n      <td>1.660</td>\n      <td>Male</td>\n      <td>No</td>\n      <td>Sun</td>\n      <td>Dinner</td>\n      <td>3</td>\n      <td>0.161</td>\n    </tr>\n    <tr>\n      <th>2</th>\n      <td>21.010</td>\n      <td>3.500</td>\n      <td>Male</td>\n      <td>No</td>\n      <td>Sun</td>\n      <td>Dinner</td>\n      <td>3</td>\n      <td>0.167</td>\n    </tr>\n    <tr>\n      <th>3</th>\n      <td>23.680</td>\n      <td>3.310</td>\n      <td>Male</td>\n      <td>No</td>\n      <td>Sun</td>\n      <td>Dinner</td>\n      <td>2</td>\n      <td>0.140</td>\n    </tr>\n    <tr>\n      <th>4</th>\n      <td>24.590</td>\n      <td>3.610</td>\n      <td>Female</td>\n      <td>No</td>\n      <td>Sun</td>\n      <td>Dinner</td>\n      <td>4</td>\n      <td>0.147</td>\n    </tr>\n  </tbody>\n</table>\n</div>"
     },
     "metadata": {},
     "execution_count": 11
    }
   ],
   "source": [
    "df['porcentaje_propina'] = df['tip'] / df['total_bill']\n",
    "df.head()"
   ]
  },
  {
   "cell_type": "code",
   "execution_count": 13,
   "metadata": {},
   "outputs": [
    {
     "output_type": "execute_result",
     "data": {
      "text/plain": "         count  mean   std   min   25%   50%   75%   max\nsex                                                     \nMale   157.000 0.158 0.065 0.036 0.121 0.153 0.186 0.710\nFemale  87.000 0.166 0.054 0.056 0.140 0.156 0.194 0.417",
      "text/html": "<div>\n<style scoped>\n    .dataframe tbody tr th:only-of-type {\n        vertical-align: middle;\n    }\n\n    .dataframe tbody tr th {\n        vertical-align: top;\n    }\n\n    .dataframe thead th {\n        text-align: right;\n    }\n</style>\n<table border=\"1\" class=\"dataframe\">\n  <thead>\n    <tr style=\"text-align: right;\">\n      <th></th>\n      <th>count</th>\n      <th>mean</th>\n      <th>std</th>\n      <th>min</th>\n      <th>25%</th>\n      <th>50%</th>\n      <th>75%</th>\n      <th>max</th>\n    </tr>\n    <tr>\n      <th>sex</th>\n      <th></th>\n      <th></th>\n      <th></th>\n      <th></th>\n      <th></th>\n      <th></th>\n      <th></th>\n      <th></th>\n    </tr>\n  </thead>\n  <tbody>\n    <tr>\n      <th>Male</th>\n      <td>157.000</td>\n      <td>0.158</td>\n      <td>0.065</td>\n      <td>0.036</td>\n      <td>0.121</td>\n      <td>0.153</td>\n      <td>0.186</td>\n      <td>0.710</td>\n    </tr>\n    <tr>\n      <th>Female</th>\n      <td>87.000</td>\n      <td>0.166</td>\n      <td>0.054</td>\n      <td>0.056</td>\n      <td>0.140</td>\n      <td>0.156</td>\n      <td>0.194</td>\n      <td>0.417</td>\n    </tr>\n  </tbody>\n</table>\n</div>"
     },
     "metadata": {},
     "execution_count": 13
    }
   ],
   "source": [
    "df.groupby('sex')['porcentaje_propina'].describe()"
   ]
  },
  {
   "cell_type": "code",
   "execution_count": 14,
   "metadata": {},
   "outputs": [],
   "source": [
    "def mean_eur2usd(x):\n",
    "    return np.mean(x) * 1.12"
   ]
  },
  {
   "cell_type": "code",
   "execution_count": 15,
   "metadata": {},
   "outputs": [
    {
     "output_type": "execute_result",
     "data": {
      "text/plain": "sex\nMale     23.233\nFemale   20.224\nName: total_bill, dtype: float64"
     },
     "metadata": {},
     "execution_count": 15
    }
   ],
   "source": [
    "df.groupby('sex')['total_bill'].apply(mean_eur2usd)"
   ]
  },
  {
   "cell_type": "code",
   "execution_count": 16,
   "metadata": {},
   "outputs": [
    {
     "output_type": "execute_result",
     "data": {
      "text/plain": "sex\nMale     23.233\nFemale   20.224\nName: total_bill, dtype: float64"
     },
     "metadata": {},
     "execution_count": 16
    }
   ],
   "source": [
    "df.groupby('sex')['total_bill'].apply(lambda x : np.mean(x) * 1.12)"
   ]
  },
  {
   "cell_type": "code",
   "execution_count": 17,
   "metadata": {},
   "outputs": [],
   "source": [
    "def f_filter(x):\n",
    "    return mean_eur2usd(x['total_bill'].mean()) > 20"
   ]
  },
  {
   "cell_type": "code",
   "execution_count": 18,
   "metadata": {},
   "outputs": [
    {
     "output_type": "execute_result",
     "data": {
      "text/plain": "     total_bill   tip     sex smoker   day    time  size  porcentaje_propina\n0        16.990 1.010  Female     No   Sun  Dinner     2               0.059\n1        10.340 1.660    Male     No   Sun  Dinner     3               0.161\n2        21.010 3.500    Male     No   Sun  Dinner     3               0.167\n3        23.680 3.310    Male     No   Sun  Dinner     2               0.140\n4        24.590 3.610  Female     No   Sun  Dinner     4               0.147\n..          ...   ...     ...    ...   ...     ...   ...                 ...\n239      29.030 5.920    Male     No   Sat  Dinner     3               0.204\n240      27.180 2.000  Female    Yes   Sat  Dinner     2               0.074\n241      22.670 2.000    Male    Yes   Sat  Dinner     2               0.088\n242      17.820 1.750    Male     No   Sat  Dinner     2               0.098\n243      18.780 3.000  Female     No  Thur  Dinner     2               0.160\n\n[209 rows x 8 columns]",
      "text/html": "<div>\n<style scoped>\n    .dataframe tbody tr th:only-of-type {\n        vertical-align: middle;\n    }\n\n    .dataframe tbody tr th {\n        vertical-align: top;\n    }\n\n    .dataframe thead th {\n        text-align: right;\n    }\n</style>\n<table border=\"1\" class=\"dataframe\">\n  <thead>\n    <tr style=\"text-align: right;\">\n      <th></th>\n      <th>total_bill</th>\n      <th>tip</th>\n      <th>sex</th>\n      <th>smoker</th>\n      <th>day</th>\n      <th>time</th>\n      <th>size</th>\n      <th>porcentaje_propina</th>\n    </tr>\n  </thead>\n  <tbody>\n    <tr>\n      <th>0</th>\n      <td>16.990</td>\n      <td>1.010</td>\n      <td>Female</td>\n      <td>No</td>\n      <td>Sun</td>\n      <td>Dinner</td>\n      <td>2</td>\n      <td>0.059</td>\n    </tr>\n    <tr>\n      <th>1</th>\n      <td>10.340</td>\n      <td>1.660</td>\n      <td>Male</td>\n      <td>No</td>\n      <td>Sun</td>\n      <td>Dinner</td>\n      <td>3</td>\n      <td>0.161</td>\n    </tr>\n    <tr>\n      <th>2</th>\n      <td>21.010</td>\n      <td>3.500</td>\n      <td>Male</td>\n      <td>No</td>\n      <td>Sun</td>\n      <td>Dinner</td>\n      <td>3</td>\n      <td>0.167</td>\n    </tr>\n    <tr>\n      <th>3</th>\n      <td>23.680</td>\n      <td>3.310</td>\n      <td>Male</td>\n      <td>No</td>\n      <td>Sun</td>\n      <td>Dinner</td>\n      <td>2</td>\n      <td>0.140</td>\n    </tr>\n    <tr>\n      <th>4</th>\n      <td>24.590</td>\n      <td>3.610</td>\n      <td>Female</td>\n      <td>No</td>\n      <td>Sun</td>\n      <td>Dinner</td>\n      <td>4</td>\n      <td>0.147</td>\n    </tr>\n    <tr>\n      <th>...</th>\n      <td>...</td>\n      <td>...</td>\n      <td>...</td>\n      <td>...</td>\n      <td>...</td>\n      <td>...</td>\n      <td>...</td>\n      <td>...</td>\n    </tr>\n    <tr>\n      <th>239</th>\n      <td>29.030</td>\n      <td>5.920</td>\n      <td>Male</td>\n      <td>No</td>\n      <td>Sat</td>\n      <td>Dinner</td>\n      <td>3</td>\n      <td>0.204</td>\n    </tr>\n    <tr>\n      <th>240</th>\n      <td>27.180</td>\n      <td>2.000</td>\n      <td>Female</td>\n      <td>Yes</td>\n      <td>Sat</td>\n      <td>Dinner</td>\n      <td>2</td>\n      <td>0.074</td>\n    </tr>\n    <tr>\n      <th>241</th>\n      <td>22.670</td>\n      <td>2.000</td>\n      <td>Male</td>\n      <td>Yes</td>\n      <td>Sat</td>\n      <td>Dinner</td>\n      <td>2</td>\n      <td>0.088</td>\n    </tr>\n    <tr>\n      <th>242</th>\n      <td>17.820</td>\n      <td>1.750</td>\n      <td>Male</td>\n      <td>No</td>\n      <td>Sat</td>\n      <td>Dinner</td>\n      <td>2</td>\n      <td>0.098</td>\n    </tr>\n    <tr>\n      <th>243</th>\n      <td>18.780</td>\n      <td>3.000</td>\n      <td>Female</td>\n      <td>No</td>\n      <td>Thur</td>\n      <td>Dinner</td>\n      <td>2</td>\n      <td>0.160</td>\n    </tr>\n  </tbody>\n</table>\n<p>209 rows × 8 columns</p>\n</div>"
     },
     "metadata": {},
     "execution_count": 18
    }
   ],
   "source": [
    "df.groupby(['sex', 'time']).filter(f_filter)"
   ]
  },
  {
   "cell_type": "code",
   "execution_count": 4,
   "metadata": {},
   "outputs": [],
   "source": [
    "df['ones'] = 1"
   ]
  },
  {
   "cell_type": "code",
   "execution_count": 7,
   "metadata": {},
   "outputs": [
    {
     "output_type": "execute_result",
     "data": {
      "text/plain": "sex     smoker\nMale    Yes       60\n        No        97\nFemale  Yes       33\n        No        54\nName: ones, dtype: int64"
     },
     "metadata": {},
     "execution_count": 7
    }
   ],
   "source": [
    "df_g = df.groupby(['sex', 'smoker'])['ones'].sum()\n",
    "df_g"
   ]
  },
  {
   "cell_type": "code",
   "execution_count": 12,
   "metadata": {},
   "outputs": [
    {
     "output_type": "execute_result",
     "data": {
      "text/plain": "(3.022, 18.983]     140\n(18.983, 34.897]     88\n(34.897, 50.81]      16\nName: total_bill, dtype: int64"
     },
     "metadata": {},
     "execution_count": 12
    }
   ],
   "source": [
    "# Convertir una variable continua en rangos de clase\n",
    "pd.cut(df['total_bill'], bins=3).value_counts()"
   ]
  },
  {
   "cell_type": "code",
   "execution_count": 15,
   "metadata": {},
   "outputs": [
    {
     "output_type": "execute_result",
     "data": {
      "text/plain": "(3, 18]     127\n(18, 35]    101\n(35, 60]     16\nName: total_bill, dtype: int64"
     },
     "metadata": {},
     "execution_count": 15
    }
   ],
   "source": [
    "pd.cut(df['total_bill'], bins=[3, 18, 35, 60]).value_counts()"
   ]
  },
  {
   "cell_type": "markdown",
   "metadata": {},
   "source": [
    "## Pivot Table"
   ]
  },
  {
   "cell_type": "code",
   "execution_count": 14,
   "metadata": {},
   "outputs": [
    {
     "output_type": "execute_result",
     "data": {
      "text/plain": "sex     time  \nMale    Lunch    18.048\n        Dinner   21.461\nFemale  Lunch    16.339\n        Dinner   19.213\nName: total_bill, dtype: float64"
     },
     "metadata": {},
     "execution_count": 14
    }
   ],
   "source": [
    "df.groupby(['sex', 'time'])['total_bill'].mean()"
   ]
  },
  {
   "cell_type": "code",
   "execution_count": 17,
   "metadata": {},
   "outputs": [
    {
     "output_type": "execute_result",
     "data": {
      "text/plain": "      sex    time  total_bill\n0    Male   Lunch      18.048\n1    Male  Dinner      21.461\n2  Female   Lunch      16.339\n3  Female  Dinner      19.213",
      "text/html": "<div>\n<style scoped>\n    .dataframe tbody tr th:only-of-type {\n        vertical-align: middle;\n    }\n\n    .dataframe tbody tr th {\n        vertical-align: top;\n    }\n\n    .dataframe thead th {\n        text-align: right;\n    }\n</style>\n<table border=\"1\" class=\"dataframe\">\n  <thead>\n    <tr style=\"text-align: right;\">\n      <th></th>\n      <th>sex</th>\n      <th>time</th>\n      <th>total_bill</th>\n    </tr>\n  </thead>\n  <tbody>\n    <tr>\n      <th>0</th>\n      <td>Male</td>\n      <td>Lunch</td>\n      <td>18.048</td>\n    </tr>\n    <tr>\n      <th>1</th>\n      <td>Male</td>\n      <td>Dinner</td>\n      <td>21.461</td>\n    </tr>\n    <tr>\n      <th>2</th>\n      <td>Female</td>\n      <td>Lunch</td>\n      <td>16.339</td>\n    </tr>\n    <tr>\n      <th>3</th>\n      <td>Female</td>\n      <td>Dinner</td>\n      <td>19.213</td>\n    </tr>\n  </tbody>\n</table>\n</div>"
     },
     "metadata": {},
     "execution_count": 17
    }
   ],
   "source": [
    "df_gp = df.groupby(['sex', 'time'])['total_bill'].mean().reset_index()\n",
    "df_gp"
   ]
  },
  {
   "cell_type": "code",
   "execution_count": 18,
   "metadata": {},
   "outputs": [
    {
     "output_type": "execute_result",
     "data": {
      "text/plain": "time    Lunch  Dinner\nsex                  \nMale   18.048  21.461\nFemale 16.339  19.213",
      "text/html": "<div>\n<style scoped>\n    .dataframe tbody tr th:only-of-type {\n        vertical-align: middle;\n    }\n\n    .dataframe tbody tr th {\n        vertical-align: top;\n    }\n\n    .dataframe thead th {\n        text-align: right;\n    }\n</style>\n<table border=\"1\" class=\"dataframe\">\n  <thead>\n    <tr style=\"text-align: right;\">\n      <th>time</th>\n      <th>Lunch</th>\n      <th>Dinner</th>\n    </tr>\n    <tr>\n      <th>sex</th>\n      <th></th>\n      <th></th>\n    </tr>\n  </thead>\n  <tbody>\n    <tr>\n      <th>Male</th>\n      <td>18.048</td>\n      <td>21.461</td>\n    </tr>\n    <tr>\n      <th>Female</th>\n      <td>16.339</td>\n      <td>19.213</td>\n    </tr>\n  </tbody>\n</table>\n</div>"
     },
     "metadata": {},
     "execution_count": 18
    }
   ],
   "source": [
    "df_gp.pivot_table(values='total_bill', index='sex', columns='time')"
   ]
  },
  {
   "cell_type": "code",
   "execution_count": 19,
   "metadata": {},
   "outputs": [
    {
     "output_type": "execute_result",
     "data": {
      "text/plain": "time    Lunch  Dinner\nsex                  \nMale   18.048  21.461\nFemale 16.339  19.213",
      "text/html": "<div>\n<style scoped>\n    .dataframe tbody tr th:only-of-type {\n        vertical-align: middle;\n    }\n\n    .dataframe tbody tr th {\n        vertical-align: top;\n    }\n\n    .dataframe thead th {\n        text-align: right;\n    }\n</style>\n<table border=\"1\" class=\"dataframe\">\n  <thead>\n    <tr style=\"text-align: right;\">\n      <th>time</th>\n      <th>Lunch</th>\n      <th>Dinner</th>\n    </tr>\n    <tr>\n      <th>sex</th>\n      <th></th>\n      <th></th>\n    </tr>\n  </thead>\n  <tbody>\n    <tr>\n      <th>Male</th>\n      <td>18.048</td>\n      <td>21.461</td>\n    </tr>\n    <tr>\n      <th>Female</th>\n      <td>16.339</td>\n      <td>19.213</td>\n    </tr>\n  </tbody>\n</table>\n</div>"
     },
     "metadata": {},
     "execution_count": 19
    }
   ],
   "source": [
    "df.pivot_table(values='total_bill', index='sex', columns='time')"
   ]
  },
  {
   "cell_type": "code",
   "execution_count": 21,
   "metadata": {},
   "outputs": [
    {
     "output_type": "execute_result",
     "data": {
      "text/plain": "time    Lunch  Dinner\nsex                  \nMale   16.580  19.630\nFemale 13.420  17.190",
      "text/html": "<div>\n<style scoped>\n    .dataframe tbody tr th:only-of-type {\n        vertical-align: middle;\n    }\n\n    .dataframe tbody tr th {\n        vertical-align: top;\n    }\n\n    .dataframe thead th {\n        text-align: right;\n    }\n</style>\n<table border=\"1\" class=\"dataframe\">\n  <thead>\n    <tr style=\"text-align: right;\">\n      <th>time</th>\n      <th>Lunch</th>\n      <th>Dinner</th>\n    </tr>\n    <tr>\n      <th>sex</th>\n      <th></th>\n      <th></th>\n    </tr>\n  </thead>\n  <tbody>\n    <tr>\n      <th>Male</th>\n      <td>16.580</td>\n      <td>19.630</td>\n    </tr>\n    <tr>\n      <th>Female</th>\n      <td>13.420</td>\n      <td>17.190</td>\n    </tr>\n  </tbody>\n</table>\n</div>"
     },
     "metadata": {},
     "execution_count": 21
    }
   ],
   "source": [
    "df.pivot_table(values='total_bill', index='sex', columns='time', aggfunc=np.median)"
   ]
  },
  {
   "cell_type": "code",
   "execution_count": 24,
   "metadata": {},
   "outputs": [
    {
     "output_type": "execute_result",
     "data": {
      "text/plain": "       median          std       \ntime    Lunch Dinner Lunch Dinner\nsex                              \nMale   16.580 19.630 7.953  9.461\nFemale 13.420 17.190 7.501  8.202",
      "text/html": "<div>\n<style scoped>\n    .dataframe tbody tr th:only-of-type {\n        vertical-align: middle;\n    }\n\n    .dataframe tbody tr th {\n        vertical-align: top;\n    }\n\n    .dataframe thead tr th {\n        text-align: left;\n    }\n\n    .dataframe thead tr:last-of-type th {\n        text-align: right;\n    }\n</style>\n<table border=\"1\" class=\"dataframe\">\n  <thead>\n    <tr>\n      <th></th>\n      <th colspan=\"2\" halign=\"left\">median</th>\n      <th colspan=\"2\" halign=\"left\">std</th>\n    </tr>\n    <tr>\n      <th>time</th>\n      <th>Lunch</th>\n      <th>Dinner</th>\n      <th>Lunch</th>\n      <th>Dinner</th>\n    </tr>\n    <tr>\n      <th>sex</th>\n      <th></th>\n      <th></th>\n      <th></th>\n      <th></th>\n    </tr>\n  </thead>\n  <tbody>\n    <tr>\n      <th>Male</th>\n      <td>16.580</td>\n      <td>19.630</td>\n      <td>7.953</td>\n      <td>9.461</td>\n    </tr>\n    <tr>\n      <th>Female</th>\n      <td>13.420</td>\n      <td>17.190</td>\n      <td>7.501</td>\n      <td>8.202</td>\n    </tr>\n  </tbody>\n</table>\n</div>"
     },
     "metadata": {},
     "execution_count": 24
    }
   ],
   "source": [
    "df_pivot = df.pivot_table(values='total_bill', index='sex', columns='time', aggfunc=[np.median, np.std])\n",
    "df_pivot"
   ]
  },
  {
   "cell_type": "code",
   "execution_count": 28,
   "metadata": {},
   "outputs": [
    {
     "output_type": "execute_result",
     "data": {
      "text/plain": "       median          std       \ntime    Lunch Dinner Lunch Dinner\nsex                              \nMale   16.580 19.630 7.953  9.461\nFemale 13.420 17.190 7.501  8.202",
      "text/html": "<div>\n<style scoped>\n    .dataframe tbody tr th:only-of-type {\n        vertical-align: middle;\n    }\n\n    .dataframe tbody tr th {\n        vertical-align: top;\n    }\n\n    .dataframe thead tr th {\n        text-align: left;\n    }\n\n    .dataframe thead tr:last-of-type th {\n        text-align: right;\n    }\n</style>\n<table border=\"1\" class=\"dataframe\">\n  <thead>\n    <tr>\n      <th></th>\n      <th colspan=\"2\" halign=\"left\">median</th>\n      <th colspan=\"2\" halign=\"left\">std</th>\n    </tr>\n    <tr>\n      <th>time</th>\n      <th>Lunch</th>\n      <th>Dinner</th>\n      <th>Lunch</th>\n      <th>Dinner</th>\n    </tr>\n    <tr>\n      <th>sex</th>\n      <th></th>\n      <th></th>\n      <th></th>\n      <th></th>\n    </tr>\n  </thead>\n  <tbody>\n    <tr>\n      <th>Male</th>\n      <td>16.580</td>\n      <td>19.630</td>\n      <td>7.953</td>\n      <td>9.461</td>\n    </tr>\n    <tr>\n      <th>Female</th>\n      <td>13.420</td>\n      <td>17.190</td>\n      <td>7.501</td>\n      <td>8.202</td>\n    </tr>\n  </tbody>\n</table>\n</div>"
     },
     "metadata": {},
     "execution_count": 28
    }
   ],
   "source": [
    "df_pivot.unstack().reset_index()\n",
    "df_pivot"
   ]
  },
  {
   "cell_type": "code",
   "execution_count": null,
   "metadata": {},
   "outputs": [],
   "source": []
  }
 ]
}