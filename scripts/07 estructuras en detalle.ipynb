{
 "cells": [
  {
   "cell_type": "markdown",
   "metadata": {},
   "source": [
    "# Tipos de variables que componen un data frame"
   ]
  },
  {
   "cell_type": "code",
   "execution_count": 1,
   "metadata": {},
   "outputs": [],
   "source": [
    "import pandas as pd"
   ]
  },
  {
   "cell_type": "code",
   "execution_count": 2,
   "metadata": {},
   "outputs": [
    {
     "output_type": "execute_result",
     "data": {
      "text/plain": "'1.0.1'"
     },
     "metadata": {},
     "execution_count": 2
    }
   ],
   "source": [
    "pd.__version__"
   ]
  },
  {
   "cell_type": "code",
   "execution_count": 2,
   "metadata": {},
   "outputs": [],
   "source": [
    "df_meteorites = pd.read_csv('../../datasets/nasa/Meteorite_Landings.csv')"
   ]
  },
  {
   "cell_type": "code",
   "execution_count": 3,
   "metadata": {},
   "outputs": [
    {
     "output_type": "execute_result",
     "data": {
      "text/plain": "       name   id nametype     recclass  mass (g)  fall  \\\n0    Aachen    1    Valid           L5      21.0  Fell   \n1    Aarhus    2    Valid           H6     720.0  Fell   \n2      Abee    6    Valid          EH4  107000.0  Fell   \n3  Acapulco   10    Valid  Acapulcoite    1914.0  Fell   \n4   Achiras  370    Valid           L6     780.0  Fell   \n\n                     year    reclat    reclong           GeoLocation  \n0  01/01/1880 12:00:00 AM  50.77500    6.08333     (50.775, 6.08333)  \n1  01/01/1951 12:00:00 AM  56.18333   10.23333  (56.18333, 10.23333)  \n2  01/01/1952 12:00:00 AM  54.21667 -113.00000    (54.21667, -113.0)  \n3  01/01/1976 12:00:00 AM  16.88333  -99.90000     (16.88333, -99.9)  \n4  01/01/1902 12:00:00 AM -33.16667  -64.95000   (-33.16667, -64.95)  ",
      "text/html": "<div>\n<style scoped>\n    .dataframe tbody tr th:only-of-type {\n        vertical-align: middle;\n    }\n\n    .dataframe tbody tr th {\n        vertical-align: top;\n    }\n\n    .dataframe thead th {\n        text-align: right;\n    }\n</style>\n<table border=\"1\" class=\"dataframe\">\n  <thead>\n    <tr style=\"text-align: right;\">\n      <th></th>\n      <th>name</th>\n      <th>id</th>\n      <th>nametype</th>\n      <th>recclass</th>\n      <th>mass (g)</th>\n      <th>fall</th>\n      <th>year</th>\n      <th>reclat</th>\n      <th>reclong</th>\n      <th>GeoLocation</th>\n    </tr>\n  </thead>\n  <tbody>\n    <tr>\n      <th>0</th>\n      <td>Aachen</td>\n      <td>1</td>\n      <td>Valid</td>\n      <td>L5</td>\n      <td>21.0</td>\n      <td>Fell</td>\n      <td>01/01/1880 12:00:00 AM</td>\n      <td>50.77500</td>\n      <td>6.08333</td>\n      <td>(50.775, 6.08333)</td>\n    </tr>\n    <tr>\n      <th>1</th>\n      <td>Aarhus</td>\n      <td>2</td>\n      <td>Valid</td>\n      <td>H6</td>\n      <td>720.0</td>\n      <td>Fell</td>\n      <td>01/01/1951 12:00:00 AM</td>\n      <td>56.18333</td>\n      <td>10.23333</td>\n      <td>(56.18333, 10.23333)</td>\n    </tr>\n    <tr>\n      <th>2</th>\n      <td>Abee</td>\n      <td>6</td>\n      <td>Valid</td>\n      <td>EH4</td>\n      <td>107000.0</td>\n      <td>Fell</td>\n      <td>01/01/1952 12:00:00 AM</td>\n      <td>54.21667</td>\n      <td>-113.00000</td>\n      <td>(54.21667, -113.0)</td>\n    </tr>\n    <tr>\n      <th>3</th>\n      <td>Acapulco</td>\n      <td>10</td>\n      <td>Valid</td>\n      <td>Acapulcoite</td>\n      <td>1914.0</td>\n      <td>Fell</td>\n      <td>01/01/1976 12:00:00 AM</td>\n      <td>16.88333</td>\n      <td>-99.90000</td>\n      <td>(16.88333, -99.9)</td>\n    </tr>\n    <tr>\n      <th>4</th>\n      <td>Achiras</td>\n      <td>370</td>\n      <td>Valid</td>\n      <td>L6</td>\n      <td>780.0</td>\n      <td>Fell</td>\n      <td>01/01/1902 12:00:00 AM</td>\n      <td>-33.16667</td>\n      <td>-64.95000</td>\n      <td>(-33.16667, -64.95)</td>\n    </tr>\n  </tbody>\n</table>\n</div>"
     },
     "metadata": {},
     "execution_count": 3
    }
   ],
   "source": [
    "# Ver los primeros registros del data frame\n",
    "df_meteorites.head()"
   ]
  },
  {
   "cell_type": "code",
   "execution_count": 7,
   "metadata": {},
   "outputs": [
    {
     "output_type": "execute_result",
     "data": {
      "text/plain": "             name     id nametype              recclass  mass (g)   fall  \\\n45711  Zillah 002  31356    Valid               Eucrite     172.0  Found   \n45712      Zinder  30409    Valid  Pallasite, ungrouped      46.0  Found   \n45713        Zlin  30410    Valid                    H4       3.3  Found   \n45714   Zubkovsky  31357    Valid                    L6    2167.0  Found   \n45715  Zulu Queen  30414    Valid                  L3.7     200.0  Found   \n\n                         year    reclat    reclong             GeoLocation  \n45711  01/01/1990 12:00:00 AM  29.03700   17.01850       (29.037, 17.0185)  \n45712  01/01/1999 12:00:00 AM  13.78333    8.96667     (13.78333, 8.96667)  \n45713  01/01/1939 12:00:00 AM  49.25000   17.66667       (49.25, 17.66667)  \n45714  01/01/2003 12:00:00 AM  49.78917   41.50460     (49.78917, 41.5046)  \n45715  01/01/1976 12:00:00 AM  33.98333 -115.68333  (33.98333, -115.68333)  ",
      "text/html": "<div>\n<style scoped>\n    .dataframe tbody tr th:only-of-type {\n        vertical-align: middle;\n    }\n\n    .dataframe tbody tr th {\n        vertical-align: top;\n    }\n\n    .dataframe thead th {\n        text-align: right;\n    }\n</style>\n<table border=\"1\" class=\"dataframe\">\n  <thead>\n    <tr style=\"text-align: right;\">\n      <th></th>\n      <th>name</th>\n      <th>id</th>\n      <th>nametype</th>\n      <th>recclass</th>\n      <th>mass (g)</th>\n      <th>fall</th>\n      <th>year</th>\n      <th>reclat</th>\n      <th>reclong</th>\n      <th>GeoLocation</th>\n    </tr>\n  </thead>\n  <tbody>\n    <tr>\n      <th>45711</th>\n      <td>Zillah 002</td>\n      <td>31356</td>\n      <td>Valid</td>\n      <td>Eucrite</td>\n      <td>172.0</td>\n      <td>Found</td>\n      <td>01/01/1990 12:00:00 AM</td>\n      <td>29.03700</td>\n      <td>17.01850</td>\n      <td>(29.037, 17.0185)</td>\n    </tr>\n    <tr>\n      <th>45712</th>\n      <td>Zinder</td>\n      <td>30409</td>\n      <td>Valid</td>\n      <td>Pallasite, ungrouped</td>\n      <td>46.0</td>\n      <td>Found</td>\n      <td>01/01/1999 12:00:00 AM</td>\n      <td>13.78333</td>\n      <td>8.96667</td>\n      <td>(13.78333, 8.96667)</td>\n    </tr>\n    <tr>\n      <th>45713</th>\n      <td>Zlin</td>\n      <td>30410</td>\n      <td>Valid</td>\n      <td>H4</td>\n      <td>3.3</td>\n      <td>Found</td>\n      <td>01/01/1939 12:00:00 AM</td>\n      <td>49.25000</td>\n      <td>17.66667</td>\n      <td>(49.25, 17.66667)</td>\n    </tr>\n    <tr>\n      <th>45714</th>\n      <td>Zubkovsky</td>\n      <td>31357</td>\n      <td>Valid</td>\n      <td>L6</td>\n      <td>2167.0</td>\n      <td>Found</td>\n      <td>01/01/2003 12:00:00 AM</td>\n      <td>49.78917</td>\n      <td>41.50460</td>\n      <td>(49.78917, 41.5046)</td>\n    </tr>\n    <tr>\n      <th>45715</th>\n      <td>Zulu Queen</td>\n      <td>30414</td>\n      <td>Valid</td>\n      <td>L3.7</td>\n      <td>200.0</td>\n      <td>Found</td>\n      <td>01/01/1976 12:00:00 AM</td>\n      <td>33.98333</td>\n      <td>-115.68333</td>\n      <td>(33.98333, -115.68333)</td>\n    </tr>\n  </tbody>\n</table>\n</div>"
     },
     "metadata": {},
     "execution_count": 7
    }
   ],
   "source": [
    "# Ver los ultimos registros del data frame\n",
    "df_meteorites.tail()"
   ]
  },
  {
   "cell_type": "code",
   "execution_count": 10,
   "metadata": {},
   "outputs": [
    {
     "output_type": "execute_result",
     "data": {
      "text/plain": "                              name     id nametype recclass  mass (g)   fall  \\\n30089        Northwest Africa 6737  54602    Valid      H~5    324.00  Found   \n41801                Yamato 793140  28489    Valid       E3      0.59  Found   \n34053  Queen Alexandra Range 97422  20878    Valid      LL5     10.60  Found   \n34402  Queen Alexandra Range 97769  21224    Valid       L6      7.10  Found   \n9807        Elephant Moraine 87656   8206    Valid       L6     35.30  Found   \n\n                         year    reclat    reclong             GeoLocation  \n30089  01/01/2010 12:00:00 AM   0.00000    0.00000              (0.0, 0.0)  \n41801  01/01/1979 12:00:00 AM -71.50000   35.66667       (-71.5, 35.66667)  \n34053  01/01/1997 12:00:00 AM -84.00000  168.00000          (-84.0, 168.0)  \n34402  01/01/1997 12:00:00 AM -84.00000  168.00000          (-84.0, 168.0)  \n9807   01/01/1987 12:00:00 AM -76.28293  156.44685  (-76.28293, 156.44685)  ",
      "text/html": "<div>\n<style scoped>\n    .dataframe tbody tr th:only-of-type {\n        vertical-align: middle;\n    }\n\n    .dataframe tbody tr th {\n        vertical-align: top;\n    }\n\n    .dataframe thead th {\n        text-align: right;\n    }\n</style>\n<table border=\"1\" class=\"dataframe\">\n  <thead>\n    <tr style=\"text-align: right;\">\n      <th></th>\n      <th>name</th>\n      <th>id</th>\n      <th>nametype</th>\n      <th>recclass</th>\n      <th>mass (g)</th>\n      <th>fall</th>\n      <th>year</th>\n      <th>reclat</th>\n      <th>reclong</th>\n      <th>GeoLocation</th>\n    </tr>\n  </thead>\n  <tbody>\n    <tr>\n      <th>30089</th>\n      <td>Northwest Africa 6737</td>\n      <td>54602</td>\n      <td>Valid</td>\n      <td>H~5</td>\n      <td>324.00</td>\n      <td>Found</td>\n      <td>01/01/2010 12:00:00 AM</td>\n      <td>0.00000</td>\n      <td>0.00000</td>\n      <td>(0.0, 0.0)</td>\n    </tr>\n    <tr>\n      <th>41801</th>\n      <td>Yamato 793140</td>\n      <td>28489</td>\n      <td>Valid</td>\n      <td>E3</td>\n      <td>0.59</td>\n      <td>Found</td>\n      <td>01/01/1979 12:00:00 AM</td>\n      <td>-71.50000</td>\n      <td>35.66667</td>\n      <td>(-71.5, 35.66667)</td>\n    </tr>\n    <tr>\n      <th>34053</th>\n      <td>Queen Alexandra Range 97422</td>\n      <td>20878</td>\n      <td>Valid</td>\n      <td>LL5</td>\n      <td>10.60</td>\n      <td>Found</td>\n      <td>01/01/1997 12:00:00 AM</td>\n      <td>-84.00000</td>\n      <td>168.00000</td>\n      <td>(-84.0, 168.0)</td>\n    </tr>\n    <tr>\n      <th>34402</th>\n      <td>Queen Alexandra Range 97769</td>\n      <td>21224</td>\n      <td>Valid</td>\n      <td>L6</td>\n      <td>7.10</td>\n      <td>Found</td>\n      <td>01/01/1997 12:00:00 AM</td>\n      <td>-84.00000</td>\n      <td>168.00000</td>\n      <td>(-84.0, 168.0)</td>\n    </tr>\n    <tr>\n      <th>9807</th>\n      <td>Elephant Moraine 87656</td>\n      <td>8206</td>\n      <td>Valid</td>\n      <td>L6</td>\n      <td>35.30</td>\n      <td>Found</td>\n      <td>01/01/1987 12:00:00 AM</td>\n      <td>-76.28293</td>\n      <td>156.44685</td>\n      <td>(-76.28293, 156.44685)</td>\n    </tr>\n  </tbody>\n</table>\n</div>"
     },
     "metadata": {},
     "execution_count": 10
    }
   ],
   "source": [
    "# Ver una muestra aleatoria de registros del data frame\n",
    "df_meteorites.sample(5)"
   ]
  },
  {
   "cell_type": "code",
   "execution_count": 16,
   "metadata": {},
   "outputs": [
    {
     "output_type": "execute_result",
     "data": {
      "text/plain": "(45716, 10)"
     },
     "metadata": {},
     "execution_count": 16
    }
   ],
   "source": [
    "# Ver el tamano del data frame\n",
    "df_meteorites.shape"
   ]
  },
  {
   "cell_type": "code",
   "execution_count": 15,
   "metadata": {},
   "outputs": [
    {
     "output_type": "execute_result",
     "data": {
      "text/plain": "457160"
     },
     "metadata": {},
     "execution_count": 15
    }
   ],
   "source": [
    "# La cantidad de datos que componen el data frame\n",
    "df_meteorites.size"
   ]
  },
  {
   "cell_type": "code",
   "execution_count": 20,
   "metadata": {},
   "outputs": [],
   "source": [
    "# Especificar el numero de decimales que se desean de un data frame\n",
    "pd.options.display.float_format = '{:.1f}'.format"
   ]
  },
  {
   "cell_type": "code",
   "execution_count": 21,
   "metadata": {},
   "outputs": [
    {
     "output_type": "execute_result",
     "data": {
      "text/plain": "           id   mass (g)  reclat  reclong\ncount 45716.0    45585.0 38401.0  38401.0\nmean  26889.7    13278.1   -39.1     61.1\nstd   16860.7   574988.9    46.4     80.6\nmin       1.0        0.0   -87.4   -165.4\n25%   12688.8        7.2   -76.7      0.0\n50%   24261.5       32.6   -71.5     35.7\n75%   40656.8      202.6     0.0    157.2\nmax   57458.0 60000000.0    81.2    354.5",
      "text/html": "<div>\n<style scoped>\n    .dataframe tbody tr th:only-of-type {\n        vertical-align: middle;\n    }\n\n    .dataframe tbody tr th {\n        vertical-align: top;\n    }\n\n    .dataframe thead th {\n        text-align: right;\n    }\n</style>\n<table border=\"1\" class=\"dataframe\">\n  <thead>\n    <tr style=\"text-align: right;\">\n      <th></th>\n      <th>id</th>\n      <th>mass (g)</th>\n      <th>reclat</th>\n      <th>reclong</th>\n    </tr>\n  </thead>\n  <tbody>\n    <tr>\n      <th>count</th>\n      <td>45716.0</td>\n      <td>45585.0</td>\n      <td>38401.0</td>\n      <td>38401.0</td>\n    </tr>\n    <tr>\n      <th>mean</th>\n      <td>26889.7</td>\n      <td>13278.1</td>\n      <td>-39.1</td>\n      <td>61.1</td>\n    </tr>\n    <tr>\n      <th>std</th>\n      <td>16860.7</td>\n      <td>574988.9</td>\n      <td>46.4</td>\n      <td>80.6</td>\n    </tr>\n    <tr>\n      <th>min</th>\n      <td>1.0</td>\n      <td>0.0</td>\n      <td>-87.4</td>\n      <td>-165.4</td>\n    </tr>\n    <tr>\n      <th>25%</th>\n      <td>12688.8</td>\n      <td>7.2</td>\n      <td>-76.7</td>\n      <td>0.0</td>\n    </tr>\n    <tr>\n      <th>50%</th>\n      <td>24261.5</td>\n      <td>32.6</td>\n      <td>-71.5</td>\n      <td>35.7</td>\n    </tr>\n    <tr>\n      <th>75%</th>\n      <td>40656.8</td>\n      <td>202.6</td>\n      <td>0.0</td>\n      <td>157.2</td>\n    </tr>\n    <tr>\n      <th>max</th>\n      <td>57458.0</td>\n      <td>60000000.0</td>\n      <td>81.2</td>\n      <td>354.5</td>\n    </tr>\n  </tbody>\n</table>\n</div>"
     },
     "metadata": {},
     "execution_count": 21
    }
   ],
   "source": [
    "# Cualidades estadisticas de las variables numericas de la base de datos\n",
    "df_meteorites.describe()"
   ]
  },
  {
   "cell_type": "code",
   "execution_count": 23,
   "metadata": {},
   "outputs": [
    {
     "output_type": "execute_result",
     "data": {
      "text/plain": "                          name      id nametype recclass   mass (g)   fall  \\\ncount                    45716 45716.0    45716    45716    45585.0  45716   \nunique                   45716     nan        2      466        nan      2   \ntop     Elephant Moraine 90518     nan    Valid       L6        nan  Found   \nfreq                         1     nan    45641     8285        nan  44609   \nmean                       NaN 26889.7      NaN      NaN    13278.1    NaN   \nstd                        NaN 16860.7      NaN      NaN   574988.9    NaN   \nmin                        NaN     1.0      NaN      NaN        0.0    NaN   \n25%                        NaN 12688.8      NaN      NaN        7.2    NaN   \n50%                        NaN 24261.5      NaN      NaN       32.6    NaN   \n75%                        NaN 40656.8      NaN      NaN      202.6    NaN   \nmax                        NaN 57458.0      NaN      NaN 60000000.0    NaN   \n\n                          year  reclat  reclong GeoLocation  \ncount                    45425 38401.0  38401.0       38401  \nunique                     266     nan      nan       17100  \ntop     01/01/2003 12:00:00 AM     nan      nan  (0.0, 0.0)  \nfreq                      3323     nan      nan        6214  \nmean                       NaN   -39.1     61.1         NaN  \nstd                        NaN    46.4     80.6         NaN  \nmin                        NaN   -87.4   -165.4         NaN  \n25%                        NaN   -76.7      0.0         NaN  \n50%                        NaN   -71.5     35.7         NaN  \n75%                        NaN     0.0    157.2         NaN  \nmax                        NaN    81.2    354.5         NaN  ",
      "text/html": "<div>\n<style scoped>\n    .dataframe tbody tr th:only-of-type {\n        vertical-align: middle;\n    }\n\n    .dataframe tbody tr th {\n        vertical-align: top;\n    }\n\n    .dataframe thead th {\n        text-align: right;\n    }\n</style>\n<table border=\"1\" class=\"dataframe\">\n  <thead>\n    <tr style=\"text-align: right;\">\n      <th></th>\n      <th>name</th>\n      <th>id</th>\n      <th>nametype</th>\n      <th>recclass</th>\n      <th>mass (g)</th>\n      <th>fall</th>\n      <th>year</th>\n      <th>reclat</th>\n      <th>reclong</th>\n      <th>GeoLocation</th>\n    </tr>\n  </thead>\n  <tbody>\n    <tr>\n      <th>count</th>\n      <td>45716</td>\n      <td>45716.0</td>\n      <td>45716</td>\n      <td>45716</td>\n      <td>45585.0</td>\n      <td>45716</td>\n      <td>45425</td>\n      <td>38401.0</td>\n      <td>38401.0</td>\n      <td>38401</td>\n    </tr>\n    <tr>\n      <th>unique</th>\n      <td>45716</td>\n      <td>nan</td>\n      <td>2</td>\n      <td>466</td>\n      <td>nan</td>\n      <td>2</td>\n      <td>266</td>\n      <td>nan</td>\n      <td>nan</td>\n      <td>17100</td>\n    </tr>\n    <tr>\n      <th>top</th>\n      <td>Elephant Moraine 90518</td>\n      <td>nan</td>\n      <td>Valid</td>\n      <td>L6</td>\n      <td>nan</td>\n      <td>Found</td>\n      <td>01/01/2003 12:00:00 AM</td>\n      <td>nan</td>\n      <td>nan</td>\n      <td>(0.0, 0.0)</td>\n    </tr>\n    <tr>\n      <th>freq</th>\n      <td>1</td>\n      <td>nan</td>\n      <td>45641</td>\n      <td>8285</td>\n      <td>nan</td>\n      <td>44609</td>\n      <td>3323</td>\n      <td>nan</td>\n      <td>nan</td>\n      <td>6214</td>\n    </tr>\n    <tr>\n      <th>mean</th>\n      <td>NaN</td>\n      <td>26889.7</td>\n      <td>NaN</td>\n      <td>NaN</td>\n      <td>13278.1</td>\n      <td>NaN</td>\n      <td>NaN</td>\n      <td>-39.1</td>\n      <td>61.1</td>\n      <td>NaN</td>\n    </tr>\n    <tr>\n      <th>std</th>\n      <td>NaN</td>\n      <td>16860.7</td>\n      <td>NaN</td>\n      <td>NaN</td>\n      <td>574988.9</td>\n      <td>NaN</td>\n      <td>NaN</td>\n      <td>46.4</td>\n      <td>80.6</td>\n      <td>NaN</td>\n    </tr>\n    <tr>\n      <th>min</th>\n      <td>NaN</td>\n      <td>1.0</td>\n      <td>NaN</td>\n      <td>NaN</td>\n      <td>0.0</td>\n      <td>NaN</td>\n      <td>NaN</td>\n      <td>-87.4</td>\n      <td>-165.4</td>\n      <td>NaN</td>\n    </tr>\n    <tr>\n      <th>25%</th>\n      <td>NaN</td>\n      <td>12688.8</td>\n      <td>NaN</td>\n      <td>NaN</td>\n      <td>7.2</td>\n      <td>NaN</td>\n      <td>NaN</td>\n      <td>-76.7</td>\n      <td>0.0</td>\n      <td>NaN</td>\n    </tr>\n    <tr>\n      <th>50%</th>\n      <td>NaN</td>\n      <td>24261.5</td>\n      <td>NaN</td>\n      <td>NaN</td>\n      <td>32.6</td>\n      <td>NaN</td>\n      <td>NaN</td>\n      <td>-71.5</td>\n      <td>35.7</td>\n      <td>NaN</td>\n    </tr>\n    <tr>\n      <th>75%</th>\n      <td>NaN</td>\n      <td>40656.8</td>\n      <td>NaN</td>\n      <td>NaN</td>\n      <td>202.6</td>\n      <td>NaN</td>\n      <td>NaN</td>\n      <td>0.0</td>\n      <td>157.2</td>\n      <td>NaN</td>\n    </tr>\n    <tr>\n      <th>max</th>\n      <td>NaN</td>\n      <td>57458.0</td>\n      <td>NaN</td>\n      <td>NaN</td>\n      <td>60000000.0</td>\n      <td>NaN</td>\n      <td>NaN</td>\n      <td>81.2</td>\n      <td>354.5</td>\n      <td>NaN</td>\n    </tr>\n  </tbody>\n</table>\n</div>"
     },
     "metadata": {},
     "execution_count": 23
    }
   ],
   "source": [
    "# Obtener informacion de variables tipo texto\n",
    "df_meteorites.describe(include = 'all')"
   ]
  },
  {
   "cell_type": "code",
   "execution_count": 26,
   "metadata": {
    "tags": []
   },
   "outputs": [
    {
     "output_type": "stream",
     "name": "stdout",
     "text": "<class 'pandas.core.frame.DataFrame'>\nRangeIndex: 45716 entries, 0 to 45715\nData columns (total 10 columns):\n #   Column       Non-Null Count  Dtype  \n---  ------       --------------  -----  \n 0   name         45716 non-null  object \n 1   id           45716 non-null  int64  \n 2   nametype     45716 non-null  object \n 3   recclass     45716 non-null  object \n 4   mass (g)     45585 non-null  float64\n 5   fall         45716 non-null  object \n 6   year         45425 non-null  object \n 7   reclat       38401 non-null  float64\n 8   reclong      38401 non-null  float64\n 9   GeoLocation  38401 non-null  object \ndtypes: float64(3), int64(1), object(6)\nmemory usage: 3.5+ MB\n"
    }
   ],
   "source": [
    "# Ver la informacion de la estructura de las variables\n",
    "df_meteorites.info()"
   ]
  },
  {
   "cell_type": "code",
   "execution_count": 25,
   "metadata": {},
   "outputs": [
    {
     "output_type": "execute_result",
     "data": {
      "text/plain": "name            object\nid               int64\nnametype        object\nrecclass        object\nmass (g)       float64\nfall            object\nyear            object\nreclat         float64\nreclong        float64\nGeoLocation     object\ndtype: object"
     },
     "metadata": {},
     "execution_count": 25
    }
   ],
   "source": [
    "# Ver el tipo de datos de las variables del data frame\n",
    "df_meteorites.dtypes"
   ]
  },
  {
   "cell_type": "code",
   "execution_count": 45,
   "metadata": {},
   "outputs": [
    {
     "output_type": "execute_result",
     "data": {
      "text/plain": "name            string\nid               Int64\nnametype        string\nrecclass        string\nmass (g)       float64\nfall            string\nyear            string\nreclat         float64\nreclong        float64\nGeoLocation     string\ndtype: object"
     },
     "metadata": {},
     "execution_count": 45
    }
   ],
   "source": [
    "# Cambiar los tipos de datos del data frame a un tipo de dato mas adecuado\n",
    "df_meteorites.convert_dtypes().dtypes"
   ]
  },
  {
   "cell_type": "code",
   "execution_count": 39,
   "metadata": {},
   "outputs": [
    {
     "output_type": "execute_result",
     "data": {
      "text/plain": "name           45716\nid             45716\nnametype           2\nrecclass         466\nmass (g)       12576\nfall               2\nyear             266\nreclat         12738\nreclong        14640\nGeoLocation    17100\ndtype: int64"
     },
     "metadata": {},
     "execution_count": 39
    }
   ],
   "source": [
    "# Ver la variedad de valores de las columnas\n",
    "df_meteorites.nunique()"
   ]
  },
  {
   "cell_type": "code",
   "execution_count": 48,
   "metadata": {},
   "outputs": [
    {
     "output_type": "execute_result",
     "data": {
      "text/plain": "      nametype   fall\n0        Valid   Fell\n1        Valid   Fell\n2        Valid   Fell\n3        Valid   Fell\n4        Valid   Fell\n...        ...    ...\n45711    Valid  Found\n45712    Valid  Found\n45713    Valid  Found\n45714    Valid  Found\n45715    Valid  Found\n\n[45716 rows x 2 columns]",
      "text/html": "<div>\n<style scoped>\n    .dataframe tbody tr th:only-of-type {\n        vertical-align: middle;\n    }\n\n    .dataframe tbody tr th {\n        vertical-align: top;\n    }\n\n    .dataframe thead th {\n        text-align: right;\n    }\n</style>\n<table border=\"1\" class=\"dataframe\">\n  <thead>\n    <tr style=\"text-align: right;\">\n      <th></th>\n      <th>nametype</th>\n      <th>fall</th>\n    </tr>\n  </thead>\n  <tbody>\n    <tr>\n      <th>0</th>\n      <td>Valid</td>\n      <td>Fell</td>\n    </tr>\n    <tr>\n      <th>1</th>\n      <td>Valid</td>\n      <td>Fell</td>\n    </tr>\n    <tr>\n      <th>2</th>\n      <td>Valid</td>\n      <td>Fell</td>\n    </tr>\n    <tr>\n      <th>3</th>\n      <td>Valid</td>\n      <td>Fell</td>\n    </tr>\n    <tr>\n      <th>4</th>\n      <td>Valid</td>\n      <td>Fell</td>\n    </tr>\n    <tr>\n      <th>...</th>\n      <td>...</td>\n      <td>...</td>\n    </tr>\n    <tr>\n      <th>45711</th>\n      <td>Valid</td>\n      <td>Found</td>\n    </tr>\n    <tr>\n      <th>45712</th>\n      <td>Valid</td>\n      <td>Found</td>\n    </tr>\n    <tr>\n      <th>45713</th>\n      <td>Valid</td>\n      <td>Found</td>\n    </tr>\n    <tr>\n      <th>45714</th>\n      <td>Valid</td>\n      <td>Found</td>\n    </tr>\n    <tr>\n      <th>45715</th>\n      <td>Valid</td>\n      <td>Found</td>\n    </tr>\n  </tbody>\n</table>\n<p>45716 rows × 2 columns</p>\n</div>"
     },
     "metadata": {},
     "execution_count": 48
    }
   ],
   "source": [
    "df_meteorites[['nametype', 'fall']]"
   ]
  },
  {
   "cell_type": "code",
   "execution_count": 51,
   "metadata": {},
   "outputs": [],
   "source": [
    "# Convertir a variables categoricas\n",
    "df_meteorites[['nametype', 'fall']] = df_meteorites[['nametype', 'fall']].astype('category')"
   ]
  },
  {
   "cell_type": "code",
   "execution_count": 52,
   "metadata": {},
   "outputs": [
    {
     "output_type": "execute_result",
     "data": {
      "text/plain": "name             object\nid                int64\nnametype       category\nrecclass         object\nmass (g)        float64\nfall           category\nyear             object\nreclat          float64\nreclong         float64\nGeoLocation      object\ndtype: object"
     },
     "metadata": {},
     "execution_count": 52
    }
   ],
   "source": [
    "df_meteorites.dtypes"
   ]
  },
  {
   "cell_type": "code",
   "execution_count": 53,
   "metadata": {},
   "outputs": [
    {
     "output_type": "execute_result",
     "data": {
      "text/plain": "[Fell, Found]\nCategories (2, object): [Fell, Found]"
     },
     "metadata": {},
     "execution_count": 53
    }
   ],
   "source": [
    "# Ver los valores que componen una variable\n",
    "df_meteorites['fall'].unique()"
   ]
  },
  {
   "cell_type": "code",
   "execution_count": 64,
   "metadata": {},
   "outputs": [
    {
     "output_type": "execute_result",
     "data": {
      "text/plain": "Found    44609\nFell      1107\nName: fall, dtype: int64"
     },
     "metadata": {},
     "execution_count": 64
    }
   ],
   "source": [
    "# Ver la frecuencia que aparecen los valores en una variable\n",
    "df_meteorites['fall'].value_counts()"
   ]
  },
  {
   "cell_type": "code",
   "execution_count": 76,
   "metadata": {},
   "outputs": [
    {
     "output_type": "execute_result",
     "data": {
      "text/plain": "       fall_Fell  fall_Found\n0              1           0\n1              1           0\n2              1           0\n3              1           0\n4              1           0\n...          ...         ...\n45711          0           1\n45712          0           1\n45713          0           1\n45714          0           1\n45715          0           1\n\n[45716 rows x 2 columns]",
      "text/html": "<div>\n<style scoped>\n    .dataframe tbody tr th:only-of-type {\n        vertical-align: middle;\n    }\n\n    .dataframe tbody tr th {\n        vertical-align: top;\n    }\n\n    .dataframe thead th {\n        text-align: right;\n    }\n</style>\n<table border=\"1\" class=\"dataframe\">\n  <thead>\n    <tr style=\"text-align: right;\">\n      <th></th>\n      <th>fall_Fell</th>\n      <th>fall_Found</th>\n    </tr>\n  </thead>\n  <tbody>\n    <tr>\n      <th>0</th>\n      <td>1</td>\n      <td>0</td>\n    </tr>\n    <tr>\n      <th>1</th>\n      <td>1</td>\n      <td>0</td>\n    </tr>\n    <tr>\n      <th>2</th>\n      <td>1</td>\n      <td>0</td>\n    </tr>\n    <tr>\n      <th>3</th>\n      <td>1</td>\n      <td>0</td>\n    </tr>\n    <tr>\n      <th>4</th>\n      <td>1</td>\n      <td>0</td>\n    </tr>\n    <tr>\n      <th>...</th>\n      <td>...</td>\n      <td>...</td>\n    </tr>\n    <tr>\n      <th>45711</th>\n      <td>0</td>\n      <td>1</td>\n    </tr>\n    <tr>\n      <th>45712</th>\n      <td>0</td>\n      <td>1</td>\n    </tr>\n    <tr>\n      <th>45713</th>\n      <td>0</td>\n      <td>1</td>\n    </tr>\n    <tr>\n      <th>45714</th>\n      <td>0</td>\n      <td>1</td>\n    </tr>\n    <tr>\n      <th>45715</th>\n      <td>0</td>\n      <td>1</td>\n    </tr>\n  </tbody>\n</table>\n<p>45716 rows × 2 columns</p>\n</div>"
     },
     "metadata": {},
     "execution_count": 76
    }
   ],
   "source": [
    "pd.get_dummies(df_meteorites['fall'], prefix = 'fall')"
   ]
  },
  {
   "cell_type": "code",
   "execution_count": 4,
   "metadata": {},
   "outputs": [
    {
     "output_type": "execute_result",
     "data": {
      "text/plain": "       name   id nametype     recclass  mass (g)  fall  \\\n0    Aachen    1    Valid           L5      21.0  Fell   \n1    Aarhus    2    Valid           H6     720.0  Fell   \n2      Abee    6    Valid          EH4  107000.0  Fell   \n3  Acapulco   10    Valid  Acapulcoite    1914.0  Fell   \n4   Achiras  370    Valid           L6     780.0  Fell   \n\n                     year    reclat    reclong           GeoLocation  ones  \n0  01/01/1880 12:00:00 AM  50.77500    6.08333     (50.775, 6.08333)     1  \n1  01/01/1951 12:00:00 AM  56.18333   10.23333  (56.18333, 10.23333)     1  \n2  01/01/1952 12:00:00 AM  54.21667 -113.00000    (54.21667, -113.0)     1  \n3  01/01/1976 12:00:00 AM  16.88333  -99.90000     (16.88333, -99.9)     1  \n4  01/01/1902 12:00:00 AM -33.16667  -64.95000   (-33.16667, -64.95)     1  ",
      "text/html": "<div>\n<style scoped>\n    .dataframe tbody tr th:only-of-type {\n        vertical-align: middle;\n    }\n\n    .dataframe tbody tr th {\n        vertical-align: top;\n    }\n\n    .dataframe thead th {\n        text-align: right;\n    }\n</style>\n<table border=\"1\" class=\"dataframe\">\n  <thead>\n    <tr style=\"text-align: right;\">\n      <th></th>\n      <th>name</th>\n      <th>id</th>\n      <th>nametype</th>\n      <th>recclass</th>\n      <th>mass (g)</th>\n      <th>fall</th>\n      <th>year</th>\n      <th>reclat</th>\n      <th>reclong</th>\n      <th>GeoLocation</th>\n      <th>ones</th>\n    </tr>\n  </thead>\n  <tbody>\n    <tr>\n      <th>0</th>\n      <td>Aachen</td>\n      <td>1</td>\n      <td>Valid</td>\n      <td>L5</td>\n      <td>21.0</td>\n      <td>Fell</td>\n      <td>01/01/1880 12:00:00 AM</td>\n      <td>50.77500</td>\n      <td>6.08333</td>\n      <td>(50.775, 6.08333)</td>\n      <td>1</td>\n    </tr>\n    <tr>\n      <th>1</th>\n      <td>Aarhus</td>\n      <td>2</td>\n      <td>Valid</td>\n      <td>H6</td>\n      <td>720.0</td>\n      <td>Fell</td>\n      <td>01/01/1951 12:00:00 AM</td>\n      <td>56.18333</td>\n      <td>10.23333</td>\n      <td>(56.18333, 10.23333)</td>\n      <td>1</td>\n    </tr>\n    <tr>\n      <th>2</th>\n      <td>Abee</td>\n      <td>6</td>\n      <td>Valid</td>\n      <td>EH4</td>\n      <td>107000.0</td>\n      <td>Fell</td>\n      <td>01/01/1952 12:00:00 AM</td>\n      <td>54.21667</td>\n      <td>-113.00000</td>\n      <td>(54.21667, -113.0)</td>\n      <td>1</td>\n    </tr>\n    <tr>\n      <th>3</th>\n      <td>Acapulco</td>\n      <td>10</td>\n      <td>Valid</td>\n      <td>Acapulcoite</td>\n      <td>1914.0</td>\n      <td>Fell</td>\n      <td>01/01/1976 12:00:00 AM</td>\n      <td>16.88333</td>\n      <td>-99.90000</td>\n      <td>(16.88333, -99.9)</td>\n      <td>1</td>\n    </tr>\n    <tr>\n      <th>4</th>\n      <td>Achiras</td>\n      <td>370</td>\n      <td>Valid</td>\n      <td>L6</td>\n      <td>780.0</td>\n      <td>Fell</td>\n      <td>01/01/1902 12:00:00 AM</td>\n      <td>-33.16667</td>\n      <td>-64.95000</td>\n      <td>(-33.16667, -64.95)</td>\n      <td>1</td>\n    </tr>\n  </tbody>\n</table>\n</div>"
     },
     "metadata": {},
     "execution_count": 4
    }
   ],
   "source": [
    "# Crear una nueva columna con valores 1\n",
    "df_meteorites['ones'] = 1\n",
    "df_meteorites.head()"
   ]
  },
  {
   "cell_type": "code",
   "execution_count": 78,
   "metadata": {},
   "outputs": [],
   "source": [
    "# Agregando las variables dummies al data frame\n",
    "df_meteorites[['fell', 'found']] = pd.get_dummies(df_meteorites['fall'])"
   ]
  },
  {
   "cell_type": "code",
   "execution_count": 79,
   "metadata": {},
   "outputs": [
    {
     "output_type": "execute_result",
     "data": {
      "text/plain": "       name   id nametype     recclass  mass (g)  fall  \\\n0    Aachen    1    Valid           L5      21.0  Fell   \n1    Aarhus    2    Valid           H6     720.0  Fell   \n2      Abee    6    Valid          EH4  107000.0  Fell   \n3  Acapulco   10    Valid  Acapulcoite    1914.0  Fell   \n4   Achiras  370    Valid           L6     780.0  Fell   \n\n                     year  reclat  reclong           GeoLocation  ones  fell  \\\n0  01/01/1880 12:00:00 AM    50.8      6.1     (50.775, 6.08333)     1     1   \n1  01/01/1951 12:00:00 AM    56.2     10.2  (56.18333, 10.23333)     1     1   \n2  01/01/1952 12:00:00 AM    54.2   -113.0    (54.21667, -113.0)     1     1   \n3  01/01/1976 12:00:00 AM    16.9    -99.9     (16.88333, -99.9)     1     1   \n4  01/01/1902 12:00:00 AM   -33.2    -65.0   (-33.16667, -64.95)     1     1   \n\n   found  \n0      0  \n1      0  \n2      0  \n3      0  \n4      0  ",
      "text/html": "<div>\n<style scoped>\n    .dataframe tbody tr th:only-of-type {\n        vertical-align: middle;\n    }\n\n    .dataframe tbody tr th {\n        vertical-align: top;\n    }\n\n    .dataframe thead th {\n        text-align: right;\n    }\n</style>\n<table border=\"1\" class=\"dataframe\">\n  <thead>\n    <tr style=\"text-align: right;\">\n      <th></th>\n      <th>name</th>\n      <th>id</th>\n      <th>nametype</th>\n      <th>recclass</th>\n      <th>mass (g)</th>\n      <th>fall</th>\n      <th>year</th>\n      <th>reclat</th>\n      <th>reclong</th>\n      <th>GeoLocation</th>\n      <th>ones</th>\n      <th>fell</th>\n      <th>found</th>\n    </tr>\n  </thead>\n  <tbody>\n    <tr>\n      <th>0</th>\n      <td>Aachen</td>\n      <td>1</td>\n      <td>Valid</td>\n      <td>L5</td>\n      <td>21.0</td>\n      <td>Fell</td>\n      <td>01/01/1880 12:00:00 AM</td>\n      <td>50.8</td>\n      <td>6.1</td>\n      <td>(50.775, 6.08333)</td>\n      <td>1</td>\n      <td>1</td>\n      <td>0</td>\n    </tr>\n    <tr>\n      <th>1</th>\n      <td>Aarhus</td>\n      <td>2</td>\n      <td>Valid</td>\n      <td>H6</td>\n      <td>720.0</td>\n      <td>Fell</td>\n      <td>01/01/1951 12:00:00 AM</td>\n      <td>56.2</td>\n      <td>10.2</td>\n      <td>(56.18333, 10.23333)</td>\n      <td>1</td>\n      <td>1</td>\n      <td>0</td>\n    </tr>\n    <tr>\n      <th>2</th>\n      <td>Abee</td>\n      <td>6</td>\n      <td>Valid</td>\n      <td>EH4</td>\n      <td>107000.0</td>\n      <td>Fell</td>\n      <td>01/01/1952 12:00:00 AM</td>\n      <td>54.2</td>\n      <td>-113.0</td>\n      <td>(54.21667, -113.0)</td>\n      <td>1</td>\n      <td>1</td>\n      <td>0</td>\n    </tr>\n    <tr>\n      <th>3</th>\n      <td>Acapulco</td>\n      <td>10</td>\n      <td>Valid</td>\n      <td>Acapulcoite</td>\n      <td>1914.0</td>\n      <td>Fell</td>\n      <td>01/01/1976 12:00:00 AM</td>\n      <td>16.9</td>\n      <td>-99.9</td>\n      <td>(16.88333, -99.9)</td>\n      <td>1</td>\n      <td>1</td>\n      <td>0</td>\n    </tr>\n    <tr>\n      <th>4</th>\n      <td>Achiras</td>\n      <td>370</td>\n      <td>Valid</td>\n      <td>L6</td>\n      <td>780.0</td>\n      <td>Fell</td>\n      <td>01/01/1902 12:00:00 AM</td>\n      <td>-33.2</td>\n      <td>-65.0</td>\n      <td>(-33.16667, -64.95)</td>\n      <td>1</td>\n      <td>1</td>\n      <td>0</td>\n    </tr>\n  </tbody>\n</table>\n</div>"
     },
     "metadata": {},
     "execution_count": 79
    }
   ],
   "source": [
    "df_meteorites.head()"
   ]
  },
  {
   "cell_type": "code",
   "execution_count": 80,
   "metadata": {},
   "outputs": [
    {
     "output_type": "execute_result",
     "data": {
      "text/plain": "0        01/01/1880 12:00:00 AM\n1        01/01/1951 12:00:00 AM\n2        01/01/1952 12:00:00 AM\n3        01/01/1976 12:00:00 AM\n4        01/01/1902 12:00:00 AM\n                  ...          \n45711    01/01/1990 12:00:00 AM\n45712    01/01/1999 12:00:00 AM\n45713    01/01/1939 12:00:00 AM\n45714    01/01/2003 12:00:00 AM\n45715    01/01/1976 12:00:00 AM\nName: year, Length: 45716, dtype: object"
     },
     "metadata": {},
     "execution_count": 80
    }
   ],
   "source": [
    "df_meteorites['year']"
   ]
  },
  {
   "cell_type": "code",
   "execution_count": 82,
   "metadata": {},
   "outputs": [
    {
     "output_type": "execute_result",
     "data": {
      "text/plain": "0       1880-01-01 12:00:00\n1       1951-01-01 12:00:00\n2       1952-01-01 12:00:00\n3       1976-01-01 12:00:00\n4       1902-01-01 12:00:00\n                ...        \n45711   1990-01-01 12:00:00\n45712   1999-01-01 12:00:00\n45713   1939-01-01 12:00:00\n45714   2003-01-01 12:00:00\n45715   1976-01-01 12:00:00\nName: year, Length: 45716, dtype: datetime64[ns]"
     },
     "metadata": {},
     "execution_count": 82
    }
   ],
   "source": [
    "# Transformar a una variable tipo tiempo\n",
    "pd.to_datetime(\n",
    "    df_meteorites['year'],\n",
    "    errors = 'coerce',\n",
    "    format = '%m/%d/%Y %H:%M:%S %p'\n",
    ")"
   ]
  },
  {
   "cell_type": "code",
   "execution_count": 83,
   "metadata": {},
   "outputs": [],
   "source": [
    "df_meteorites['year'] = pd.to_datetime(\n",
    "    df_meteorites['year'],\n",
    "    errors = 'coerce',\n",
    "    format = '%m/%d/%Y %H:%M:%S %p'\n",
    ")"
   ]
  },
  {
   "cell_type": "code",
   "execution_count": 99,
   "metadata": {},
   "outputs": [
    {
     "output_type": "execute_result",
     "data": {
      "text/plain": "name                   string\nid                      Int64\nnametype             category\nrecclass               string\nmass                  float64\nfall                 category\nyear           datetime64[ns]\nreclat                float64\nreclong               float64\nGeoLocation            string\nones                    Int64\nfell                    UInt8\nfound                   UInt8\ndtype: object"
     },
     "metadata": {},
     "execution_count": 99
    }
   ],
   "source": [
    "df_meteorites = df_meteorites.convert_dtypes()\n",
    "df_meteorites.dtypes"
   ]
  },
  {
   "cell_type": "code",
   "execution_count": 89,
   "metadata": {},
   "outputs": [
    {
     "output_type": "execute_result",
     "data": {
      "text/plain": "Index(['name', 'id', 'nametype', 'recclass', 'mass', 'fall', 'year', 'reclat',\n       'reclong', 'GeoLocation', 'ones', 'fell', 'found'],\n      dtype='object')"
     },
     "metadata": {},
     "execution_count": 89
    }
   ],
   "source": [
    "# Renombrar columnas\n",
    "df_meteorites.rename(columns = {'mass (g)': 'mass'}, inplace=True)\n",
    "df_meteorites.columns"
   ]
  },
  {
   "cell_type": "code",
   "execution_count": 9,
   "metadata": {},
   "outputs": [
    {
     "output_type": "execute_result",
     "data": {
      "text/plain": "       name   id nametype     recclass  mass (g)  fall  \\\n0    Aachen    1    Valid           L5      21.0  Fell   \n1    Aarhus    2    Valid           H6     720.0  Fell   \n2      Abee    6    Valid          EH4  107000.0  Fell   \n3  Acapulco   10    Valid  Acapulcoite    1914.0  Fell   \n4   Achiras  370    Valid           L6     780.0  Fell   \n\n                     year    reclat    reclong           GeoLocation  \n0  01/01/1880 12:00:00 AM  50.77500    6.08333     (50.775, 6.08333)  \n1  01/01/1951 12:00:00 AM  56.18333   10.23333  (56.18333, 10.23333)  \n2  01/01/1952 12:00:00 AM  54.21667 -113.00000    (54.21667, -113.0)  \n3  01/01/1976 12:00:00 AM  16.88333  -99.90000     (16.88333, -99.9)  \n4  01/01/1902 12:00:00 AM -33.16667  -64.95000   (-33.16667, -64.95)  ",
      "text/html": "<div>\n<style scoped>\n    .dataframe tbody tr th:only-of-type {\n        vertical-align: middle;\n    }\n\n    .dataframe tbody tr th {\n        vertical-align: top;\n    }\n\n    .dataframe thead th {\n        text-align: right;\n    }\n</style>\n<table border=\"1\" class=\"dataframe\">\n  <thead>\n    <tr style=\"text-align: right;\">\n      <th></th>\n      <th>name</th>\n      <th>id</th>\n      <th>nametype</th>\n      <th>recclass</th>\n      <th>mass (g)</th>\n      <th>fall</th>\n      <th>year</th>\n      <th>reclat</th>\n      <th>reclong</th>\n      <th>GeoLocation</th>\n    </tr>\n  </thead>\n  <tbody>\n    <tr>\n      <th>0</th>\n      <td>Aachen</td>\n      <td>1</td>\n      <td>Valid</td>\n      <td>L5</td>\n      <td>21.0</td>\n      <td>Fell</td>\n      <td>01/01/1880 12:00:00 AM</td>\n      <td>50.77500</td>\n      <td>6.08333</td>\n      <td>(50.775, 6.08333)</td>\n    </tr>\n    <tr>\n      <th>1</th>\n      <td>Aarhus</td>\n      <td>2</td>\n      <td>Valid</td>\n      <td>H6</td>\n      <td>720.0</td>\n      <td>Fell</td>\n      <td>01/01/1951 12:00:00 AM</td>\n      <td>56.18333</td>\n      <td>10.23333</td>\n      <td>(56.18333, 10.23333)</td>\n    </tr>\n    <tr>\n      <th>2</th>\n      <td>Abee</td>\n      <td>6</td>\n      <td>Valid</td>\n      <td>EH4</td>\n      <td>107000.0</td>\n      <td>Fell</td>\n      <td>01/01/1952 12:00:00 AM</td>\n      <td>54.21667</td>\n      <td>-113.00000</td>\n      <td>(54.21667, -113.0)</td>\n    </tr>\n    <tr>\n      <th>3</th>\n      <td>Acapulco</td>\n      <td>10</td>\n      <td>Valid</td>\n      <td>Acapulcoite</td>\n      <td>1914.0</td>\n      <td>Fell</td>\n      <td>01/01/1976 12:00:00 AM</td>\n      <td>16.88333</td>\n      <td>-99.90000</td>\n      <td>(16.88333, -99.9)</td>\n    </tr>\n    <tr>\n      <th>4</th>\n      <td>Achiras</td>\n      <td>370</td>\n      <td>Valid</td>\n      <td>L6</td>\n      <td>780.0</td>\n      <td>Fell</td>\n      <td>01/01/1902 12:00:00 AM</td>\n      <td>-33.16667</td>\n      <td>-64.95000</td>\n      <td>(-33.16667, -64.95)</td>\n    </tr>\n  </tbody>\n</table>\n</div>"
     },
     "metadata": {},
     "execution_count": 9
    }
   ],
   "source": [
    "# Borrar una columna de un data frame\n",
    "df_meteorites.drop(['ones'], axis = 1, inplace = True)\n",
    "df_meteorites.head()"
   ]
  },
  {
   "cell_type": "code",
   "execution_count": 12,
   "metadata": {},
   "outputs": [
    {
     "output_type": "execute_result",
     "data": {
      "text/plain": "                  name   id nametype recclass  mass (g)  fall  \\\n0               Aachen    1    Valid       L5      21.0  Fell   \n5             Adhi Kot  379    Valid      EH4    4239.0  Fell   \n6  Adzhi-Bogdo (stone)  390    Valid    LL3-6     910.0  Fell   \n7                 Agen  392    Valid       H5   30000.0  Fell   \n8               Aguada  398    Valid       L6    1620.0  Fell   \n\n                     year    reclat   reclong           GeoLocation  \n0  01/01/1880 12:00:00 AM  50.77500   6.08333     (50.775, 6.08333)  \n5  01/01/1919 12:00:00 AM  32.10000  71.80000          (32.1, 71.8)  \n6  01/01/1949 12:00:00 AM  44.83333  95.16667  (44.83333, 95.16667)  \n7  01/01/1814 12:00:00 AM  44.21667   0.61667   (44.21667, 0.61667)  \n8  01/01/1930 12:00:00 AM -31.60000 -65.23333    (-31.6, -65.23333)  ",
      "text/html": "<div>\n<style scoped>\n    .dataframe tbody tr th:only-of-type {\n        vertical-align: middle;\n    }\n\n    .dataframe tbody tr th {\n        vertical-align: top;\n    }\n\n    .dataframe thead th {\n        text-align: right;\n    }\n</style>\n<table border=\"1\" class=\"dataframe\">\n  <thead>\n    <tr style=\"text-align: right;\">\n      <th></th>\n      <th>name</th>\n      <th>id</th>\n      <th>nametype</th>\n      <th>recclass</th>\n      <th>mass (g)</th>\n      <th>fall</th>\n      <th>year</th>\n      <th>reclat</th>\n      <th>reclong</th>\n      <th>GeoLocation</th>\n    </tr>\n  </thead>\n  <tbody>\n    <tr>\n      <th>0</th>\n      <td>Aachen</td>\n      <td>1</td>\n      <td>Valid</td>\n      <td>L5</td>\n      <td>21.0</td>\n      <td>Fell</td>\n      <td>01/01/1880 12:00:00 AM</td>\n      <td>50.77500</td>\n      <td>6.08333</td>\n      <td>(50.775, 6.08333)</td>\n    </tr>\n    <tr>\n      <th>5</th>\n      <td>Adhi Kot</td>\n      <td>379</td>\n      <td>Valid</td>\n      <td>EH4</td>\n      <td>4239.0</td>\n      <td>Fell</td>\n      <td>01/01/1919 12:00:00 AM</td>\n      <td>32.10000</td>\n      <td>71.80000</td>\n      <td>(32.1, 71.8)</td>\n    </tr>\n    <tr>\n      <th>6</th>\n      <td>Adzhi-Bogdo (stone)</td>\n      <td>390</td>\n      <td>Valid</td>\n      <td>LL3-6</td>\n      <td>910.0</td>\n      <td>Fell</td>\n      <td>01/01/1949 12:00:00 AM</td>\n      <td>44.83333</td>\n      <td>95.16667</td>\n      <td>(44.83333, 95.16667)</td>\n    </tr>\n    <tr>\n      <th>7</th>\n      <td>Agen</td>\n      <td>392</td>\n      <td>Valid</td>\n      <td>H5</td>\n      <td>30000.0</td>\n      <td>Fell</td>\n      <td>01/01/1814 12:00:00 AM</td>\n      <td>44.21667</td>\n      <td>0.61667</td>\n      <td>(44.21667, 0.61667)</td>\n    </tr>\n    <tr>\n      <th>8</th>\n      <td>Aguada</td>\n      <td>398</td>\n      <td>Valid</td>\n      <td>L6</td>\n      <td>1620.0</td>\n      <td>Fell</td>\n      <td>01/01/1930 12:00:00 AM</td>\n      <td>-31.60000</td>\n      <td>-65.23333</td>\n      <td>(-31.6, -65.23333)</td>\n    </tr>\n  </tbody>\n</table>\n</div>"
     },
     "metadata": {},
     "execution_count": 12
    }
   ],
   "source": [
    "# Borrar una o mas filas del data frame\n",
    "df_meteorites.drop(index = [1, 2, 3, 4], inplace=True)\n",
    "df_meteorites.head()"
   ]
  },
  {
   "cell_type": "code",
   "execution_count": 13,
   "metadata": {},
   "outputs": [
    {
     "output_type": "execute_result",
     "data": {
      "text/plain": "  recclass  mass (g)  fall                    year    reclat   reclong  \\\n0       L5      21.0  Fell  01/01/1880 12:00:00 AM  50.77500   6.08333   \n5      EH4    4239.0  Fell  01/01/1919 12:00:00 AM  32.10000  71.80000   \n6    LL3-6     910.0  Fell  01/01/1949 12:00:00 AM  44.83333  95.16667   \n7       H5   30000.0  Fell  01/01/1814 12:00:00 AM  44.21667   0.61667   \n8       L6    1620.0  Fell  01/01/1930 12:00:00 AM -31.60000 -65.23333   \n\n            GeoLocation  \n0     (50.775, 6.08333)  \n5          (32.1, 71.8)  \n6  (44.83333, 95.16667)  \n7   (44.21667, 0.61667)  \n8    (-31.6, -65.23333)  ",
      "text/html": "<div>\n<style scoped>\n    .dataframe tbody tr th:only-of-type {\n        vertical-align: middle;\n    }\n\n    .dataframe tbody tr th {\n        vertical-align: top;\n    }\n\n    .dataframe thead th {\n        text-align: right;\n    }\n</style>\n<table border=\"1\" class=\"dataframe\">\n  <thead>\n    <tr style=\"text-align: right;\">\n      <th></th>\n      <th>recclass</th>\n      <th>mass (g)</th>\n      <th>fall</th>\n      <th>year</th>\n      <th>reclat</th>\n      <th>reclong</th>\n      <th>GeoLocation</th>\n    </tr>\n  </thead>\n  <tbody>\n    <tr>\n      <th>0</th>\n      <td>L5</td>\n      <td>21.0</td>\n      <td>Fell</td>\n      <td>01/01/1880 12:00:00 AM</td>\n      <td>50.77500</td>\n      <td>6.08333</td>\n      <td>(50.775, 6.08333)</td>\n    </tr>\n    <tr>\n      <th>5</th>\n      <td>EH4</td>\n      <td>4239.0</td>\n      <td>Fell</td>\n      <td>01/01/1919 12:00:00 AM</td>\n      <td>32.10000</td>\n      <td>71.80000</td>\n      <td>(32.1, 71.8)</td>\n    </tr>\n    <tr>\n      <th>6</th>\n      <td>LL3-6</td>\n      <td>910.0</td>\n      <td>Fell</td>\n      <td>01/01/1949 12:00:00 AM</td>\n      <td>44.83333</td>\n      <td>95.16667</td>\n      <td>(44.83333, 95.16667)</td>\n    </tr>\n    <tr>\n      <th>7</th>\n      <td>H5</td>\n      <td>30000.0</td>\n      <td>Fell</td>\n      <td>01/01/1814 12:00:00 AM</td>\n      <td>44.21667</td>\n      <td>0.61667</td>\n      <td>(44.21667, 0.61667)</td>\n    </tr>\n    <tr>\n      <th>8</th>\n      <td>L6</td>\n      <td>1620.0</td>\n      <td>Fell</td>\n      <td>01/01/1930 12:00:00 AM</td>\n      <td>-31.60000</td>\n      <td>-65.23333</td>\n      <td>(-31.6, -65.23333)</td>\n    </tr>\n  </tbody>\n</table>\n</div>"
     },
     "metadata": {},
     "execution_count": 13
    }
   ],
   "source": [
    "df_meteorites.drop(columns = ['name', 'id', 'nametype'], inplace=True)\n",
    "df_meteorites.head()"
   ]
  },
  {
   "cell_type": "code",
   "execution_count": 15,
   "metadata": {},
   "outputs": [
    {
     "output_type": "execute_result",
     "data": {
      "text/plain": "  recclass  mass (g)  fall                    year    reclat   reclong  \\\n0       L5      21.0  Fell  01/01/1880 12:00:00 AM  50.77500   6.08333   \n5      EH4    4239.0  Fell  01/01/1919 12:00:00 AM  32.10000  71.80000   \n6    LL3-6     910.0  Fell  01/01/1949 12:00:00 AM  44.83333  95.16667   \n7       H5   30000.0  Fell  01/01/1814 12:00:00 AM  44.21667   0.61667   \n8       L6    1620.0  Fell  01/01/1930 12:00:00 AM -31.60000 -65.23333   \n\n            GeoLocation  \n0     (50.775, 6.08333)  \n5          (32.1, 71.8)  \n6  (44.83333, 95.16667)  \n7   (44.21667, 0.61667)  \n8    (-31.6, -65.23333)  ",
      "text/html": "<div>\n<style scoped>\n    .dataframe tbody tr th:only-of-type {\n        vertical-align: middle;\n    }\n\n    .dataframe tbody tr th {\n        vertical-align: top;\n    }\n\n    .dataframe thead th {\n        text-align: right;\n    }\n</style>\n<table border=\"1\" class=\"dataframe\">\n  <thead>\n    <tr style=\"text-align: right;\">\n      <th></th>\n      <th>recclass</th>\n      <th>mass (g)</th>\n      <th>fall</th>\n      <th>year</th>\n      <th>reclat</th>\n      <th>reclong</th>\n      <th>GeoLocation</th>\n    </tr>\n  </thead>\n  <tbody>\n    <tr>\n      <th>0</th>\n      <td>L5</td>\n      <td>21.0</td>\n      <td>Fell</td>\n      <td>01/01/1880 12:00:00 AM</td>\n      <td>50.77500</td>\n      <td>6.08333</td>\n      <td>(50.775, 6.08333)</td>\n    </tr>\n    <tr>\n      <th>5</th>\n      <td>EH4</td>\n      <td>4239.0</td>\n      <td>Fell</td>\n      <td>01/01/1919 12:00:00 AM</td>\n      <td>32.10000</td>\n      <td>71.80000</td>\n      <td>(32.1, 71.8)</td>\n    </tr>\n    <tr>\n      <th>6</th>\n      <td>LL3-6</td>\n      <td>910.0</td>\n      <td>Fell</td>\n      <td>01/01/1949 12:00:00 AM</td>\n      <td>44.83333</td>\n      <td>95.16667</td>\n      <td>(44.83333, 95.16667)</td>\n    </tr>\n    <tr>\n      <th>7</th>\n      <td>H5</td>\n      <td>30000.0</td>\n      <td>Fell</td>\n      <td>01/01/1814 12:00:00 AM</td>\n      <td>44.21667</td>\n      <td>0.61667</td>\n      <td>(44.21667, 0.61667)</td>\n    </tr>\n    <tr>\n      <th>8</th>\n      <td>L6</td>\n      <td>1620.0</td>\n      <td>Fell</td>\n      <td>01/01/1930 12:00:00 AM</td>\n      <td>-31.60000</td>\n      <td>-65.23333</td>\n      <td>(-31.6, -65.23333)</td>\n    </tr>\n  </tbody>\n</table>\n</div>"
     },
     "metadata": {},
     "execution_count": 15
    }
   ],
   "source": [
    "# Generar una copia del data frame\n",
    "df = df_meteorites.copy(deep = True)\n",
    "df.head()"
   ]
  },
  {
   "cell_type": "code",
   "execution_count": null,
   "metadata": {},
   "outputs": [],
   "source": []
  }
 ],
 "metadata": {
  "language_info": {
   "codemirror_mode": {
    "name": "ipython",
    "version": 3
   },
   "file_extension": ".py",
   "mimetype": "text/x-python",
   "name": "python",
   "nbconvert_exporter": "python",
   "pygments_lexer": "ipython3",
   "version": "3.7.6-final"
  },
  "orig_nbformat": 2,
  "kernelspec": {
   "name": "python3",
   "display_name": "Python 3"
  }
 },
 "nbformat": 4,
 "nbformat_minor": 2
}