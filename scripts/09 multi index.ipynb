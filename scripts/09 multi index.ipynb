{
 "cells": [
  {
   "cell_type": "markdown",
   "metadata": {},
   "source": [
    "# Multiples Indices"
   ]
  },
  {
   "cell_type": "code",
   "execution_count": 2,
   "metadata": {},
   "outputs": [],
   "source": [
    "import pandas as pd\n",
    "import numpy as np"
   ]
  },
  {
   "cell_type": "code",
   "execution_count": 3,
   "metadata": {},
   "outputs": [
    {
     "output_type": "execute_result",
     "data": {
      "text/plain": "'1.0.1'"
     },
     "metadata": {},
     "execution_count": 3
    }
   ],
   "source": [
    "pd.__version__"
   ]
  },
  {
   "cell_type": "code",
   "execution_count": 80,
   "metadata": {},
   "outputs": [
    {
     "output_type": "execute_result",
     "data": {
      "text/plain": "  Country Name Country Code     Indicator Name Indicator Code        1960  \\\n0        Aruba          ABW  Population, total    SP.POP.TOTL    54,211.0   \n1  Afghanistan          AFG  Population, total    SP.POP.TOTL 8,996,973.0   \n2       Angola          AGO  Population, total    SP.POP.TOTL 5,454,933.0   \n3      Albania          ALB  Population, total    SP.POP.TOTL 1,608,800.0   \n4      Andorra          AND  Population, total    SP.POP.TOTL    13,411.0   \n\n         1961        1962        1963        1964        1965  ...  \\\n0    55,438.0    56,225.0    56,695.0    57,032.0    57,360.0  ...   \n1 9,169,410.0 9,351,441.0 9,543,205.0 9,744,781.0 9,956,320.0  ...   \n2 5,531,472.0 5,608,539.0 5,679,458.0 5,735,044.0 5,770,570.0  ...   \n3 1,659,800.0 1,711,319.0 1,762,621.0 1,814,135.0 1,864,791.0  ...   \n4    14,375.0    15,370.0    16,412.0    17,469.0    18,549.0  ...   \n\n          2011         2012         2013         2014         2015  \\\n0    102,046.0    102,560.0    103,159.0    103,774.0    104,341.0   \n1 30,117,413.0 31,161,376.0 32,269,589.0 33,370,794.0 34,413,603.0   \n2 24,220,661.0 25,107,931.0 26,015,780.0 26,941,779.0 27,884,381.0   \n3  2,905,195.0  2,900,401.0  2,895,092.0  2,889,104.0  2,880,703.0   \n4     83,747.0     82,427.0     80,774.0     79,213.0     78,011.0   \n\n          2016         2017         2018  2019  Unnamed: 64  \n0    104,872.0    105,366.0    105,845.0   nan          nan  \n1 35,383,128.0 36,296,400.0 37,172,386.0   nan          nan  \n2 28,842,484.0 29,816,748.0 30,809,762.0   nan          nan  \n3  2,876,101.0  2,873,457.0  2,866,376.0   nan          nan  \n4     77,297.0     77,001.0     77,006.0   nan          nan  \n\n[5 rows x 65 columns]",
      "text/html": "<div>\n<style scoped>\n    .dataframe tbody tr th:only-of-type {\n        vertical-align: middle;\n    }\n\n    .dataframe tbody tr th {\n        vertical-align: top;\n    }\n\n    .dataframe thead th {\n        text-align: right;\n    }\n</style>\n<table border=\"1\" class=\"dataframe\">\n  <thead>\n    <tr style=\"text-align: right;\">\n      <th></th>\n      <th>Country Name</th>\n      <th>Country Code</th>\n      <th>Indicator Name</th>\n      <th>Indicator Code</th>\n      <th>1960</th>\n      <th>1961</th>\n      <th>1962</th>\n      <th>1963</th>\n      <th>1964</th>\n      <th>1965</th>\n      <th>...</th>\n      <th>2011</th>\n      <th>2012</th>\n      <th>2013</th>\n      <th>2014</th>\n      <th>2015</th>\n      <th>2016</th>\n      <th>2017</th>\n      <th>2018</th>\n      <th>2019</th>\n      <th>Unnamed: 64</th>\n    </tr>\n  </thead>\n  <tbody>\n    <tr>\n      <th>0</th>\n      <td>Aruba</td>\n      <td>ABW</td>\n      <td>Population, total</td>\n      <td>SP.POP.TOTL</td>\n      <td>54,211.0</td>\n      <td>55,438.0</td>\n      <td>56,225.0</td>\n      <td>56,695.0</td>\n      <td>57,032.0</td>\n      <td>57,360.0</td>\n      <td>...</td>\n      <td>102,046.0</td>\n      <td>102,560.0</td>\n      <td>103,159.0</td>\n      <td>103,774.0</td>\n      <td>104,341.0</td>\n      <td>104,872.0</td>\n      <td>105,366.0</td>\n      <td>105,845.0</td>\n      <td>nan</td>\n      <td>nan</td>\n    </tr>\n    <tr>\n      <th>1</th>\n      <td>Afghanistan</td>\n      <td>AFG</td>\n      <td>Population, total</td>\n      <td>SP.POP.TOTL</td>\n      <td>8,996,973.0</td>\n      <td>9,169,410.0</td>\n      <td>9,351,441.0</td>\n      <td>9,543,205.0</td>\n      <td>9,744,781.0</td>\n      <td>9,956,320.0</td>\n      <td>...</td>\n      <td>30,117,413.0</td>\n      <td>31,161,376.0</td>\n      <td>32,269,589.0</td>\n      <td>33,370,794.0</td>\n      <td>34,413,603.0</td>\n      <td>35,383,128.0</td>\n      <td>36,296,400.0</td>\n      <td>37,172,386.0</td>\n      <td>nan</td>\n      <td>nan</td>\n    </tr>\n    <tr>\n      <th>2</th>\n      <td>Angola</td>\n      <td>AGO</td>\n      <td>Population, total</td>\n      <td>SP.POP.TOTL</td>\n      <td>5,454,933.0</td>\n      <td>5,531,472.0</td>\n      <td>5,608,539.0</td>\n      <td>5,679,458.0</td>\n      <td>5,735,044.0</td>\n      <td>5,770,570.0</td>\n      <td>...</td>\n      <td>24,220,661.0</td>\n      <td>25,107,931.0</td>\n      <td>26,015,780.0</td>\n      <td>26,941,779.0</td>\n      <td>27,884,381.0</td>\n      <td>28,842,484.0</td>\n      <td>29,816,748.0</td>\n      <td>30,809,762.0</td>\n      <td>nan</td>\n      <td>nan</td>\n    </tr>\n    <tr>\n      <th>3</th>\n      <td>Albania</td>\n      <td>ALB</td>\n      <td>Population, total</td>\n      <td>SP.POP.TOTL</td>\n      <td>1,608,800.0</td>\n      <td>1,659,800.0</td>\n      <td>1,711,319.0</td>\n      <td>1,762,621.0</td>\n      <td>1,814,135.0</td>\n      <td>1,864,791.0</td>\n      <td>...</td>\n      <td>2,905,195.0</td>\n      <td>2,900,401.0</td>\n      <td>2,895,092.0</td>\n      <td>2,889,104.0</td>\n      <td>2,880,703.0</td>\n      <td>2,876,101.0</td>\n      <td>2,873,457.0</td>\n      <td>2,866,376.0</td>\n      <td>nan</td>\n      <td>nan</td>\n    </tr>\n    <tr>\n      <th>4</th>\n      <td>Andorra</td>\n      <td>AND</td>\n      <td>Population, total</td>\n      <td>SP.POP.TOTL</td>\n      <td>13,411.0</td>\n      <td>14,375.0</td>\n      <td>15,370.0</td>\n      <td>16,412.0</td>\n      <td>17,469.0</td>\n      <td>18,549.0</td>\n      <td>...</td>\n      <td>83,747.0</td>\n      <td>82,427.0</td>\n      <td>80,774.0</td>\n      <td>79,213.0</td>\n      <td>78,011.0</td>\n      <td>77,297.0</td>\n      <td>77,001.0</td>\n      <td>77,006.0</td>\n      <td>nan</td>\n      <td>nan</td>\n    </tr>\n  </tbody>\n</table>\n<p>5 rows × 65 columns</p>\n</div>"
     },
     "metadata": {},
     "execution_count": 80
    }
   ],
   "source": [
    "df = pd.read_csv('../../datasets/population/poblacion.csv')\n",
    "df.head()"
   ]
  },
  {
   "cell_type": "code",
   "execution_count": 81,
   "metadata": {},
   "outputs": [
    {
     "output_type": "execute_result",
     "data": {
      "text/plain": "  Country Name        1960        1961        1962        1963        1964  \\\n0        Aruba    54,211.0    55,438.0    56,225.0    56,695.0    57,032.0   \n1  Afghanistan 8,996,973.0 9,169,410.0 9,351,441.0 9,543,205.0 9,744,781.0   \n2       Angola 5,454,933.0 5,531,472.0 5,608,539.0 5,679,458.0 5,735,044.0   \n3      Albania 1,608,800.0 1,659,800.0 1,711,319.0 1,762,621.0 1,814,135.0   \n4      Andorra    13,411.0    14,375.0    15,370.0    16,412.0    17,469.0   \n\n         1965         1966         1967         1968  ...         2010  \\\n0    57,360.0     57,715.0     58,055.0     58,386.0  ...    101,669.0   \n1 9,956,320.0 10,174,836.0 10,399,926.0 10,637,063.0  ... 29,185,507.0   \n2 5,770,570.0  5,781,214.0  5,774,243.0  5,771,652.0  ... 23,356,246.0   \n3 1,864,791.0  1,914,573.0  1,965,598.0  2,022,272.0  ...  2,913,021.0   \n4    18,549.0     19,647.0     20,758.0     21,890.0  ...     84,449.0   \n\n          2011         2012         2013         2014         2015  \\\n0    102,046.0    102,560.0    103,159.0    103,774.0    104,341.0   \n1 30,117,413.0 31,161,376.0 32,269,589.0 33,370,794.0 34,413,603.0   \n2 24,220,661.0 25,107,931.0 26,015,780.0 26,941,779.0 27,884,381.0   \n3  2,905,195.0  2,900,401.0  2,895,092.0  2,889,104.0  2,880,703.0   \n4     83,747.0     82,427.0     80,774.0     79,213.0     78,011.0   \n\n          2016         2017         2018  2019  \n0    104,872.0    105,366.0    105,845.0   nan  \n1 35,383,128.0 36,296,400.0 37,172,386.0   nan  \n2 28,842,484.0 29,816,748.0 30,809,762.0   nan  \n3  2,876,101.0  2,873,457.0  2,866,376.0   nan  \n4     77,297.0     77,001.0     77,006.0   nan  \n\n[5 rows x 61 columns]",
      "text/html": "<div>\n<style scoped>\n    .dataframe tbody tr th:only-of-type {\n        vertical-align: middle;\n    }\n\n    .dataframe tbody tr th {\n        vertical-align: top;\n    }\n\n    .dataframe thead th {\n        text-align: right;\n    }\n</style>\n<table border=\"1\" class=\"dataframe\">\n  <thead>\n    <tr style=\"text-align: right;\">\n      <th></th>\n      <th>Country Name</th>\n      <th>1960</th>\n      <th>1961</th>\n      <th>1962</th>\n      <th>1963</th>\n      <th>1964</th>\n      <th>1965</th>\n      <th>1966</th>\n      <th>1967</th>\n      <th>1968</th>\n      <th>...</th>\n      <th>2010</th>\n      <th>2011</th>\n      <th>2012</th>\n      <th>2013</th>\n      <th>2014</th>\n      <th>2015</th>\n      <th>2016</th>\n      <th>2017</th>\n      <th>2018</th>\n      <th>2019</th>\n    </tr>\n  </thead>\n  <tbody>\n    <tr>\n      <th>0</th>\n      <td>Aruba</td>\n      <td>54,211.0</td>\n      <td>55,438.0</td>\n      <td>56,225.0</td>\n      <td>56,695.0</td>\n      <td>57,032.0</td>\n      <td>57,360.0</td>\n      <td>57,715.0</td>\n      <td>58,055.0</td>\n      <td>58,386.0</td>\n      <td>...</td>\n      <td>101,669.0</td>\n      <td>102,046.0</td>\n      <td>102,560.0</td>\n      <td>103,159.0</td>\n      <td>103,774.0</td>\n      <td>104,341.0</td>\n      <td>104,872.0</td>\n      <td>105,366.0</td>\n      <td>105,845.0</td>\n      <td>nan</td>\n    </tr>\n    <tr>\n      <th>1</th>\n      <td>Afghanistan</td>\n      <td>8,996,973.0</td>\n      <td>9,169,410.0</td>\n      <td>9,351,441.0</td>\n      <td>9,543,205.0</td>\n      <td>9,744,781.0</td>\n      <td>9,956,320.0</td>\n      <td>10,174,836.0</td>\n      <td>10,399,926.0</td>\n      <td>10,637,063.0</td>\n      <td>...</td>\n      <td>29,185,507.0</td>\n      <td>30,117,413.0</td>\n      <td>31,161,376.0</td>\n      <td>32,269,589.0</td>\n      <td>33,370,794.0</td>\n      <td>34,413,603.0</td>\n      <td>35,383,128.0</td>\n      <td>36,296,400.0</td>\n      <td>37,172,386.0</td>\n      <td>nan</td>\n    </tr>\n    <tr>\n      <th>2</th>\n      <td>Angola</td>\n      <td>5,454,933.0</td>\n      <td>5,531,472.0</td>\n      <td>5,608,539.0</td>\n      <td>5,679,458.0</td>\n      <td>5,735,044.0</td>\n      <td>5,770,570.0</td>\n      <td>5,781,214.0</td>\n      <td>5,774,243.0</td>\n      <td>5,771,652.0</td>\n      <td>...</td>\n      <td>23,356,246.0</td>\n      <td>24,220,661.0</td>\n      <td>25,107,931.0</td>\n      <td>26,015,780.0</td>\n      <td>26,941,779.0</td>\n      <td>27,884,381.0</td>\n      <td>28,842,484.0</td>\n      <td>29,816,748.0</td>\n      <td>30,809,762.0</td>\n      <td>nan</td>\n    </tr>\n    <tr>\n      <th>3</th>\n      <td>Albania</td>\n      <td>1,608,800.0</td>\n      <td>1,659,800.0</td>\n      <td>1,711,319.0</td>\n      <td>1,762,621.0</td>\n      <td>1,814,135.0</td>\n      <td>1,864,791.0</td>\n      <td>1,914,573.0</td>\n      <td>1,965,598.0</td>\n      <td>2,022,272.0</td>\n      <td>...</td>\n      <td>2,913,021.0</td>\n      <td>2,905,195.0</td>\n      <td>2,900,401.0</td>\n      <td>2,895,092.0</td>\n      <td>2,889,104.0</td>\n      <td>2,880,703.0</td>\n      <td>2,876,101.0</td>\n      <td>2,873,457.0</td>\n      <td>2,866,376.0</td>\n      <td>nan</td>\n    </tr>\n    <tr>\n      <th>4</th>\n      <td>Andorra</td>\n      <td>13,411.0</td>\n      <td>14,375.0</td>\n      <td>15,370.0</td>\n      <td>16,412.0</td>\n      <td>17,469.0</td>\n      <td>18,549.0</td>\n      <td>19,647.0</td>\n      <td>20,758.0</td>\n      <td>21,890.0</td>\n      <td>...</td>\n      <td>84,449.0</td>\n      <td>83,747.0</td>\n      <td>82,427.0</td>\n      <td>80,774.0</td>\n      <td>79,213.0</td>\n      <td>78,011.0</td>\n      <td>77,297.0</td>\n      <td>77,001.0</td>\n      <td>77,006.0</td>\n      <td>nan</td>\n    </tr>\n  </tbody>\n</table>\n<p>5 rows × 61 columns</p>\n</div>"
     },
     "metadata": {},
     "execution_count": 81
    }
   ],
   "source": [
    "df.drop(columns=['Country Code', 'Indicator Name', 'Indicator Code', 'Unnamed: 64'], inplace=True)\n",
    "df.head()"
   ]
  },
  {
   "cell_type": "code",
   "execution_count": 82,
   "metadata": {},
   "outputs": [
    {
     "output_type": "execute_result",
     "data": {
      "text/plain": "  Country Name  year         pob\n0        Aruba  1960    54,211.0\n1  Afghanistan  1960 8,996,973.0\n2       Angola  1960 5,454,933.0\n3      Albania  1960 1,608,800.0\n4      Andorra  1960    13,411.0",
      "text/html": "<div>\n<style scoped>\n    .dataframe tbody tr th:only-of-type {\n        vertical-align: middle;\n    }\n\n    .dataframe tbody tr th {\n        vertical-align: top;\n    }\n\n    .dataframe thead th {\n        text-align: right;\n    }\n</style>\n<table border=\"1\" class=\"dataframe\">\n  <thead>\n    <tr style=\"text-align: right;\">\n      <th></th>\n      <th>Country Name</th>\n      <th>year</th>\n      <th>pob</th>\n    </tr>\n  </thead>\n  <tbody>\n    <tr>\n      <th>0</th>\n      <td>Aruba</td>\n      <td>1960</td>\n      <td>54,211.0</td>\n    </tr>\n    <tr>\n      <th>1</th>\n      <td>Afghanistan</td>\n      <td>1960</td>\n      <td>8,996,973.0</td>\n    </tr>\n    <tr>\n      <th>2</th>\n      <td>Angola</td>\n      <td>1960</td>\n      <td>5,454,933.0</td>\n    </tr>\n    <tr>\n      <th>3</th>\n      <td>Albania</td>\n      <td>1960</td>\n      <td>1,608,800.0</td>\n    </tr>\n    <tr>\n      <th>4</th>\n      <td>Andorra</td>\n      <td>1960</td>\n      <td>13,411.0</td>\n    </tr>\n  </tbody>\n</table>\n</div>"
     },
     "metadata": {},
     "execution_count": 82
    }
   ],
   "source": [
    "df = pd.melt(df, id_vars=['Country Name'], var_name='year', value_name='pob')\n",
    "df.head()"
   ]
  },
  {
   "cell_type": "code",
   "execution_count": 83,
   "metadata": {},
   "outputs": [],
   "source": [
    "# Cambiando el formato de pob\n",
    "pd.options.display.float_format = '{:,.1f}'.format"
   ]
  },
  {
   "cell_type": "code",
   "execution_count": 84,
   "metadata": {},
   "outputs": [
    {
     "output_type": "execute_result",
     "data": {
      "text/plain": "            Country  year         pob\n0             Aruba  1960    54,211.0\n1       Afghanistan  1960 8,996,973.0\n2            Angola  1960 5,454,933.0\n3           Albania  1960 1,608,800.0\n4           Andorra  1960    13,411.0\n...             ...   ...         ...\n15835        Kosovo  2019         nan\n15836   Yemen, Rep.  2019         nan\n15837  South Africa  2019         nan\n15838        Zambia  2019         nan\n15839      Zimbabwe  2019         nan\n\n[15840 rows x 3 columns]",
      "text/html": "<div>\n<style scoped>\n    .dataframe tbody tr th:only-of-type {\n        vertical-align: middle;\n    }\n\n    .dataframe tbody tr th {\n        vertical-align: top;\n    }\n\n    .dataframe thead th {\n        text-align: right;\n    }\n</style>\n<table border=\"1\" class=\"dataframe\">\n  <thead>\n    <tr style=\"text-align: right;\">\n      <th></th>\n      <th>Country</th>\n      <th>year</th>\n      <th>pob</th>\n    </tr>\n  </thead>\n  <tbody>\n    <tr>\n      <th>0</th>\n      <td>Aruba</td>\n      <td>1960</td>\n      <td>54,211.0</td>\n    </tr>\n    <tr>\n      <th>1</th>\n      <td>Afghanistan</td>\n      <td>1960</td>\n      <td>8,996,973.0</td>\n    </tr>\n    <tr>\n      <th>2</th>\n      <td>Angola</td>\n      <td>1960</td>\n      <td>5,454,933.0</td>\n    </tr>\n    <tr>\n      <th>3</th>\n      <td>Albania</td>\n      <td>1960</td>\n      <td>1,608,800.0</td>\n    </tr>\n    <tr>\n      <th>4</th>\n      <td>Andorra</td>\n      <td>1960</td>\n      <td>13,411.0</td>\n    </tr>\n    <tr>\n      <th>...</th>\n      <td>...</td>\n      <td>...</td>\n      <td>...</td>\n    </tr>\n    <tr>\n      <th>15835</th>\n      <td>Kosovo</td>\n      <td>2019</td>\n      <td>nan</td>\n    </tr>\n    <tr>\n      <th>15836</th>\n      <td>Yemen, Rep.</td>\n      <td>2019</td>\n      <td>nan</td>\n    </tr>\n    <tr>\n      <th>15837</th>\n      <td>South Africa</td>\n      <td>2019</td>\n      <td>nan</td>\n    </tr>\n    <tr>\n      <th>15838</th>\n      <td>Zambia</td>\n      <td>2019</td>\n      <td>nan</td>\n    </tr>\n    <tr>\n      <th>15839</th>\n      <td>Zimbabwe</td>\n      <td>2019</td>\n      <td>nan</td>\n    </tr>\n  </tbody>\n</table>\n<p>15840 rows × 3 columns</p>\n</div>"
     },
     "metadata": {},
     "execution_count": 84
    }
   ],
   "source": [
    "df.rename(columns={'Country Name': 'Country'}, inplace=True)\n",
    "df"
   ]
  },
  {
   "cell_type": "code",
   "execution_count": 85,
   "metadata": {},
   "outputs": [
    {
     "output_type": "execute_result",
     "data": {
      "text/plain": "Country     object\nyear         int64\npob        float64\ndtype: object"
     },
     "metadata": {},
     "execution_count": 85
    }
   ],
   "source": [
    "# Convertimos la variable year a una variable categorica\n",
    "# df['year'] = pd.categorical(df['year'].apply(str))\n",
    "df['year'] = df['year'].astype('int')\n",
    "df.dtypes"
   ]
  },
  {
   "cell_type": "code",
   "execution_count": 86,
   "metadata": {},
   "outputs": [
    {
     "output_type": "execute_result",
     "data": {
      "text/plain": "0     True\n1    False\n2    False\n3    False\n4    False\nName: Country, dtype: bool"
     },
     "metadata": {},
     "execution_count": 86
    }
   ],
   "source": [
    " # Filtro para seleccionar solo a dos paises, para tener una base mas pequena\n",
    " idx_filtro = df['Country'].isin(['Aruba', 'Colombia'])\n",
    " idx_filtro.head()"
   ]
  },
  {
   "cell_type": "code",
   "execution_count": 87,
   "metadata": {},
   "outputs": [
    {
     "output_type": "execute_result",
     "data": {
      "text/plain": "        Country  year          pob\n14520     Aruba  2015    104,341.0\n14563  Colombia  2015 47,520,667.0\n14784     Aruba  2016    104,872.0\n14827  Colombia  2016 48,171,392.0\n15048     Aruba  2017    105,366.0\n15091  Colombia  2017 48,901,066.0\n15312     Aruba  2018    105,845.0\n15355  Colombia  2018 49,648,685.0",
      "text/html": "<div>\n<style scoped>\n    .dataframe tbody tr th:only-of-type {\n        vertical-align: middle;\n    }\n\n    .dataframe tbody tr th {\n        vertical-align: top;\n    }\n\n    .dataframe thead th {\n        text-align: right;\n    }\n</style>\n<table border=\"1\" class=\"dataframe\">\n  <thead>\n    <tr style=\"text-align: right;\">\n      <th></th>\n      <th>Country</th>\n      <th>year</th>\n      <th>pob</th>\n    </tr>\n  </thead>\n  <tbody>\n    <tr>\n      <th>14520</th>\n      <td>Aruba</td>\n      <td>2015</td>\n      <td>104,341.0</td>\n    </tr>\n    <tr>\n      <th>14563</th>\n      <td>Colombia</td>\n      <td>2015</td>\n      <td>47,520,667.0</td>\n    </tr>\n    <tr>\n      <th>14784</th>\n      <td>Aruba</td>\n      <td>2016</td>\n      <td>104,872.0</td>\n    </tr>\n    <tr>\n      <th>14827</th>\n      <td>Colombia</td>\n      <td>2016</td>\n      <td>48,171,392.0</td>\n    </tr>\n    <tr>\n      <th>15048</th>\n      <td>Aruba</td>\n      <td>2017</td>\n      <td>105,366.0</td>\n    </tr>\n    <tr>\n      <th>15091</th>\n      <td>Colombia</td>\n      <td>2017</td>\n      <td>48,901,066.0</td>\n    </tr>\n    <tr>\n      <th>15312</th>\n      <td>Aruba</td>\n      <td>2018</td>\n      <td>105,845.0</td>\n    </tr>\n    <tr>\n      <th>15355</th>\n      <td>Colombia</td>\n      <td>2018</td>\n      <td>49,648,685.0</td>\n    </tr>\n  </tbody>\n</table>\n</div>"
     },
     "metadata": {},
     "execution_count": 87
    }
   ],
   "source": [
    "df_sample = df[idx_filtro]\n",
    "df_sample = df_sample.query('year >= 2015 & year <= 2018')\n",
    "df_sample"
   ]
  },
  {
   "cell_type": "code",
   "execution_count": 79,
   "metadata": {},
   "outputs": [
    {
     "output_type": "execute_result",
     "data": {
      "text/plain": "Country      object\nyear       category\npob         float64\ndtype: object"
     },
     "metadata": {},
     "execution_count": 79
    }
   ],
   "source": [
    "df_sample['year'] = df_sample['year'].astype('category')\n",
    "df_sample.dtypes"
   ]
  },
  {
   "cell_type": "code",
   "execution_count": 88,
   "metadata": {},
   "outputs": [
    {
     "output_type": "execute_result",
     "data": {
      "text/plain": "                       pob\nCountry  year             \nAruba    2015    104,341.0\nColombia 2015 47,520,667.0\nAruba    2016    104,872.0\nColombia 2016 48,171,392.0\nAruba    2017    105,366.0\nColombia 2017 48,901,066.0\nAruba    2018    105,845.0\nColombia 2018 49,648,685.0",
      "text/html": "<div>\n<style scoped>\n    .dataframe tbody tr th:only-of-type {\n        vertical-align: middle;\n    }\n\n    .dataframe tbody tr th {\n        vertical-align: top;\n    }\n\n    .dataframe thead th {\n        text-align: right;\n    }\n</style>\n<table border=\"1\" class=\"dataframe\">\n  <thead>\n    <tr style=\"text-align: right;\">\n      <th></th>\n      <th></th>\n      <th>pob</th>\n    </tr>\n    <tr>\n      <th>Country</th>\n      <th>year</th>\n      <th></th>\n    </tr>\n  </thead>\n  <tbody>\n    <tr>\n      <th>Aruba</th>\n      <th>2015</th>\n      <td>104,341.0</td>\n    </tr>\n    <tr>\n      <th>Colombia</th>\n      <th>2015</th>\n      <td>47,520,667.0</td>\n    </tr>\n    <tr>\n      <th>Aruba</th>\n      <th>2016</th>\n      <td>104,872.0</td>\n    </tr>\n    <tr>\n      <th>Colombia</th>\n      <th>2016</th>\n      <td>48,171,392.0</td>\n    </tr>\n    <tr>\n      <th>Aruba</th>\n      <th>2017</th>\n      <td>105,366.0</td>\n    </tr>\n    <tr>\n      <th>Colombia</th>\n      <th>2017</th>\n      <td>48,901,066.0</td>\n    </tr>\n    <tr>\n      <th>Aruba</th>\n      <th>2018</th>\n      <td>105,845.0</td>\n    </tr>\n    <tr>\n      <th>Colombia</th>\n      <th>2018</th>\n      <td>49,648,685.0</td>\n    </tr>\n  </tbody>\n</table>\n</div>"
     },
     "metadata": {},
     "execution_count": 88
    }
   ],
   "source": [
    "df_sample = df_sample.set_index(['Country', 'year'])\n",
    "df_sample"
   ]
  },
  {
   "cell_type": "code",
   "execution_count": 89,
   "metadata": {},
   "outputs": [
    {
     "output_type": "execute_result",
     "data": {
      "text/plain": "                       pob\nCountry  year             \nAruba    2015    104,341.0\n         2016    104,872.0\n         2017    105,366.0\n         2018    105,845.0\nColombia 2015 47,520,667.0\n         2016 48,171,392.0\n         2017 48,901,066.0\n         2018 49,648,685.0",
      "text/html": "<div>\n<style scoped>\n    .dataframe tbody tr th:only-of-type {\n        vertical-align: middle;\n    }\n\n    .dataframe tbody tr th {\n        vertical-align: top;\n    }\n\n    .dataframe thead th {\n        text-align: right;\n    }\n</style>\n<table border=\"1\" class=\"dataframe\">\n  <thead>\n    <tr style=\"text-align: right;\">\n      <th></th>\n      <th></th>\n      <th>pob</th>\n    </tr>\n    <tr>\n      <th>Country</th>\n      <th>year</th>\n      <th></th>\n    </tr>\n  </thead>\n  <tbody>\n    <tr>\n      <th rowspan=\"4\" valign=\"top\">Aruba</th>\n      <th>2015</th>\n      <td>104,341.0</td>\n    </tr>\n    <tr>\n      <th>2016</th>\n      <td>104,872.0</td>\n    </tr>\n    <tr>\n      <th>2017</th>\n      <td>105,366.0</td>\n    </tr>\n    <tr>\n      <th>2018</th>\n      <td>105,845.0</td>\n    </tr>\n    <tr>\n      <th rowspan=\"4\" valign=\"top\">Colombia</th>\n      <th>2015</th>\n      <td>47,520,667.0</td>\n    </tr>\n    <tr>\n      <th>2016</th>\n      <td>48,171,392.0</td>\n    </tr>\n    <tr>\n      <th>2017</th>\n      <td>48,901,066.0</td>\n    </tr>\n    <tr>\n      <th>2018</th>\n      <td>49,648,685.0</td>\n    </tr>\n  </tbody>\n</table>\n</div>"
     },
     "metadata": {},
     "execution_count": 89
    }
   ],
   "source": [
    "df_sample.sort_index()"
   ]
  },
  {
   "cell_type": "code",
   "execution_count": 90,
   "metadata": {},
   "outputs": [
    {
     "output_type": "execute_result",
     "data": {
      "text/plain": "              pob\nyear             \n2015 47,520,667.0\n2016 48,171,392.0\n2017 48,901,066.0\n2018 49,648,685.0",
      "text/html": "<div>\n<style scoped>\n    .dataframe tbody tr th:only-of-type {\n        vertical-align: middle;\n    }\n\n    .dataframe tbody tr th {\n        vertical-align: top;\n    }\n\n    .dataframe thead th {\n        text-align: right;\n    }\n</style>\n<table border=\"1\" class=\"dataframe\">\n  <thead>\n    <tr style=\"text-align: right;\">\n      <th></th>\n      <th>pob</th>\n    </tr>\n    <tr>\n      <th>year</th>\n      <th></th>\n    </tr>\n  </thead>\n  <tbody>\n    <tr>\n      <th>2015</th>\n      <td>47,520,667.0</td>\n    </tr>\n    <tr>\n      <th>2016</th>\n      <td>48,171,392.0</td>\n    </tr>\n    <tr>\n      <th>2017</th>\n      <td>48,901,066.0</td>\n    </tr>\n    <tr>\n      <th>2018</th>\n      <td>49,648,685.0</td>\n    </tr>\n  </tbody>\n</table>\n</div>"
     },
     "metadata": {},
     "execution_count": 90
    }
   ],
   "source": [
    "df_sample.loc['Colombia',:]"
   ]
  },
  {
   "cell_type": "code",
   "execution_count": 93,
   "metadata": {},
   "outputs": [
    {
     "output_type": "execute_result",
     "data": {
      "text/plain": "pob   48,171,392.0\nName: 2016, dtype: float64"
     },
     "metadata": {},
     "execution_count": 93
    }
   ],
   "source": [
    "df_sample.loc['Colombia', :].loc[2016, :]"
   ]
  },
  {
   "cell_type": "code",
   "execution_count": 94,
   "metadata": {},
   "outputs": [
    {
     "output_type": "execute_result",
     "data": {
      "text/plain": "           pob\nyear          \n2015 104,341.0\n2016 104,872.0\n2017 105,366.0\n2018 105,845.0",
      "text/html": "<div>\n<style scoped>\n    .dataframe tbody tr th:only-of-type {\n        vertical-align: middle;\n    }\n\n    .dataframe tbody tr th {\n        vertical-align: top;\n    }\n\n    .dataframe thead th {\n        text-align: right;\n    }\n</style>\n<table border=\"1\" class=\"dataframe\">\n  <thead>\n    <tr style=\"text-align: right;\">\n      <th></th>\n      <th>pob</th>\n    </tr>\n    <tr>\n      <th>year</th>\n      <th></th>\n    </tr>\n  </thead>\n  <tbody>\n    <tr>\n      <th>2015</th>\n      <td>104,341.0</td>\n    </tr>\n    <tr>\n      <th>2016</th>\n      <td>104,872.0</td>\n    </tr>\n    <tr>\n      <th>2017</th>\n      <td>105,366.0</td>\n    </tr>\n    <tr>\n      <th>2018</th>\n      <td>105,845.0</td>\n    </tr>\n  </tbody>\n</table>\n</div>"
     },
     "metadata": {},
     "execution_count": 94
    }
   ],
   "source": [
    "df_sample.xs(['Aruba'])"
   ]
  },
  {
   "cell_type": "code",
   "execution_count": 95,
   "metadata": {},
   "outputs": [
    {
     "output_type": "execute_result",
     "data": {
      "text/plain": "pob   105,845.0\nName: (Aruba, 2018), dtype: float64"
     },
     "metadata": {},
     "execution_count": 95
    }
   ],
   "source": [
    "df_sample.xs(['Aruba', 2018])"
   ]
  },
  {
   "cell_type": "code",
   "execution_count": 96,
   "metadata": {},
   "outputs": [
    {
     "output_type": "execute_result",
     "data": {
      "text/plain": "                  pob\nCountry              \nAruba       105,845.0\nColombia 49,648,685.0",
      "text/html": "<div>\n<style scoped>\n    .dataframe tbody tr th:only-of-type {\n        vertical-align: middle;\n    }\n\n    .dataframe tbody tr th {\n        vertical-align: top;\n    }\n\n    .dataframe thead th {\n        text-align: right;\n    }\n</style>\n<table border=\"1\" class=\"dataframe\">\n  <thead>\n    <tr style=\"text-align: right;\">\n      <th></th>\n      <th>pob</th>\n    </tr>\n    <tr>\n      <th>Country</th>\n      <th></th>\n    </tr>\n  </thead>\n  <tbody>\n    <tr>\n      <th>Aruba</th>\n      <td>105,845.0</td>\n    </tr>\n    <tr>\n      <th>Colombia</th>\n      <td>49,648,685.0</td>\n    </tr>\n  </tbody>\n</table>\n</div>"
     },
     "metadata": {},
     "execution_count": 96
    }
   ],
   "source": [
    "df_sample.xs(2018, level=1)"
   ]
  },
  {
   "cell_type": "code",
   "execution_count": 102,
   "metadata": {},
   "outputs": [
    {
     "output_type": "execute_result",
     "data": {
      "text/plain": "                          pob\nCountry     year             \nAfghanistan 1960  8,996,973.0\n            1961  9,169,410.0\n            1962  9,351,441.0\n            1963  9,543,205.0\n            1964  9,744,781.0\n...                       ...\nZimbabwe    2015 13,814,629.0\n            2016 14,030,390.0\n            2017 14,236,745.0\n            2018 14,439,018.0\n            2019          nan\n\n[15840 rows x 1 columns]",
      "text/html": "<div>\n<style scoped>\n    .dataframe tbody tr th:only-of-type {\n        vertical-align: middle;\n    }\n\n    .dataframe tbody tr th {\n        vertical-align: top;\n    }\n\n    .dataframe thead th {\n        text-align: right;\n    }\n</style>\n<table border=\"1\" class=\"dataframe\">\n  <thead>\n    <tr style=\"text-align: right;\">\n      <th></th>\n      <th></th>\n      <th>pob</th>\n    </tr>\n    <tr>\n      <th>Country</th>\n      <th>year</th>\n      <th></th>\n    </tr>\n  </thead>\n  <tbody>\n    <tr>\n      <th rowspan=\"5\" valign=\"top\">Afghanistan</th>\n      <th>1960</th>\n      <td>8,996,973.0</td>\n    </tr>\n    <tr>\n      <th>1961</th>\n      <td>9,169,410.0</td>\n    </tr>\n    <tr>\n      <th>1962</th>\n      <td>9,351,441.0</td>\n    </tr>\n    <tr>\n      <th>1963</th>\n      <td>9,543,205.0</td>\n    </tr>\n    <tr>\n      <th>1964</th>\n      <td>9,744,781.0</td>\n    </tr>\n    <tr>\n      <th>...</th>\n      <th>...</th>\n      <td>...</td>\n    </tr>\n    <tr>\n      <th rowspan=\"5\" valign=\"top\">Zimbabwe</th>\n      <th>2015</th>\n      <td>13,814,629.0</td>\n    </tr>\n    <tr>\n      <th>2016</th>\n      <td>14,030,390.0</td>\n    </tr>\n    <tr>\n      <th>2017</th>\n      <td>14,236,745.0</td>\n    </tr>\n    <tr>\n      <th>2018</th>\n      <td>14,439,018.0</td>\n    </tr>\n    <tr>\n      <th>2019</th>\n      <td>nan</td>\n    </tr>\n  </tbody>\n</table>\n<p>15840 rows × 1 columns</p>\n</div>"
     },
     "metadata": {},
     "execution_count": 102
    }
   ],
   "source": [
    "df_countries = df.set_index(['Country', 'year']).sort_index(ascending=[True, True])\n",
    "df_countries"
   ]
  },
  {
   "cell_type": "code",
   "execution_count": 103,
   "metadata": {},
   "outputs": [
    {
     "output_type": "execute_result",
     "data": {
      "text/plain": "                        pob\nCountry   year             \nAruba     2015    104,341.0\n          2016    104,872.0\n          2017    105,366.0\nAustralia 2015 23,815,995.0\n          2016 24,190,907.0\n          2017 24,601,860.0\nAustria   2015  8,642,699.0\n          2016  8,736,668.0\n          2017  8,797,566.0",
      "text/html": "<div>\n<style scoped>\n    .dataframe tbody tr th:only-of-type {\n        vertical-align: middle;\n    }\n\n    .dataframe tbody tr th {\n        vertical-align: top;\n    }\n\n    .dataframe thead th {\n        text-align: right;\n    }\n</style>\n<table border=\"1\" class=\"dataframe\">\n  <thead>\n    <tr style=\"text-align: right;\">\n      <th></th>\n      <th></th>\n      <th>pob</th>\n    </tr>\n    <tr>\n      <th>Country</th>\n      <th>year</th>\n      <th></th>\n    </tr>\n  </thead>\n  <tbody>\n    <tr>\n      <th rowspan=\"3\" valign=\"top\">Aruba</th>\n      <th>2015</th>\n      <td>104,341.0</td>\n    </tr>\n    <tr>\n      <th>2016</th>\n      <td>104,872.0</td>\n    </tr>\n    <tr>\n      <th>2017</th>\n      <td>105,366.0</td>\n    </tr>\n    <tr>\n      <th rowspan=\"3\" valign=\"top\">Australia</th>\n      <th>2015</th>\n      <td>23,815,995.0</td>\n    </tr>\n    <tr>\n      <th>2016</th>\n      <td>24,190,907.0</td>\n    </tr>\n    <tr>\n      <th>2017</th>\n      <td>24,601,860.0</td>\n    </tr>\n    <tr>\n      <th rowspan=\"3\" valign=\"top\">Austria</th>\n      <th>2015</th>\n      <td>8,642,699.0</td>\n    </tr>\n    <tr>\n      <th>2016</th>\n      <td>8,736,668.0</td>\n    </tr>\n    <tr>\n      <th>2017</th>\n      <td>8,797,566.0</td>\n    </tr>\n  </tbody>\n</table>\n</div>"
     },
     "metadata": {},
     "execution_count": 103
    }
   ],
   "source": [
    "df_countries.loc[pd.IndexSlice['Aruba':'Austria', 2015:2017], :].sort_index()"
   ]
  },
  {
   "cell_type": "code",
   "execution_count": 106,
   "metadata": {},
   "outputs": [
    {
     "output_type": "execute_result",
     "data": {
      "text/plain": "Country      year\nAfghanistan  1960    8,996,973.0\n             1961    9,169,410.0\n             1962    9,351,441.0\n             1963    9,543,205.0\n             1964    9,744,781.0\n                        ...     \nZimbabwe     2015   13,814,629.0\n             2016   14,030,390.0\n             2017   14,236,745.0\n             2018   14,439,018.0\n             2019            nan\nName: pob, Length: 15840, dtype: float64"
     },
     "metadata": {},
     "execution_count": 106
    }
   ],
   "source": [
    "df_countries['pob']"
   ]
  },
  {
   "cell_type": "code",
   "execution_count": 108,
   "metadata": {},
   "outputs": [
    {
     "output_type": "execute_result",
     "data": {
      "text/plain": "year\n1960   16,057,724.0\n1961   16,567,811.0\n1962   17,092,918.0\n1963   17,629,979.0\n1964   18,175,185.0\nName: pob, dtype: float64"
     },
     "metadata": {},
     "execution_count": 108
    }
   ],
   "source": [
    "df_countries['pob']['Colombia'].head()"
   ]
  },
  {
   "cell_type": "code",
   "execution_count": 109,
   "metadata": {},
   "outputs": [
    {
     "output_type": "execute_result",
     "data": {
      "text/plain": "49648685.0"
     },
     "metadata": {},
     "execution_count": 109
    }
   ],
   "source": [
    "df_countries['pob']['Colombia'][2018]"
   ]
  },
  {
   "cell_type": "code",
   "execution_count": 111,
   "metadata": {},
   "outputs": [
    {
     "output_type": "execute_result",
     "data": {
      "text/plain": "                  pob\nyear                 \n1960 30,693,182,639.0\n1961 31,105,215,070.0\n1962 31,655,829,712.0\n1963 32,341,125,029.0\n1964 33,031,792,191.0",
      "text/html": "<div>\n<style scoped>\n    .dataframe tbody tr th:only-of-type {\n        vertical-align: middle;\n    }\n\n    .dataframe tbody tr th {\n        vertical-align: top;\n    }\n\n    .dataframe thead th {\n        text-align: right;\n    }\n</style>\n<table border=\"1\" class=\"dataframe\">\n  <thead>\n    <tr style=\"text-align: right;\">\n      <th></th>\n      <th>pob</th>\n    </tr>\n    <tr>\n      <th>year</th>\n      <th></th>\n    </tr>\n  </thead>\n  <tbody>\n    <tr>\n      <th>1960</th>\n      <td>30,693,182,639.0</td>\n    </tr>\n    <tr>\n      <th>1961</th>\n      <td>31,105,215,070.0</td>\n    </tr>\n    <tr>\n      <th>1962</th>\n      <td>31,655,829,712.0</td>\n    </tr>\n    <tr>\n      <th>1963</th>\n      <td>32,341,125,029.0</td>\n    </tr>\n    <tr>\n      <th>1964</th>\n      <td>33,031,792,191.0</td>\n    </tr>\n  </tbody>\n</table>\n</div>"
     },
     "metadata": {},
     "execution_count": 111
    }
   ],
   "source": [
    "df_countries.sum(level='year').head()"
   ]
  },
  {
   "cell_type": "code",
   "execution_count": 112,
   "metadata": {},
   "outputs": [
    {
     "output_type": "execute_result",
     "data": {
      "text/plain": "                  pob                                       \nyear             2015         2016         2017         2018\nCountry                                                     \nAruba       104,341.0    104,872.0    105,366.0    105,845.0\nColombia 47,520,667.0 48,171,392.0 48,901,066.0 49,648,685.0",
      "text/html": "<div>\n<style scoped>\n    .dataframe tbody tr th:only-of-type {\n        vertical-align: middle;\n    }\n\n    .dataframe tbody tr th {\n        vertical-align: top;\n    }\n\n    .dataframe thead tr th {\n        text-align: left;\n    }\n\n    .dataframe thead tr:last-of-type th {\n        text-align: right;\n    }\n</style>\n<table border=\"1\" class=\"dataframe\">\n  <thead>\n    <tr>\n      <th></th>\n      <th colspan=\"4\" halign=\"left\">pob</th>\n    </tr>\n    <tr>\n      <th>year</th>\n      <th>2015</th>\n      <th>2016</th>\n      <th>2017</th>\n      <th>2018</th>\n    </tr>\n    <tr>\n      <th>Country</th>\n      <th></th>\n      <th></th>\n      <th></th>\n      <th></th>\n    </tr>\n  </thead>\n  <tbody>\n    <tr>\n      <th>Aruba</th>\n      <td>104,341.0</td>\n      <td>104,872.0</td>\n      <td>105,366.0</td>\n      <td>105,845.0</td>\n    </tr>\n    <tr>\n      <th>Colombia</th>\n      <td>47,520,667.0</td>\n      <td>48,171,392.0</td>\n      <td>48,901,066.0</td>\n      <td>49,648,685.0</td>\n    </tr>\n  </tbody>\n</table>\n</div>"
     },
     "metadata": {},
     "execution_count": 112
    }
   ],
   "source": [
    "df_sample.unstack('year')"
   ]
  },
  {
   "cell_type": "code",
   "execution_count": 113,
   "metadata": {},
   "outputs": [
    {
     "output_type": "execute_result",
     "data": {
      "text/plain": "              pob             \nCountry     Aruba     Colombia\nyear                          \n2015    104,341.0 47,520,667.0\n2016    104,872.0 48,171,392.0\n2017    105,366.0 48,901,066.0\n2018    105,845.0 49,648,685.0",
      "text/html": "<div>\n<style scoped>\n    .dataframe tbody tr th:only-of-type {\n        vertical-align: middle;\n    }\n\n    .dataframe tbody tr th {\n        vertical-align: top;\n    }\n\n    .dataframe thead tr th {\n        text-align: left;\n    }\n\n    .dataframe thead tr:last-of-type th {\n        text-align: right;\n    }\n</style>\n<table border=\"1\" class=\"dataframe\">\n  <thead>\n    <tr>\n      <th></th>\n      <th colspan=\"2\" halign=\"left\">pob</th>\n    </tr>\n    <tr>\n      <th>Country</th>\n      <th>Aruba</th>\n      <th>Colombia</th>\n    </tr>\n    <tr>\n      <th>year</th>\n      <th></th>\n      <th></th>\n    </tr>\n  </thead>\n  <tbody>\n    <tr>\n      <th>2015</th>\n      <td>104,341.0</td>\n      <td>47,520,667.0</td>\n    </tr>\n    <tr>\n      <th>2016</th>\n      <td>104,872.0</td>\n      <td>48,171,392.0</td>\n    </tr>\n    <tr>\n      <th>2017</th>\n      <td>105,366.0</td>\n      <td>48,901,066.0</td>\n    </tr>\n    <tr>\n      <th>2018</th>\n      <td>105,845.0</td>\n      <td>49,648,685.0</td>\n    </tr>\n  </tbody>\n</table>\n</div>"
     },
     "metadata": {},
     "execution_count": 113
    }
   ],
   "source": [
    "df_sample.unstack('Country')"
   ]
  },
  {
   "cell_type": "code",
   "execution_count": null,
   "metadata": {},
   "outputs": [],
   "source": []
  }
 ],
 "metadata": {
  "language_info": {
   "codemirror_mode": {
    "name": "ipython",
    "version": 3
   },
   "file_extension": ".py",
   "mimetype": "text/x-python",
   "name": "python",
   "nbconvert_exporter": "python",
   "pygments_lexer": "ipython3",
   "version": "3.7.6-final"
  },
  "orig_nbformat": 2,
  "kernelspec": {
   "name": "python3",
   "display_name": "Python 3"
  }
 },
 "nbformat": 4,
 "nbformat_minor": 2
}