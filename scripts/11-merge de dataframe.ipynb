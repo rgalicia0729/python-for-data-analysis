{
 "metadata": {
  "language_info": {
   "codemirror_mode": {
    "name": "ipython",
    "version": 3
   },
   "file_extension": ".py",
   "mimetype": "text/x-python",
   "name": "python",
   "nbconvert_exporter": "python",
   "pygments_lexer": "ipython3",
   "version": "3.7.6-final"
  },
  "orig_nbformat": 2,
  "kernelspec": {
   "name": "python3",
   "display_name": "Python 3"
  }
 },
 "nbformat": 4,
 "nbformat_minor": 2,
 "cells": [
  {
   "cell_type": "code",
   "execution_count": 3,
   "metadata": {},
   "outputs": [],
   "source": [
    "import pandas as pd"
   ]
  },
  {
   "cell_type": "code",
   "execution_count": 4,
   "metadata": {},
   "outputs": [
    {
     "output_type": "execute_result",
     "data": {
      "text/plain": "'1.0.1'"
     },
     "metadata": {},
     "execution_count": 4
    }
   ],
   "source": [
    "pd.__version__"
   ]
  },
  {
   "cell_type": "code",
   "execution_count": 7,
   "metadata": {},
   "outputs": [
    {
     "output_type": "execute_result",
     "data": {
      "text/plain": "    X   W   Y Mix\n0  x0  w0  y0  y2\n1  x1  w1  y1  y3\n2  x2  w2  y2  a2\n3  x3  w3  y3  a3",
      "text/html": "<div>\n<style scoped>\n    .dataframe tbody tr th:only-of-type {\n        vertical-align: middle;\n    }\n\n    .dataframe tbody tr th {\n        vertical-align: top;\n    }\n\n    .dataframe thead th {\n        text-align: right;\n    }\n</style>\n<table border=\"1\" class=\"dataframe\">\n  <thead>\n    <tr style=\"text-align: right;\">\n      <th></th>\n      <th>X</th>\n      <th>W</th>\n      <th>Y</th>\n      <th>Mix</th>\n    </tr>\n  </thead>\n  <tbody>\n    <tr>\n      <th>0</th>\n      <td>x0</td>\n      <td>w0</td>\n      <td>y0</td>\n      <td>y2</td>\n    </tr>\n    <tr>\n      <th>1</th>\n      <td>x1</td>\n      <td>w1</td>\n      <td>y1</td>\n      <td>y3</td>\n    </tr>\n    <tr>\n      <th>2</th>\n      <td>x2</td>\n      <td>w2</td>\n      <td>y2</td>\n      <td>a2</td>\n    </tr>\n    <tr>\n      <th>3</th>\n      <td>x3</td>\n      <td>w3</td>\n      <td>y3</td>\n      <td>a3</td>\n    </tr>\n  </tbody>\n</table>\n</div>"
     },
     "metadata": {},
     "execution_count": 7
    }
   ],
   "source": [
    "df_left = pd.DataFrame(\n",
    "    {\n",
    "        'X': ['x0', 'x1', 'x2', 'x3'],\n",
    "        'W': ['w0', 'w1', 'w2', 'w3'],\n",
    "        'Y': ['y0', 'y1', 'y2', 'y3'],\n",
    "        'Mix': ['y2', 'y3', 'a2', 'a3']\n",
    "    },\n",
    "    index=[0,1,2,3]\n",
    ")\n",
    "df_left"
   ]
  },
  {
   "cell_type": "code",
   "execution_count": 6,
   "metadata": {},
   "outputs": [
    {
     "output_type": "execute_result",
     "data": {
      "text/plain": "    Z   A   Y\n2  z2  a2  y2\n3  z3  a3  y3\n4  z4  a4  y4\n5  z5  a5  y5",
      "text/html": "<div>\n<style scoped>\n    .dataframe tbody tr th:only-of-type {\n        vertical-align: middle;\n    }\n\n    .dataframe tbody tr th {\n        vertical-align: top;\n    }\n\n    .dataframe thead th {\n        text-align: right;\n    }\n</style>\n<table border=\"1\" class=\"dataframe\">\n  <thead>\n    <tr style=\"text-align: right;\">\n      <th></th>\n      <th>Z</th>\n      <th>A</th>\n      <th>Y</th>\n    </tr>\n  </thead>\n  <tbody>\n    <tr>\n      <th>2</th>\n      <td>z2</td>\n      <td>a2</td>\n      <td>y2</td>\n    </tr>\n    <tr>\n      <th>3</th>\n      <td>z3</td>\n      <td>a3</td>\n      <td>y3</td>\n    </tr>\n    <tr>\n      <th>4</th>\n      <td>z4</td>\n      <td>a4</td>\n      <td>y4</td>\n    </tr>\n    <tr>\n      <th>5</th>\n      <td>z5</td>\n      <td>a5</td>\n      <td>y5</td>\n    </tr>\n  </tbody>\n</table>\n</div>"
     },
     "metadata": {},
     "execution_count": 6
    }
   ],
   "source": [
    "df_right = pd.DataFrame(\n",
    "    {\n",
    "        'Z': ['z2', 'z3', 'z4', 'z5'],\n",
    "        'A': ['a2', 'a3', 'a4', 'a5'],\n",
    "        'Y': ['y2', 'y3', 'y4', 'y5']\n",
    "    },\n",
    "    index=[2, 3, 4, 5]\n",
    ")\n",
    "df_right"
   ]
  },
  {
   "cell_type": "code",
   "execution_count": 8,
   "metadata": {},
   "outputs": [
    {
     "output_type": "execute_result",
     "data": {
      "text/plain": "    X   W   Y Mix   Z   A\n0  x2  w2  y2  a2  z2  a2\n1  x3  w3  y3  a3  z3  a3",
      "text/html": "<div>\n<style scoped>\n    .dataframe tbody tr th:only-of-type {\n        vertical-align: middle;\n    }\n\n    .dataframe tbody tr th {\n        vertical-align: top;\n    }\n\n    .dataframe thead th {\n        text-align: right;\n    }\n</style>\n<table border=\"1\" class=\"dataframe\">\n  <thead>\n    <tr style=\"text-align: right;\">\n      <th></th>\n      <th>X</th>\n      <th>W</th>\n      <th>Y</th>\n      <th>Mix</th>\n      <th>Z</th>\n      <th>A</th>\n    </tr>\n  </thead>\n  <tbody>\n    <tr>\n      <th>0</th>\n      <td>x2</td>\n      <td>w2</td>\n      <td>y2</td>\n      <td>a2</td>\n      <td>z2</td>\n      <td>a2</td>\n    </tr>\n    <tr>\n      <th>1</th>\n      <td>x3</td>\n      <td>w3</td>\n      <td>y3</td>\n      <td>a3</td>\n      <td>z3</td>\n      <td>a3</td>\n    </tr>\n  </tbody>\n</table>\n</div>"
     },
     "metadata": {},
     "execution_count": 8
    }
   ],
   "source": [
    "# Merge a traves de una variable en comun\n",
    "pd.merge(df_left, df_right)"
   ]
  },
  {
   "cell_type": "code",
   "execution_count": 9,
   "metadata": {},
   "outputs": [
    {
     "output_type": "execute_result",
     "data": {
      "text/plain": "    X   W   Y Mix   Z   A\n0  x2  w2  y2  a2  z2  a2\n1  x3  w3  y3  a3  z3  a3",
      "text/html": "<div>\n<style scoped>\n    .dataframe tbody tr th:only-of-type {\n        vertical-align: middle;\n    }\n\n    .dataframe tbody tr th {\n        vertical-align: top;\n    }\n\n    .dataframe thead th {\n        text-align: right;\n    }\n</style>\n<table border=\"1\" class=\"dataframe\">\n  <thead>\n    <tr style=\"text-align: right;\">\n      <th></th>\n      <th>X</th>\n      <th>W</th>\n      <th>Y</th>\n      <th>Mix</th>\n      <th>Z</th>\n      <th>A</th>\n    </tr>\n  </thead>\n  <tbody>\n    <tr>\n      <th>0</th>\n      <td>x2</td>\n      <td>w2</td>\n      <td>y2</td>\n      <td>a2</td>\n      <td>z2</td>\n      <td>a2</td>\n    </tr>\n    <tr>\n      <th>1</th>\n      <td>x3</td>\n      <td>w3</td>\n      <td>y3</td>\n      <td>a3</td>\n      <td>z3</td>\n      <td>a3</td>\n    </tr>\n  </tbody>\n</table>\n</div>"
     },
     "metadata": {},
     "execution_count": 9
    }
   ],
   "source": [
    "pd.merge(df_left, df_right, how='inner', on='Y')"
   ]
  },
  {
   "cell_type": "code",
   "execution_count": 10,
   "metadata": {},
   "outputs": [
    {
     "output_type": "execute_result",
     "data": {
      "text/plain": "    X   W Y_x Mix   Z   A Y_y\n0  x0  w0  y0  y2  z2  a2  y2\n1  x1  w1  y1  y3  z3  a3  y3",
      "text/html": "<div>\n<style scoped>\n    .dataframe tbody tr th:only-of-type {\n        vertical-align: middle;\n    }\n\n    .dataframe tbody tr th {\n        vertical-align: top;\n    }\n\n    .dataframe thead th {\n        text-align: right;\n    }\n</style>\n<table border=\"1\" class=\"dataframe\">\n  <thead>\n    <tr style=\"text-align: right;\">\n      <th></th>\n      <th>X</th>\n      <th>W</th>\n      <th>Y_x</th>\n      <th>Mix</th>\n      <th>Z</th>\n      <th>A</th>\n      <th>Y_y</th>\n    </tr>\n  </thead>\n  <tbody>\n    <tr>\n      <th>0</th>\n      <td>x0</td>\n      <td>w0</td>\n      <td>y0</td>\n      <td>y2</td>\n      <td>z2</td>\n      <td>a2</td>\n      <td>y2</td>\n    </tr>\n    <tr>\n      <th>1</th>\n      <td>x1</td>\n      <td>w1</td>\n      <td>y1</td>\n      <td>y3</td>\n      <td>z3</td>\n      <td>a3</td>\n      <td>y3</td>\n    </tr>\n  </tbody>\n</table>\n</div>"
     },
     "metadata": {},
     "execution_count": 10
    }
   ],
   "source": [
    "pd.merge(df_left, df_right, how='inner', left_on='Mix', right_on='Y')"
   ]
  },
  {
   "cell_type": "code",
   "execution_count": 11,
   "metadata": {},
   "outputs": [
    {
     "output_type": "execute_result",
     "data": {
      "text/plain": "    X   W Y_x Mix   Z   A Y_y\n0  x2  w2  y2  a2  z2  a2  y2\n1  x3  w3  y3  a3  z3  a3  y3",
      "text/html": "<div>\n<style scoped>\n    .dataframe tbody tr th:only-of-type {\n        vertical-align: middle;\n    }\n\n    .dataframe tbody tr th {\n        vertical-align: top;\n    }\n\n    .dataframe thead th {\n        text-align: right;\n    }\n</style>\n<table border=\"1\" class=\"dataframe\">\n  <thead>\n    <tr style=\"text-align: right;\">\n      <th></th>\n      <th>X</th>\n      <th>W</th>\n      <th>Y_x</th>\n      <th>Mix</th>\n      <th>Z</th>\n      <th>A</th>\n      <th>Y_y</th>\n    </tr>\n  </thead>\n  <tbody>\n    <tr>\n      <th>0</th>\n      <td>x2</td>\n      <td>w2</td>\n      <td>y2</td>\n      <td>a2</td>\n      <td>z2</td>\n      <td>a2</td>\n      <td>y2</td>\n    </tr>\n    <tr>\n      <th>1</th>\n      <td>x3</td>\n      <td>w3</td>\n      <td>y3</td>\n      <td>a3</td>\n      <td>z3</td>\n      <td>a3</td>\n      <td>y3</td>\n    </tr>\n  </tbody>\n</table>\n</div>"
     },
     "metadata": {},
     "execution_count": 11
    }
   ],
   "source": [
    "pd.merge(df_left, df_right, how='inner', left_on='Mix', right_on='A')"
   ]
  },
  {
   "cell_type": "code",
   "execution_count": 15,
   "metadata": {},
   "outputs": [
    {
     "output_type": "execute_result",
     "data": {
      "text/plain": "    X   W   Y\n0  x0  w0  y0\n1  x1  w1  y1\n2  x2  w2  y2\n3  x3  w3  y3",
      "text/html": "<div>\n<style scoped>\n    .dataframe tbody tr th:only-of-type {\n        vertical-align: middle;\n    }\n\n    .dataframe tbody tr th {\n        vertical-align: top;\n    }\n\n    .dataframe thead th {\n        text-align: right;\n    }\n</style>\n<table border=\"1\" class=\"dataframe\">\n  <thead>\n    <tr style=\"text-align: right;\">\n      <th></th>\n      <th>X</th>\n      <th>W</th>\n      <th>Y</th>\n    </tr>\n  </thead>\n  <tbody>\n    <tr>\n      <th>0</th>\n      <td>x0</td>\n      <td>w0</td>\n      <td>y0</td>\n    </tr>\n    <tr>\n      <th>1</th>\n      <td>x1</td>\n      <td>w1</td>\n      <td>y1</td>\n    </tr>\n    <tr>\n      <th>2</th>\n      <td>x2</td>\n      <td>w2</td>\n      <td>y2</td>\n    </tr>\n    <tr>\n      <th>3</th>\n      <td>x3</td>\n      <td>w3</td>\n      <td>y3</td>\n    </tr>\n  </tbody>\n</table>\n</div>"
     },
     "metadata": {},
     "execution_count": 15
    }
   ],
   "source": [
    "df_left = pd.DataFrame(\n",
    "    {\n",
    "        'X': ['x0', 'x1', 'x2', 'x3'],\n",
    "        'W': ['w0', 'w1', 'w2', 'w3'],\n",
    "        'Y': ['y0', 'y1', 'y2', 'y3']\n",
    "    },\n",
    "    index=[0,1,2,3]\n",
    ")\n",
    "df_left"
   ]
  },
  {
   "cell_type": "markdown",
   "metadata": {},
   "source": [
    "## Diferentes tipos de merge"
   ]
  },
  {
   "cell_type": "code",
   "execution_count": 16,
   "metadata": {},
   "outputs": [
    {
     "output_type": "execute_result",
     "data": {
      "text/plain": "    X   W   Y    Z    A\n0  x0  w0  y0  NaN  NaN\n1  x1  w1  y1  NaN  NaN\n2  x2  w2  y2   z2   a2\n3  x3  w3  y3   z3   a3",
      "text/html": "<div>\n<style scoped>\n    .dataframe tbody tr th:only-of-type {\n        vertical-align: middle;\n    }\n\n    .dataframe tbody tr th {\n        vertical-align: top;\n    }\n\n    .dataframe thead th {\n        text-align: right;\n    }\n</style>\n<table border=\"1\" class=\"dataframe\">\n  <thead>\n    <tr style=\"text-align: right;\">\n      <th></th>\n      <th>X</th>\n      <th>W</th>\n      <th>Y</th>\n      <th>Z</th>\n      <th>A</th>\n    </tr>\n  </thead>\n  <tbody>\n    <tr>\n      <th>0</th>\n      <td>x0</td>\n      <td>w0</td>\n      <td>y0</td>\n      <td>NaN</td>\n      <td>NaN</td>\n    </tr>\n    <tr>\n      <th>1</th>\n      <td>x1</td>\n      <td>w1</td>\n      <td>y1</td>\n      <td>NaN</td>\n      <td>NaN</td>\n    </tr>\n    <tr>\n      <th>2</th>\n      <td>x2</td>\n      <td>w2</td>\n      <td>y2</td>\n      <td>z2</td>\n      <td>a2</td>\n    </tr>\n    <tr>\n      <th>3</th>\n      <td>x3</td>\n      <td>w3</td>\n      <td>y3</td>\n      <td>z3</td>\n      <td>a3</td>\n    </tr>\n  </tbody>\n</table>\n</div>"
     },
     "metadata": {},
     "execution_count": 16
    }
   ],
   "source": [
    "pd.merge(df_left, df_right, how='left', on='Y')"
   ]
  },
  {
   "cell_type": "code",
   "execution_count": 17,
   "metadata": {},
   "outputs": [
    {
     "output_type": "execute_result",
     "data": {
      "text/plain": "     X    W   Y   Z   A\n0   x2   w2  y2  z2  a2\n1   x3   w3  y3  z3  a3\n2  NaN  NaN  y4  z4  a4\n3  NaN  NaN  y5  z5  a5",
      "text/html": "<div>\n<style scoped>\n    .dataframe tbody tr th:only-of-type {\n        vertical-align: middle;\n    }\n\n    .dataframe tbody tr th {\n        vertical-align: top;\n    }\n\n    .dataframe thead th {\n        text-align: right;\n    }\n</style>\n<table border=\"1\" class=\"dataframe\">\n  <thead>\n    <tr style=\"text-align: right;\">\n      <th></th>\n      <th>X</th>\n      <th>W</th>\n      <th>Y</th>\n      <th>Z</th>\n      <th>A</th>\n    </tr>\n  </thead>\n  <tbody>\n    <tr>\n      <th>0</th>\n      <td>x2</td>\n      <td>w2</td>\n      <td>y2</td>\n      <td>z2</td>\n      <td>a2</td>\n    </tr>\n    <tr>\n      <th>1</th>\n      <td>x3</td>\n      <td>w3</td>\n      <td>y3</td>\n      <td>z3</td>\n      <td>a3</td>\n    </tr>\n    <tr>\n      <th>2</th>\n      <td>NaN</td>\n      <td>NaN</td>\n      <td>y4</td>\n      <td>z4</td>\n      <td>a4</td>\n    </tr>\n    <tr>\n      <th>3</th>\n      <td>NaN</td>\n      <td>NaN</td>\n      <td>y5</td>\n      <td>z5</td>\n      <td>a5</td>\n    </tr>\n  </tbody>\n</table>\n</div>"
     },
     "metadata": {},
     "execution_count": 17
    }
   ],
   "source": [
    "pd.merge(df_left, df_right, how='right', on='Y')"
   ]
  },
  {
   "cell_type": "code",
   "execution_count": 18,
   "metadata": {},
   "outputs": [
    {
     "output_type": "execute_result",
     "data": {
      "text/plain": "     X    W   Y    Z    A\n0   x0   w0  y0  NaN  NaN\n1   x1   w1  y1  NaN  NaN\n2   x2   w2  y2   z2   a2\n3   x3   w3  y3   z3   a3\n4  NaN  NaN  y4   z4   a4\n5  NaN  NaN  y5   z5   a5",
      "text/html": "<div>\n<style scoped>\n    .dataframe tbody tr th:only-of-type {\n        vertical-align: middle;\n    }\n\n    .dataframe tbody tr th {\n        vertical-align: top;\n    }\n\n    .dataframe thead th {\n        text-align: right;\n    }\n</style>\n<table border=\"1\" class=\"dataframe\">\n  <thead>\n    <tr style=\"text-align: right;\">\n      <th></th>\n      <th>X</th>\n      <th>W</th>\n      <th>Y</th>\n      <th>Z</th>\n      <th>A</th>\n    </tr>\n  </thead>\n  <tbody>\n    <tr>\n      <th>0</th>\n      <td>x0</td>\n      <td>w0</td>\n      <td>y0</td>\n      <td>NaN</td>\n      <td>NaN</td>\n    </tr>\n    <tr>\n      <th>1</th>\n      <td>x1</td>\n      <td>w1</td>\n      <td>y1</td>\n      <td>NaN</td>\n      <td>NaN</td>\n    </tr>\n    <tr>\n      <th>2</th>\n      <td>x2</td>\n      <td>w2</td>\n      <td>y2</td>\n      <td>z2</td>\n      <td>a2</td>\n    </tr>\n    <tr>\n      <th>3</th>\n      <td>x3</td>\n      <td>w3</td>\n      <td>y3</td>\n      <td>z3</td>\n      <td>a3</td>\n    </tr>\n    <tr>\n      <th>4</th>\n      <td>NaN</td>\n      <td>NaN</td>\n      <td>y4</td>\n      <td>z4</td>\n      <td>a4</td>\n    </tr>\n    <tr>\n      <th>5</th>\n      <td>NaN</td>\n      <td>NaN</td>\n      <td>y5</td>\n      <td>z5</td>\n      <td>a5</td>\n    </tr>\n  </tbody>\n</table>\n</div>"
     },
     "metadata": {},
     "execution_count": 18
    }
   ],
   "source": [
    "pd.merge(df_left, df_right, how='outer', on='Y')"
   ]
  }
 ]
}